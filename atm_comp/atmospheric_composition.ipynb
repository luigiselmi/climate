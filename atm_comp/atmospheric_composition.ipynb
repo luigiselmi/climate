{
 "cells": [
  {
   "cell_type": "markdown",
   "id": "5737d2ba-a4e2-47ce-ba20-491cb43ed5f3",
   "metadata": {},
   "source": [
    "# Atmospheric Composition\n",
    "The concentration of several trace gases in the atmosphere is provided in different units: mixing ratio, number density, mass concentration. Therefore it is useful to be able to transform the value among these units in case we need to compare the concentration of variable provided in different units. We start with some definitions regarding trace gases even though the definitions apply to any chemical product. We use symbols and definitions from IUPAC."
   ]
  },
  {
   "cell_type": "markdown",
   "id": "b9e67b1e-c10e-4b72-89b3-3c1d62af88b8",
   "metadata": {},
   "source": [
    "## Definitions"
   ]
  },
  {
   "cell_type": "markdown",
   "id": "4641482f-7c1a-4365-8bc3-fa42a4c82f8f",
   "metadata": {},
   "source": [
    "### Atomic mass constant (or atomic mass unit)\n",
    "The atomic mass constant $m_u$ is 1/12th of the mass in Kg of the Carbon isotop [$^{12}C$](https://en.wikipedia.org/wiki/Carbon-12), so it is close to the mass of a proton or neutron.\n",
    "\n",
    "$$1 m_u =  1.66053906892 \\times 10^{-27} Kg$$  "
   ]
  },
  {
   "cell_type": "code",
   "execution_count": 2,
   "id": "187f2d6e-2007-4aeb-8f78-bae11454b2b1",
   "metadata": {},
   "outputs": [],
   "source": [
    "mu = 1.660539 * 10 ** (-27)"
   ]
  },
  {
   "cell_type": "markdown",
   "id": "cdac9912-177e-484c-be60-4afce841a55d",
   "metadata": {},
   "source": [
    "### Atomic mass\n",
    "The atomic mass $m_x$ of a gas X is the mass in Kg of its atomic units, that is it's nucleons, protons and neutrons. The mass of one atom of $^{12}C$ is $m_{CO_2} = 12 m_u$."
   ]
  },
  {
   "cell_type": "code",
   "execution_count": 17,
   "id": "9fdf2514-80d3-4345-b869-dfba654f3048",
   "metadata": {},
   "outputs": [
    {
     "name": "stdout",
     "output_type": "stream",
     "text": [
      "Atomic mass of CO2: 1.9926467999999997e-26 Kg\n"
     ]
    }
   ],
   "source": [
    "m_co2 = 12 * mu\n",
    "print('Atomic mass of CO2: {} Kg'.format(m_co2))"
   ]
  },
  {
   "cell_type": "markdown",
   "id": "2080e5b3-7b8e-4e9a-9c4e-4773f458a9cd",
   "metadata": {},
   "source": [
    "We can calculate the atomic mass of three trace gases: ozon $O_3$, nitrogen dioxide $NO_2$, and sulphur dioxide $SO_2$. "
   ]
  },
  {
   "cell_type": "markdown",
   "id": "412d0b2a-636c-4784-87b4-63a4d2714455",
   "metadata": {},
   "source": [
    "#### Atomic mass of $O_3$\n",
    "Let's start with $O_3$: it has three atoms of oxygen, that's easy. We know that the most common oxygen isotop $^{16}O$ has same atomic (proton) number Z = 8 and neutron number N = 8. So one oxygen atom weights 16 atomic mass units (amu) and a molecule of ozon weights three times that so 48 amu.   "
   ]
  },
  {
   "cell_type": "code",
   "execution_count": 19,
   "id": "5dcb7b95-da83-4627-a70c-70869033fe83",
   "metadata": {},
   "outputs": [
    {
     "name": "stdout",
     "output_type": "stream",
     "text": [
      "Atomic mass of O3: 7.970587199999999e-26 Kg\n"
     ]
    }
   ],
   "source": [
    "m_o3 = 48 * mu\n",
    "print('Atomic mass of O3: {} Kg'.format(m_o3))"
   ]
  },
  {
   "cell_type": "markdown",
   "id": "0da7d468-eccc-4fef-937a-c1d87c4b3837",
   "metadata": {},
   "source": [
    "#### Atomic mass of $NO_2$\n",
    "This is a little bit more difficult since we have to count three atoms of two different species. We already know the atomic mass of $^{16}O$. The most common nitrogen isotop $^{14}N$ with Z = 7 and N = 7 so its atomic mass is 17 amu and the atomic mass of the nitrogen dioxide is $16 \\times 2 + 17 = 49$ amu    "
   ]
  },
  {
   "cell_type": "code",
   "execution_count": 20,
   "id": "b70155bd-c9dd-4cbc-9abe-64256edb1984",
   "metadata": {},
   "outputs": [
    {
     "name": "stdout",
     "output_type": "stream",
     "text": [
      "Atomic mass of NO2: 8.1366411e-26 Kg\n"
     ]
    }
   ],
   "source": [
    "m_no2 = (16 * 2 + 17) * mu\n",
    "print('Atomic mass of NO2: {} Kg'.format(m_no2))"
   ]
  },
  {
   "cell_type": "markdown",
   "id": "105ddd9a-67d3-44f2-ac6b-a613c3114aaf",
   "metadata": {},
   "source": [
    "#### Atomic mass of $SO_2$\n",
    "Now it's easy. We use the most common isotope of sulphur $^{32}S$. It has atomic number Z = 16 and same neutron number N = 16. So the atomic mass of $SO_2$ is $16 + (16 \\times 2) = 48$ amu"
   ]
  },
  {
   "cell_type": "code",
   "execution_count": 22,
   "id": "d72805a6-7a3f-4692-bb49-7612a409a350",
   "metadata": {},
   "outputs": [
    {
     "name": "stdout",
     "output_type": "stream",
     "text": [
      "Atomic mass of SO2: 7.970587199999999e-26 Kg\n"
     ]
    }
   ],
   "source": [
    "m_so2 = (16 * 2 + 16) * mu\n",
    "print('Atomic mass of SO2: {} Kg'.format(m_so2))"
   ]
  },
  {
   "cell_type": "markdown",
   "id": "63888e56-e80b-40df-9bec-3b0f99cfab19",
   "metadata": {},
   "source": [
    "### Mole\n",
    "A mole $n_x$ of a gas X is the amount of substance that contains an Avogadro number $N_A$ of X atoms or molecules, where $N_A = 6.02214076 \\times 10^{23}$"
   ]
  },
  {
   "cell_type": "code",
   "execution_count": 9,
   "id": "dbb02a27-6ea5-44dc-a3a9-0abb7cdbd7b5",
   "metadata": {},
   "outputs": [],
   "source": [
    "NA = 6.02214076 * 10 ** 23 "
   ]
  },
  {
   "cell_type": "markdown",
   "id": "bd05bb53-2122-4a5e-8f34-97988c2383af",
   "metadata": {},
   "source": [
    "### Molar mass\n",
    "The molar mass $M_x$ of a gas X of mass m is the mass in Kg of one mole of X.\n",
    "\n",
    "$$M_x = \\frac{m}{n_x} $$\n",
    "\n",
    "We can calculate the molar mass of one mole of $^{12}C$ from its atomic mass and the Avogadro number. We have \n",
    "$$M_{CO_2} = m_{CO_2} \\times N_A = 12 \\times m_u \\times N_A$$ "
   ]
  },
  {
   "cell_type": "code",
   "execution_count": 11,
   "id": "2c89f33c-57c4-4598-9aa8-e1cf9a52ebd2",
   "metadata": {},
   "outputs": [
    {
     "name": "stdout",
     "output_type": "stream",
     "text": [
      "Weight in grams of one mole of Carbon: 12.00 g\n"
     ]
    }
   ],
   "source": [
    "M_co2 = m_co2 * NA\n",
    "print('Weight in grams of one mole of Carbon: {:.2f} g'.format(M_co2 * 1000))"
   ]
  },
  {
   "cell_type": "markdown",
   "id": "90417c87-728a-4d55-8c51-2666c898f84b",
   "metadata": {},
   "source": [
    "We can easily calculate the molar mass of the three trace gases from their atomic mass. We start with the molar mass of ozon $O_3$"
   ]
  },
  {
   "cell_type": "code",
   "execution_count": 13,
   "id": "c7c5a74b-8848-4b4a-83e4-3199d73d421d",
   "metadata": {},
   "outputs": [
    {
     "name": "stdout",
     "output_type": "stream",
     "text": [
      "Weight in grams of one mole of Ozon: 48.00 g\n"
     ]
    }
   ],
   "source": [
    "M_o3 = m_o3 * NA \n",
    "print('Weight in grams of one mole of Ozon: {:.2f} g'.format(M_o3 * 1000))"
   ]
  },
  {
   "cell_type": "code",
   "execution_count": 21,
   "id": "d2bee4a3-d0d0-4e14-94bf-b72e1279ffd2",
   "metadata": {},
   "outputs": [
    {
     "name": "stdout",
     "output_type": "stream",
     "text": [
      "Weight in grams of one mole of nitrogen dioxide: 49.00 g\n"
     ]
    }
   ],
   "source": [
    "M_no2 = m_no2 * NA \n",
    "print('Weight in grams of one mole of nitrogen dioxide: {:.2f} g'.format(M_no2 * 1000))"
   ]
  },
  {
   "cell_type": "code",
   "execution_count": 23,
   "id": "edc658bc-e275-440b-b205-8768735472b8",
   "metadata": {},
   "outputs": [
    {
     "name": "stdout",
     "output_type": "stream",
     "text": [
      "Weight in grams of one mole of sulphur dioxide: 48.00 g\n"
     ]
    }
   ],
   "source": [
    "M_so2 = m_so2 * NA \n",
    "print('Weight in grams of one mole of sulphur dioxide: {:.2f} g'.format(M_so2 * 1000))"
   ]
  },
  {
   "cell_type": "markdown",
   "id": "bcc4205f-e660-453c-9bae-4034b800049f",
   "metadata": {},
   "source": [
    "## References\n",
    "* [Mills and al. - Quantities, Units, and Symbols in Physical Chemistry, IUPAC, 2nd Ed.](https://goldbook.iupac.org/files/pdf/green_book_2ed.pdf)\n",
    "* [Jacob - Atmospheric Chemistry](https://acmg.seas.harvard.edu/education/introduction-atmospheric-chemistry)"
   ]
  },
  {
   "cell_type": "code",
   "execution_count": null,
   "id": "04606efa-2c07-4d84-ac8f-aa2d3697e0e2",
   "metadata": {},
   "outputs": [],
   "source": []
  }
 ],
 "metadata": {
  "kernelspec": {
   "display_name": "Python 3 (ipykernel)",
   "language": "python",
   "name": "python3"
  },
  "language_info": {
   "codemirror_mode": {
    "name": "ipython",
    "version": 3
   },
   "file_extension": ".py",
   "mimetype": "text/x-python",
   "name": "python",
   "nbconvert_exporter": "python",
   "pygments_lexer": "ipython3",
   "version": "3.11.5"
  }
 },
 "nbformat": 4,
 "nbformat_minor": 5
}
