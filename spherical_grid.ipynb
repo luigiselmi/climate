{
 "cells": [
  {
   "cell_type": "markdown",
   "id": "101df9ec-88ad-4003-bce1-216ebec44d9b",
   "metadata": {},
   "source": [
    "# Spherical grid\n",
    "Grid visualization on a sphere based on the [Mayavi](https://docs.enthought.com/mayavi/mayavi/index.html) 3D visualization library."
   ]
  },
  {
   "cell_type": "code",
   "execution_count": 42,
   "id": "8a27e435-aa49-4afb-986a-a49a09bc2d53",
   "metadata": {},
   "outputs": [],
   "source": [
    "from numpy import pi, sin, cos, mgrid\n",
    "from collections import namedtuple\n",
    "from mayavi import mlab\n",
    "mlab.options.offscreen = False"
   ]
  },
  {
   "cell_type": "code",
   "execution_count": 53,
   "id": "139fece8-9400-40f7-bbda-ab503fffd0a5",
   "metadata": {},
   "outputs": [],
   "source": [
    "n = 100\n",
    "π = pi\n",
    "ϕ, θ = np.mgrid[0:π:n, 0:2 * π:n]"
   ]
  },
  {
   "cell_type": "code",
   "execution_count": 54,
   "id": "5df579ad-1f1f-45e0-b0ac-144c81c539f5",
   "metadata": {},
   "outputs": [],
   "source": [
    "def make_coor(n):\n",
    "    ϕ, θ = np.mgrid[0:π-0:n, 0:2 * π:n]\n",
    "    Coor = namedtuple('Coor', 'r ϕ θ x y z')\n",
    "    r = 1\n",
    "    x = r * sin(ϕ) * cos(θ)\n",
    "    y = r * sin(ϕ) * sin(θ)\n",
    "    z = r * cos(ϕ)\n",
    "    return Coor(r, ϕ, θ, x, y, z)"
   ]
  },
  {
   "cell_type": "code",
   "execution_count": 55,
   "id": "98e2e80d-941e-4cf1-802f-5f2643bbac21",
   "metadata": {},
   "outputs": [],
   "source": [
    "pts=make_coor(15j)\n",
    "\n",
    "mlab.figure()\n",
    "mlab.points3d(pts.x, pts.y, pts.z, scale_factor=0.1)\n",
    "mlab.mesh(pts.x, pts.y, pts.z)\n",
    "mlab.show()"
   ]
  }
 ],
 "metadata": {
  "kernelspec": {
   "display_name": "Python 3 (ipykernel)",
   "language": "python",
   "name": "python3"
  },
  "language_info": {
   "codemirror_mode": {
    "name": "ipython",
    "version": 3
   },
   "file_extension": ".py",
   "mimetype": "text/x-python",
   "name": "python",
   "nbconvert_exporter": "python",
   "pygments_lexer": "ipython3",
   "version": "3.12.5"
  }
 },
 "nbformat": 4,
 "nbformat_minor": 5
}
