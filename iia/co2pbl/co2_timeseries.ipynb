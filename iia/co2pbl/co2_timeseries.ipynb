{
 "cells": [
  {
   "cell_type": "markdown",
   "id": "ed09ae28-2ad4-431a-bd83-4afcf15f0673",
   "metadata": {},
   "source": [
    "# Montelibretti $CO_2$ time series\n",
    "The $CO_2$ concentration is produced by a [Picarro Analyzer](https://www.picarro.com/products/gas_concentration_analyzers/carbon_dioxide_co2) installed in the CNR research area of Montelibretti (RM)."
   ]
  },
  {
   "cell_type": "code",
   "execution_count": 2,
   "id": "cff7f17f-08b5-4d01-a396-03c5043eb316",
   "metadata": {},
   "outputs": [
    {
     "name": "stdout",
     "output_type": "stream",
     "text": [
      "numpy version: 1.26.4\n",
      "pandas version: 2.2.2\n",
      "matplotlib version: 3.8.4\n"
     ]
    }
   ],
   "source": [
    "import numpy as np\n",
    "import pandas as pd\n",
    "import matplotlib as mpl\n",
    "import matplotlib.pyplot as plt\n",
    "from matplotlib.pyplot import figure\n",
    "import matplotlib.dates as mdates\n",
    "from matplotlib import dates\n",
    "import warnings\n",
    "warnings.filterwarnings('ignore')\n",
    "print(\"numpy version: %s\"%np.__version__)\n",
    "print(\"pandas version: %s\"%pd.__version__)\n",
    "print(\"matplotlib version: %s\"%mpl.__version__)"
   ]
  },
  {
   "cell_type": "markdown",
   "id": "112ff1b4-18e7-43d7-a7c4-1b5393337ee2",
   "metadata": {},
   "source": [
    "## The Picarro dataset"
   ]
  },
  {
   "cell_type": "code",
   "execution_count": 5,
   "id": "4a2d644d-161c-4c1e-9b6c-d5195e31b7e7",
   "metadata": {},
   "outputs": [],
   "source": [
    "picarro_df = pd.read_excel('data/picarro_minutely.xlsx')"
   ]
  },
  {
   "cell_type": "code",
   "execution_count": 7,
   "id": "f48389c3-09e8-4d6c-8e36-36a225de38e6",
   "metadata": {},
   "outputs": [
    {
     "data": {
      "text/html": [
       "<div>\n",
       "<style scoped>\n",
       "    .dataframe tbody tr th:only-of-type {\n",
       "        vertical-align: middle;\n",
       "    }\n",
       "\n",
       "    .dataframe tbody tr th {\n",
       "        vertical-align: top;\n",
       "    }\n",
       "\n",
       "    .dataframe thead th {\n",
       "        text-align: right;\n",
       "    }\n",
       "</style>\n",
       "<table border=\"1\" class=\"dataframe\">\n",
       "  <thead>\n",
       "    <tr style=\"text-align: right;\">\n",
       "      <th></th>\n",
       "      <th>Time</th>\n",
       "      <th>CH4</th>\n",
       "      <th>CH4_dry</th>\n",
       "      <th>CO2</th>\n",
       "      <th>CO2_dry</th>\n",
       "      <th>H2O</th>\n",
       "      <th>h2o_reported</th>\n",
       "    </tr>\n",
       "  </thead>\n",
       "  <tbody>\n",
       "    <tr>\n",
       "      <th>0</th>\n",
       "      <td>2023-06-08 11:22:00</td>\n",
       "      <td>1.945788</td>\n",
       "      <td>1.989567</td>\n",
       "      <td>406.688497</td>\n",
       "      <td>417.951100</td>\n",
       "      <td>1.714517</td>\n",
       "      <td>1.645709</td>\n",
       "    </tr>\n",
       "    <tr>\n",
       "      <th>1</th>\n",
       "      <td>2023-06-08 11:23:00</td>\n",
       "      <td>1.946628</td>\n",
       "      <td>1.989451</td>\n",
       "      <td>407.938034</td>\n",
       "      <td>418.978307</td>\n",
       "      <td>1.677644</td>\n",
       "      <td>1.612259</td>\n",
       "    </tr>\n",
       "    <tr>\n",
       "      <th>2</th>\n",
       "      <td>2023-06-08 11:24:00</td>\n",
       "      <td>1.946999</td>\n",
       "      <td>1.989701</td>\n",
       "      <td>407.908749</td>\n",
       "      <td>418.916785</td>\n",
       "      <td>1.671803</td>\n",
       "      <td>1.606928</td>\n",
       "    </tr>\n",
       "    <tr>\n",
       "      <th>3</th>\n",
       "      <td>2023-06-08 11:25:00</td>\n",
       "      <td>1.946900</td>\n",
       "      <td>1.989730</td>\n",
       "      <td>407.580503</td>\n",
       "      <td>418.621114</td>\n",
       "      <td>1.676941</td>\n",
       "      <td>1.611602</td>\n",
       "    </tr>\n",
       "    <tr>\n",
       "      <th>4</th>\n",
       "      <td>2023-06-08 11:26:00</td>\n",
       "      <td>1.944438</td>\n",
       "      <td>1.989896</td>\n",
       "      <td>405.337447</td>\n",
       "      <td>417.010065</td>\n",
       "      <td>1.782102</td>\n",
       "      <td>1.706881</td>\n",
       "    </tr>\n",
       "  </tbody>\n",
       "</table>\n",
       "</div>"
      ],
      "text/plain": [
       "                 Time       CH4   CH4_dry         CO2     CO2_dry       H2O  \\\n",
       "0 2023-06-08 11:22:00  1.945788  1.989567  406.688497  417.951100  1.714517   \n",
       "1 2023-06-08 11:23:00  1.946628  1.989451  407.938034  418.978307  1.677644   \n",
       "2 2023-06-08 11:24:00  1.946999  1.989701  407.908749  418.916785  1.671803   \n",
       "3 2023-06-08 11:25:00  1.946900  1.989730  407.580503  418.621114  1.676941   \n",
       "4 2023-06-08 11:26:00  1.944438  1.989896  405.337447  417.010065  1.782102   \n",
       "\n",
       "   h2o_reported  \n",
       "0      1.645709  \n",
       "1      1.612259  \n",
       "2      1.606928  \n",
       "3      1.611602  \n",
       "4      1.706881  "
      ]
     },
     "execution_count": 7,
     "metadata": {},
     "output_type": "execute_result"
    }
   ],
   "source": [
    "picarro_df.head()"
   ]
  },
  {
   "cell_type": "markdown",
   "id": "f016fa9d-2bd0-4dac-93d2-b1b7665f5a58",
   "metadata": {},
   "source": [
    "We want to resample the data from minutes to hours. We first need to use the time as the index of the dataframe"
   ]
  },
  {
   "cell_type": "code",
   "execution_count": 10,
   "id": "f5d3c27b-2dca-4452-9538-65971dbbe837",
   "metadata": {},
   "outputs": [],
   "source": [
    "time_index = pd.to_datetime(picarro_df['Time'])\n",
    "picarro_df.drop('Time', axis=1, inplace=True)"
   ]
  },
  {
   "cell_type": "code",
   "execution_count": 12,
   "id": "e08c7160-9181-4d57-aa34-f473981491e9",
   "metadata": {},
   "outputs": [],
   "source": [
    "picarro_time_index_df = picarro_df.set_index(time_index)"
   ]
  },
  {
   "cell_type": "code",
   "execution_count": 14,
   "id": "9fd5069b-1213-4f96-bb30-f06d99318a64",
   "metadata": {},
   "outputs": [
    {
     "data": {
      "text/html": [
       "<div>\n",
       "<style scoped>\n",
       "    .dataframe tbody tr th:only-of-type {\n",
       "        vertical-align: middle;\n",
       "    }\n",
       "\n",
       "    .dataframe tbody tr th {\n",
       "        vertical-align: top;\n",
       "    }\n",
       "\n",
       "    .dataframe thead th {\n",
       "        text-align: right;\n",
       "    }\n",
       "</style>\n",
       "<table border=\"1\" class=\"dataframe\">\n",
       "  <thead>\n",
       "    <tr style=\"text-align: right;\">\n",
       "      <th></th>\n",
       "      <th>CH4</th>\n",
       "      <th>CH4_dry</th>\n",
       "      <th>CO2</th>\n",
       "      <th>CO2_dry</th>\n",
       "      <th>H2O</th>\n",
       "      <th>h2o_reported</th>\n",
       "    </tr>\n",
       "    <tr>\n",
       "      <th>Time</th>\n",
       "      <th></th>\n",
       "      <th></th>\n",
       "      <th></th>\n",
       "      <th></th>\n",
       "      <th></th>\n",
       "      <th></th>\n",
       "    </tr>\n",
       "  </thead>\n",
       "  <tbody>\n",
       "    <tr>\n",
       "      <th>2023-06-08 11:22:00</th>\n",
       "      <td>1.945788</td>\n",
       "      <td>1.989567</td>\n",
       "      <td>406.688497</td>\n",
       "      <td>417.951100</td>\n",
       "      <td>1.714517</td>\n",
       "      <td>1.645709</td>\n",
       "    </tr>\n",
       "    <tr>\n",
       "      <th>2023-06-08 11:23:00</th>\n",
       "      <td>1.946628</td>\n",
       "      <td>1.989451</td>\n",
       "      <td>407.938034</td>\n",
       "      <td>418.978307</td>\n",
       "      <td>1.677644</td>\n",
       "      <td>1.612259</td>\n",
       "    </tr>\n",
       "    <tr>\n",
       "      <th>2023-06-08 11:24:00</th>\n",
       "      <td>1.946999</td>\n",
       "      <td>1.989701</td>\n",
       "      <td>407.908749</td>\n",
       "      <td>418.916785</td>\n",
       "      <td>1.671803</td>\n",
       "      <td>1.606928</td>\n",
       "    </tr>\n",
       "    <tr>\n",
       "      <th>2023-06-08 11:25:00</th>\n",
       "      <td>1.946900</td>\n",
       "      <td>1.989730</td>\n",
       "      <td>407.580503</td>\n",
       "      <td>418.621114</td>\n",
       "      <td>1.676941</td>\n",
       "      <td>1.611602</td>\n",
       "    </tr>\n",
       "    <tr>\n",
       "      <th>2023-06-08 11:26:00</th>\n",
       "      <td>1.944438</td>\n",
       "      <td>1.989896</td>\n",
       "      <td>405.337447</td>\n",
       "      <td>417.010065</td>\n",
       "      <td>1.782102</td>\n",
       "      <td>1.706881</td>\n",
       "    </tr>\n",
       "  </tbody>\n",
       "</table>\n",
       "</div>"
      ],
      "text/plain": [
       "                          CH4   CH4_dry         CO2     CO2_dry       H2O  \\\n",
       "Time                                                                        \n",
       "2023-06-08 11:22:00  1.945788  1.989567  406.688497  417.951100  1.714517   \n",
       "2023-06-08 11:23:00  1.946628  1.989451  407.938034  418.978307  1.677644   \n",
       "2023-06-08 11:24:00  1.946999  1.989701  407.908749  418.916785  1.671803   \n",
       "2023-06-08 11:25:00  1.946900  1.989730  407.580503  418.621114  1.676941   \n",
       "2023-06-08 11:26:00  1.944438  1.989896  405.337447  417.010065  1.782102   \n",
       "\n",
       "                     h2o_reported  \n",
       "Time                               \n",
       "2023-06-08 11:22:00      1.645709  \n",
       "2023-06-08 11:23:00      1.612259  \n",
       "2023-06-08 11:24:00      1.606928  \n",
       "2023-06-08 11:25:00      1.611602  \n",
       "2023-06-08 11:26:00      1.706881  "
      ]
     },
     "execution_count": 14,
     "metadata": {},
     "output_type": "execute_result"
    }
   ],
   "source": [
    "picarro_time_index_df.head()"
   ]
  },
  {
   "cell_type": "code",
   "execution_count": 16,
   "id": "799c6a64-3615-45c9-90a3-a8c896ed18db",
   "metadata": {},
   "outputs": [
    {
     "data": {
      "text/html": [
       "<div>\n",
       "<style scoped>\n",
       "    .dataframe tbody tr th:only-of-type {\n",
       "        vertical-align: middle;\n",
       "    }\n",
       "\n",
       "    .dataframe tbody tr th {\n",
       "        vertical-align: top;\n",
       "    }\n",
       "\n",
       "    .dataframe thead th {\n",
       "        text-align: right;\n",
       "    }\n",
       "</style>\n",
       "<table border=\"1\" class=\"dataframe\">\n",
       "  <thead>\n",
       "    <tr style=\"text-align: right;\">\n",
       "      <th></th>\n",
       "      <th>CO2_dry</th>\n",
       "    </tr>\n",
       "    <tr>\n",
       "      <th>Time</th>\n",
       "      <th></th>\n",
       "    </tr>\n",
       "  </thead>\n",
       "  <tbody>\n",
       "    <tr>\n",
       "      <th>2023-06-08 11:22:00</th>\n",
       "      <td>417.951100</td>\n",
       "    </tr>\n",
       "    <tr>\n",
       "      <th>2023-06-08 11:23:00</th>\n",
       "      <td>418.978307</td>\n",
       "    </tr>\n",
       "    <tr>\n",
       "      <th>2023-06-08 11:24:00</th>\n",
       "      <td>418.916785</td>\n",
       "    </tr>\n",
       "    <tr>\n",
       "      <th>2023-06-08 11:25:00</th>\n",
       "      <td>418.621114</td>\n",
       "    </tr>\n",
       "    <tr>\n",
       "      <th>2023-06-08 11:26:00</th>\n",
       "      <td>417.010065</td>\n",
       "    </tr>\n",
       "  </tbody>\n",
       "</table>\n",
       "</div>"
      ],
      "text/plain": [
       "                        CO2_dry\n",
       "Time                           \n",
       "2023-06-08 11:22:00  417.951100\n",
       "2023-06-08 11:23:00  418.978307\n",
       "2023-06-08 11:24:00  418.916785\n",
       "2023-06-08 11:25:00  418.621114\n",
       "2023-06-08 11:26:00  417.010065"
      ]
     },
     "execution_count": 16,
     "metadata": {},
     "output_type": "execute_result"
    }
   ],
   "source": [
    "co2_df = picarro_time_index_df.drop(['CH4', 'CH4_dry', 'CO2', 'H2O', 'h2o_reported'], axis=1)\n",
    "co2_df.head()"
   ]
  },
  {
   "cell_type": "markdown",
   "id": "3eeab01b-79c1-4644-936c-4ee2b17b8850",
   "metadata": {},
   "source": [
    "## Resampling\n",
    "We resample, more precisely downsample, the records from minutes to hours. The hourly value is the mean value of the minute values within each hour."
   ]
  },
  {
   "cell_type": "code",
   "execution_count": 21,
   "id": "cfde982e-5b04-4fce-8b5c-e7b4edbd1aa6",
   "metadata": {},
   "outputs": [
    {
     "data": {
      "text/html": [
       "<div>\n",
       "<style scoped>\n",
       "    .dataframe tbody tr th:only-of-type {\n",
       "        vertical-align: middle;\n",
       "    }\n",
       "\n",
       "    .dataframe tbody tr th {\n",
       "        vertical-align: top;\n",
       "    }\n",
       "\n",
       "    .dataframe thead th {\n",
       "        text-align: right;\n",
       "    }\n",
       "</style>\n",
       "<table border=\"1\" class=\"dataframe\">\n",
       "  <thead>\n",
       "    <tr style=\"text-align: right;\">\n",
       "      <th></th>\n",
       "      <th>CO2_dry</th>\n",
       "    </tr>\n",
       "    <tr>\n",
       "      <th>Time</th>\n",
       "      <th></th>\n",
       "    </tr>\n",
       "  </thead>\n",
       "  <tbody>\n",
       "    <tr>\n",
       "      <th>2023-06-08 11:00:00</th>\n",
       "      <td>419.430160</td>\n",
       "    </tr>\n",
       "    <tr>\n",
       "      <th>2023-06-08 12:00:00</th>\n",
       "      <td>421.598710</td>\n",
       "    </tr>\n",
       "    <tr>\n",
       "      <th>2023-06-08 13:00:00</th>\n",
       "      <td>418.990947</td>\n",
       "    </tr>\n",
       "    <tr>\n",
       "      <th>2023-06-08 14:00:00</th>\n",
       "      <td>417.442359</td>\n",
       "    </tr>\n",
       "    <tr>\n",
       "      <th>2023-06-08 15:00:00</th>\n",
       "      <td>416.346272</td>\n",
       "    </tr>\n",
       "  </tbody>\n",
       "</table>\n",
       "</div>"
      ],
      "text/plain": [
       "                        CO2_dry\n",
       "Time                           \n",
       "2023-06-08 11:00:00  419.430160\n",
       "2023-06-08 12:00:00  421.598710\n",
       "2023-06-08 13:00:00  418.990947\n",
       "2023-06-08 14:00:00  417.442359\n",
       "2023-06-08 15:00:00  416.346272"
      ]
     },
     "execution_count": 21,
     "metadata": {},
     "output_type": "execute_result"
    }
   ],
   "source": [
    "co2_hour_df = co2_df.resample('H').mean()\n",
    "co2_hour_df.head()"
   ]
  },
  {
   "cell_type": "markdown",
   "id": "3d7e1977-9382-4b80-b258-240d3ab9fbd9",
   "metadata": {},
   "source": [
    "## $CO_2$ time series visualization"
   ]
  },
  {
   "cell_type": "code",
   "execution_count": 24,
   "id": "a274e86d-66e1-4103-9672-3fdad7587dc7",
   "metadata": {},
   "outputs": [
    {
     "data": {
      "image/png": "[encoded data removed]",
      "text/plain": [
       "<Figure size 1000x500 with 1 Axes>"
      ]
     },
     "metadata": {},
     "output_type": "display_data"
    }
   ],
   "source": [
    "fig, ax = plt.subplots(figsize=(10,5))\n",
    "ax.grid(True)\n",
    "ax.set_title('CO2 Time Series')\n",
    "ax.set_ylabel('Concentration (ppm)')\n",
    "ax.set_xlabel('Time')\n",
    "ax.set_xticks(co2_hour_df.index)\n",
    "ax.set_xticklabels(co2_hour_df.index, rotation=70)\n",
    "ax.xaxis.set_major_locator(dates.YearLocator(10))\n",
    "ax.xaxis.set_major_formatter(mdates.DateFormatter('%Y'))\n",
    "co2_plt = ax.plot(co2_hour_df, linewidth=0.8, color='blue')"
   ]
  },
  {
   "cell_type": "code",
   "execution_count": null,
   "id": "846604ee-4d99-40eb-bdc4-8a562b541e7f",
   "metadata": {},
   "outputs": [],
   "source": []
  }
 ],
 "metadata": {
  "kernelspec": {
   "display_name": "Python 3 (ipykernel)",
   "language": "python",
   "name": "python3"
  },
  "language_info": {
   "codemirror_mode": {
    "name": "ipython",
    "version": 3
   },
   "file_extension": ".py",
   "mimetype": "text/x-python",
   "name": "python",
   "nbconvert_exporter": "python",
   "pygments_lexer": "ipython3",
   "version": "3.12.3"
  }
 },
 "nbformat": 4,
 "nbformat_minor": 5
}
