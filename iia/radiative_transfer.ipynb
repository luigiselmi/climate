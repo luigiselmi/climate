{
 "cells": [
  {
   "cell_type": "markdown",
   "id": "6e0b0f7c-eb94-4861-82fd-f9f83f28aa84",
   "metadata": {},
   "source": [
    "# Radiative transfer\n",
    "This notebook is based on the paper by Korkin et al. [\"A practical guide to writing a radiative transfer code\"](https://ui.adsabs.harvard.edu/abs/2022CoPhC.27108198K/abstract)"
   ]
  },
  {
   "cell_type": "code",
   "execution_count": 2,
   "id": "e8da1315-da17-4782-a332-3269c8e3890e",
   "metadata": {},
   "outputs": [],
   "source": [
    "import numpy as np\n",
    "from numba import jit"
   ]
  },
  {
   "cell_type": "code",
   "execution_count": 13,
   "id": "9a994e0a-86dd-4ba3-a8be-6a6d50b4d47f",
   "metadata": {},
   "outputs": [],
   "source": [
    "@jit(nopython=True, cache=True)\n",
    "def gauss_zeroes_weights(x1, x2, n):\n",
    "    const_yeps = 3.0e-14\n",
    "    x = np.zeros(n)\n",
    "    w = np.zeros(n)\n",
    "    m = int((n+1)/2)\n",
    "    yxm = 0.5 * (x2 + x1)\n",
    "    yxl = 0.5 * (x2 - x1)\n",
    "    for i in range(m):\n",
    "        yz = np.cos(np.pi*(i + 0.75)/(n + 0.5))\n",
    "        while True:\n",
    "            yp1 = 1.0\n",
    "            yp2 = 0.0\n",
    "            for j in range(n):\n",
    "                yp3 = yp2\n",
    "                yp2 = yp1\n",
    "                yp1 = ((2.0 * j + 1.0)* yz * yp2 - j * yp3)/(j + 1)\n",
    "            ypp = n * (yz * yp1 - yp2)/(yz * yz - 1.0)\n",
    "            yz1 = yz\n",
    "            yz = yz1 - yp1/ypp\n",
    "            if (np.abs(yz - yz1) < const_yeps):\n",
    "                break # exit while loop\n",
    "        x[i] = yxm - yz * yxl\n",
    "        x[n-1-i] = yxm + yxl * yz\n",
    "        w[i] = 2.0*yxl/((1.0 - yz * yz) * ypp * ypp)\n",
    "        w[n-1-i] = w[i]\n",
    "    return x, w"
   ]
  },
  {
   "cell_type": "code",
   "execution_count": 14,
   "id": "78bc606b-c601-419a-a11f-0285f93853a2",
   "metadata": {},
   "outputs": [],
   "source": [
    "x1 = 0.0\n",
    "x2 = 1.0\n",
    "n = 20 \n",
    "x, w = gauss_zeroes_weights(x1, x2, n)"
   ]
  },
  {
   "cell_type": "code",
   "execution_count": 15,
   "id": "fb7fe26f-c6bf-4abd-9c2d-930dec0ea2e0",
   "metadata": {},
   "outputs": [
    {
     "data": {
      "text/plain": [
       "array([0.0034357 , 0.01801404, 0.04388279, 0.08044151, 0.12683405,\n",
       "       0.18197316, 0.2445665 , 0.31314696, 0.38610707, 0.46173674,\n",
       "       0.53826326, 0.61389293, 0.68685304, 0.7554335 , 0.81802684,\n",
       "       0.87316595, 0.91955849, 0.95611721, 0.98198596, 0.9965643 ])"
      ]
     },
     "execution_count": 15,
     "metadata": {},
     "output_type": "execute_result"
    }
   ],
   "source": [
    "x"
   ]
  },
  {
   "cell_type": "code",
   "execution_count": 16,
   "id": "78c2a84c-9de6-40e7-a288-dbe625d11759",
   "metadata": {},
   "outputs": [
    {
     "data": {
      "text/plain": [
       "array([0.008807  , 0.02030071, 0.03133602, 0.04163837, 0.05096506,\n",
       "       0.05909727, 0.06584432, 0.07104805, 0.07458649, 0.07637669,\n",
       "       0.07637669, 0.07458649, 0.07104805, 0.06584432, 0.05909727,\n",
       "       0.05096506, 0.04163837, 0.03133602, 0.02030071, 0.008807  ])"
      ]
     },
     "execution_count": 16,
     "metadata": {},
     "output_type": "execute_result"
    }
   ],
   "source": [
    "w"
   ]
  },
  {
   "cell_type": "markdown",
   "id": "3108a1a4-d2c3-4694-9823-0ae433afa0a2",
   "metadata": {},
   "source": [
    "## References\n",
    "* [Schmidt - Learning from a simple model](https://www.realclimate.org/index.php/archives/2007/04/learning-from-a-simple-model/)\n",
    "* [Stull - Practical Meteorology (ch.2 and 8)](https://www.eoas.ubc.ca/books/Practical_Meteorology/)\n",
    "* [Zdunkowski - Radiation in the Atmosphere - A Course in Theoretical Meteorology](https://www.cambridge.org/core/books/radiation-in-the-atmosphere/699E7D2AE832A34874D9E13AD5F6D4D6)\n",
    "* [Chandrasekhar - Radiative Transfer](https://www.amazon.com/Radiative-Transfer-Dover-Books-Physics-ebook/dp/B00BX1DVMO)\n",
    "* [Wallace, Hobbs - Atmospheric Science - An Introductory Survey, 2nd Edition, (chap.4)](https://www.amazon.it/Atmospheric-Science-Introductory-John-Wallace/dp/012732951X#)\n",
    "* [Petty - A First Course in Atmospheric Radiation, 2nd Edition, (chap.7 and 8)](https://www.amazon.com/First-Course-Atmospheric-Radiation-2nd/dp/0972903313)\n",
    "* [Visconti - Fundamentals of Physics and Chemistry of the Atmosphere, 2nd Edition, (chap.2)](https://link.springer.com/book/10.1007/978-3-319-29449-0)"
   ]
  },
  {
   "cell_type": "code",
   "execution_count": null,
   "id": "84572b88-6a4e-4713-9c30-2f9f8977d43a",
   "metadata": {},
   "outputs": [],
   "source": []
  }
 ],
 "metadata": {
  "kernelspec": {
   "display_name": "Python 3 (ipykernel)",
   "language": "python",
   "name": "python3"
  },
  "language_info": {
   "codemirror_mode": {
    "name": "ipython",
    "version": 3
   },
   "file_extension": ".py",
   "mimetype": "text/x-python",
   "name": "python",
   "nbconvert_exporter": "python",
   "pygments_lexer": "ipython3",
   "version": "3.12.5"
  }
 },
 "nbformat": 4,
 "nbformat_minor": 5
}
