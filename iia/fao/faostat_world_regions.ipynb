{
 "cells": [
  {
   "cell_type": "markdown",
   "id": "bf50a739-9f4c-4ffe-9530-1281215907e5",
   "metadata": {},
   "source": [
    "# Faostat world regions\n",
    "We collect the data about crops yields (maiye, millet and others) that will be used as predictands of our model, and of some predictors (temperature anomalies, precipitations, fertilizers). The data is provided for each of the 5 contitnents. Africa, Asia, America, Europe, Oceania. "
   ]
  },
  {
   "cell_type": "code",
   "execution_count": 1,
   "id": "13976a60-393a-42dc-8735-429e93692952",
   "metadata": {},
   "outputs": [
    {
     "name": "stdout",
     "output_type": "stream",
     "text": [
      "Python version: 3.11.5\n",
      "NumPy version: 1.25.2\n",
      "Pandas version: 2.1.1\n",
      "GDAL version: 3.7.2\n",
      "GeoPandas version: 0.14.0\n"
     ]
    }
   ],
   "source": [
    "import pandas as pd\n",
    "import numpy as np\n",
    "import math\n",
    "import matplotlib.pyplot as plt\n",
    "from matplotlib import dates\n",
    "import matplotlib.dates as mdates\n",
    "from osgeo import gdal, osr, ogr\n",
    "import geopandas as gpd\n",
    "from shapely.geometry import Point\n",
    "from sklearn.metrics import mean_squared_error, mean_absolute_error\n",
    "from statsmodels.graphics.tsaplots import plot_acf, plot_pacf\n",
    "from statsmodels.tsa.seasonal import seasonal_decompose, STL\n",
    "from statsmodels.stats.diagnostic import acorr_ljungbox\n",
    "from statsmodels.tsa.statespace.sarimax import SARIMAX\n",
    "from statsmodels.tsa.arima_process import ArmaProcess\n",
    "from statsmodels.graphics.gofplots import qqplot\n",
    "from statsmodels.tsa.stattools import adfuller\n",
    "from tqdm import tqdm_notebook\n",
    "from itertools import product\n",
    "from typing import Union\n",
    "import warnings\n",
    "warnings.filterwarnings('ignore')\n",
    "from platform import python_version\n",
    "print(\"Python version: %s\"%python_version())\n",
    "print(\"NumPy version: %s\"%np.__version__)\n",
    "print(\"Pandas version: %s\"%pd.__version__)\n",
    "print('GDAL version: %s'%gdal.__version__)\n",
    "print(\"GeoPandas version: %s\"%gpd.__version__)"
   ]
  },
  {
   "cell_type": "markdown",
   "id": "3d2c2feb-0e78-4f76-9c66-f9e450aacfc7",
   "metadata": {},
   "source": [
    "## Time series\n",
    "The data for predictands and predictors are available as yearly time series so we define a time index that will be used for all of them  "
   ]
  },
  {
   "cell_type": "code",
   "execution_count": 28,
   "id": "14933200-8b0f-40fb-b227-af3ac44a129c",
   "metadata": {},
   "outputs": [
    {
     "name": "stdout",
     "output_type": "stream",
     "text": [
      "Start: 1961-12-31 00:00:00\n",
      "End: 2022-12-31 00:00:00\n"
     ]
    }
   ],
   "source": [
    "year_index = pd.date_range('1961', '2023', freq='Y')\n",
    "print('Start: {}\\nEnd: {}'.format(year_index[0], year_index[len(year_index) - 1]))"
   ]
  },
  {
   "cell_type": "markdown",
   "id": "7c3cf740-444e-415a-a170-3ccd9a22136a",
   "metadata": {},
   "source": [
    "## Maize yield"
   ]
  },
  {
   "cell_type": "code",
   "execution_count": 35,
   "id": "a4dd59aa-2e7c-4658-9283-b38ff7ef57e2",
   "metadata": {},
   "outputs": [
    {
     "data": {
      "text/plain": [
       "(310, 3)"
      ]
     },
     "execution_count": 35,
     "metadata": {},
     "output_type": "execute_result"
    }
   ],
   "source": [
    "path_maize_dataset = 'data/FAOSTAT_maize_world_regions.csv'\n",
    "maize_yield_world_regions_tmp_df = pd.read_csv(path_maize_dataset, usecols=['Area', 'Year', 'Value'])\n",
    "maize_yield_world_regions_tmp_df.shape"
   ]
  },
  {
   "cell_type": "code",
   "execution_count": 44,
   "id": "93a5ca16-1a7d-4580-a589-92a9df636d0e",
   "metadata": {},
   "outputs": [
    {
     "data": {
      "text/html": [
       "<div>\n",
       "<style scoped>\n",
       "    .dataframe tbody tr th:only-of-type {\n",
       "        vertical-align: middle;\n",
       "    }\n",
       "\n",
       "    .dataframe tbody tr th {\n",
       "        vertical-align: top;\n",
       "    }\n",
       "\n",
       "    .dataframe thead th {\n",
       "        text-align: right;\n",
       "    }\n",
       "</style>\n",
       "<table border=\"1\" class=\"dataframe\">\n",
       "  <thead>\n",
       "    <tr style=\"text-align: right;\">\n",
       "      <th></th>\n",
       "      <th>Area</th>\n",
       "      <th>Year</th>\n",
       "      <th>Value</th>\n",
       "    </tr>\n",
       "  </thead>\n",
       "  <tbody>\n",
       "    <tr>\n",
       "      <th>0</th>\n",
       "      <td>Africa</td>\n",
       "      <td>1961</td>\n",
       "      <td>10444</td>\n",
       "    </tr>\n",
       "    <tr>\n",
       "      <th>1</th>\n",
       "      <td>Africa</td>\n",
       "      <td>1962</td>\n",
       "      <td>11112</td>\n",
       "    </tr>\n",
       "  </tbody>\n",
       "</table>\n",
       "</div>"
      ],
      "text/plain": [
       "     Area  Year  Value\n",
       "0  Africa  1961  10444\n",
       "1  Africa  1962  11112"
      ]
     },
     "execution_count": 44,
     "metadata": {},
     "output_type": "execute_result"
    }
   ],
   "source": [
    "maize_yield_world_regions_tmp_df.head(2)"
   ]
  },
  {
   "cell_type": "code",
   "execution_count": 47,
   "id": "ce7a6f3b-8d37-4b66-b289-301b78e0e27c",
   "metadata": {},
   "outputs": [
    {
     "data": {
      "text/html": [
       "<div>\n",
       "<style scoped>\n",
       "    .dataframe tbody tr th:only-of-type {\n",
       "        vertical-align: middle;\n",
       "    }\n",
       "\n",
       "    .dataframe tbody tr th {\n",
       "        vertical-align: top;\n",
       "    }\n",
       "\n",
       "    .dataframe thead th {\n",
       "        text-align: right;\n",
       "    }\n",
       "</style>\n",
       "<table border=\"1\" class=\"dataframe\">\n",
       "  <thead>\n",
       "    <tr style=\"text-align: right;\">\n",
       "      <th></th>\n",
       "      <th>Value</th>\n",
       "    </tr>\n",
       "  </thead>\n",
       "  <tbody>\n",
       "    <tr>\n",
       "      <th>1961-12-31</th>\n",
       "      <td>10444</td>\n",
       "    </tr>\n",
       "    <tr>\n",
       "      <th>1962-12-31</th>\n",
       "      <td>11112</td>\n",
       "    </tr>\n",
       "  </tbody>\n",
       "</table>\n",
       "</div>"
      ],
      "text/plain": [
       "            Value\n",
       "1961-12-31  10444\n",
       "1962-12-31  11112"
      ]
     },
     "execution_count": 47,
     "metadata": {},
     "output_type": "execute_result"
    }
   ],
   "source": [
    "maize_yield_africa_tmp_df = maize_yield_world_regions_tmp_df[maize_yield_world_regions_tmp_df['Area']=='Africa']\n",
    "maize_yield_africa_tmp_df.drop('Area', axis=1, inplace=True)\n",
    "maize_yield_africa_tmp_df.set_index(year_index, inplace=True)\n",
    "maize_yield_africa_tmp_df.drop('Year', axis=1, inplace=True)\n",
    "maize_yield_africa_tmp_df.head(2)"
   ]
  },
  {
   "cell_type": "code",
   "execution_count": 48,
   "id": "f876ee90-b3eb-4cf4-9e9f-31bf50c1859f",
   "metadata": {},
   "outputs": [
    {
     "data": {
      "text/html": [
       "<div>\n",
       "<style scoped>\n",
       "    .dataframe tbody tr th:only-of-type {\n",
       "        vertical-align: middle;\n",
       "    }\n",
       "\n",
       "    .dataframe tbody tr th {\n",
       "        vertical-align: top;\n",
       "    }\n",
       "\n",
       "    .dataframe thead th {\n",
       "        text-align: right;\n",
       "    }\n",
       "</style>\n",
       "<table border=\"1\" class=\"dataframe\">\n",
       "  <thead>\n",
       "    <tr style=\"text-align: right;\">\n",
       "      <th></th>\n",
       "      <th>Value</th>\n",
       "    </tr>\n",
       "  </thead>\n",
       "  <tbody>\n",
       "    <tr>\n",
       "      <th>1961-12-31</th>\n",
       "      <td>26789</td>\n",
       "    </tr>\n",
       "    <tr>\n",
       "      <th>1962-12-31</th>\n",
       "      <td>27199</td>\n",
       "    </tr>\n",
       "  </tbody>\n",
       "</table>\n",
       "</div>"
      ],
      "text/plain": [
       "            Value\n",
       "1961-12-31  26789\n",
       "1962-12-31  27199"
      ]
     },
     "execution_count": 48,
     "metadata": {},
     "output_type": "execute_result"
    }
   ],
   "source": [
    "maize_yield_americas_tmp_df = maize_yield_world_regions_tmp_df[maize_yield_world_regions_tmp_df['Area']=='Americas']\n",
    "maize_yield_americas_tmp_df.drop('Area', axis=1, inplace=True)\n",
    "maize_yield_americas_tmp_df.set_index(year_index, inplace=True)\n",
    "maize_yield_americas_tmp_df.drop('Year', axis=1, inplace=True)\n",
    "maize_yield_americas_tmp_df.head(2)"
   ]
  },
  {
   "cell_type": "code",
   "execution_count": 49,
   "id": "bff95303-c79c-4976-8626-35a946cd37af",
   "metadata": {},
   "outputs": [
    {
     "data": {
      "text/html": [
       "<div>\n",
       "<style scoped>\n",
       "    .dataframe tbody tr th:only-of-type {\n",
       "        vertical-align: middle;\n",
       "    }\n",
       "\n",
       "    .dataframe tbody tr th {\n",
       "        vertical-align: top;\n",
       "    }\n",
       "\n",
       "    .dataframe thead th {\n",
       "        text-align: right;\n",
       "    }\n",
       "</style>\n",
       "<table border=\"1\" class=\"dataframe\">\n",
       "  <thead>\n",
       "    <tr style=\"text-align: right;\">\n",
       "      <th></th>\n",
       "      <th>Value</th>\n",
       "    </tr>\n",
       "  </thead>\n",
       "  <tbody>\n",
       "    <tr>\n",
       "      <th>1961-12-31</th>\n",
       "      <td>11369</td>\n",
       "    </tr>\n",
       "    <tr>\n",
       "      <th>1962-12-31</th>\n",
       "      <td>11827</td>\n",
       "    </tr>\n",
       "  </tbody>\n",
       "</table>\n",
       "</div>"
      ],
      "text/plain": [
       "            Value\n",
       "1961-12-31  11369\n",
       "1962-12-31  11827"
      ]
     },
     "execution_count": 49,
     "metadata": {},
     "output_type": "execute_result"
    }
   ],
   "source": [
    "maize_yield_asia_tmp_df = maize_yield_world_regions_tmp_df[maize_yield_world_regions_tmp_df['Area']=='Asia']\n",
    "maize_yield_asia_tmp_df.drop('Area', axis=1, inplace=True)\n",
    "maize_yield_asia_tmp_df.set_index(year_index, inplace=True)\n",
    "maize_yield_asia_tmp_df.drop('Year', axis=1, inplace=True)\n",
    "maize_yield_asia_tmp_df.head(2)"
   ]
  },
  {
   "cell_type": "code",
   "execution_count": 50,
   "id": "87a84a4e-a713-49ef-9222-c3860827cb59",
   "metadata": {},
   "outputs": [
    {
     "data": {
      "text/html": [
       "<div>\n",
       "<style scoped>\n",
       "    .dataframe tbody tr th:only-of-type {\n",
       "        vertical-align: middle;\n",
       "    }\n",
       "\n",
       "    .dataframe tbody tr th {\n",
       "        vertical-align: top;\n",
       "    }\n",
       "\n",
       "    .dataframe thead th {\n",
       "        text-align: right;\n",
       "    }\n",
       "</style>\n",
       "<table border=\"1\" class=\"dataframe\">\n",
       "  <thead>\n",
       "    <tr style=\"text-align: right;\">\n",
       "      <th></th>\n",
       "      <th>Value</th>\n",
       "    </tr>\n",
       "  </thead>\n",
       "  <tbody>\n",
       "    <tr>\n",
       "      <th>1961-12-31</th>\n",
       "      <td>21695</td>\n",
       "    </tr>\n",
       "    <tr>\n",
       "      <th>1962-12-31</th>\n",
       "      <td>21203</td>\n",
       "    </tr>\n",
       "  </tbody>\n",
       "</table>\n",
       "</div>"
      ],
      "text/plain": [
       "            Value\n",
       "1961-12-31  21695\n",
       "1962-12-31  21203"
      ]
     },
     "execution_count": 50,
     "metadata": {},
     "output_type": "execute_result"
    }
   ],
   "source": [
    "maize_yield_europe_tmp_df = maize_yield_world_regions_tmp_df[maize_yield_world_regions_tmp_df['Area']=='Europe']\n",
    "maize_yield_europe_tmp_df.drop('Area', axis=1, inplace=True)\n",
    "maize_yield_europe_tmp_df.set_index(year_index, inplace=True)\n",
    "maize_yield_europe_tmp_df.drop('Year', axis=1, inplace=True)\n",
    "maize_yield_europe_tmp_df.head(2)"
   ]
  },
  {
   "cell_type": "code",
   "execution_count": 51,
   "id": "b9fcfc1a-bb9a-4536-b9f1-9fefeb530bfa",
   "metadata": {},
   "outputs": [
    {
     "data": {
      "text/html": [
       "<div>\n",
       "<style scoped>\n",
       "    .dataframe tbody tr th:only-of-type {\n",
       "        vertical-align: middle;\n",
       "    }\n",
       "\n",
       "    .dataframe tbody tr th {\n",
       "        vertical-align: top;\n",
       "    }\n",
       "\n",
       "    .dataframe thead th {\n",
       "        text-align: right;\n",
       "    }\n",
       "</style>\n",
       "<table border=\"1\" class=\"dataframe\">\n",
       "  <thead>\n",
       "    <tr style=\"text-align: right;\">\n",
       "      <th></th>\n",
       "      <th>Value</th>\n",
       "    </tr>\n",
       "  </thead>\n",
       "  <tbody>\n",
       "    <tr>\n",
       "      <th>1961-12-31</th>\n",
       "      <td>21532</td>\n",
       "    </tr>\n",
       "    <tr>\n",
       "      <th>1962-12-31</th>\n",
       "      <td>22401</td>\n",
       "    </tr>\n",
       "  </tbody>\n",
       "</table>\n",
       "</div>"
      ],
      "text/plain": [
       "            Value\n",
       "1961-12-31  21532\n",
       "1962-12-31  22401"
      ]
     },
     "execution_count": 51,
     "metadata": {},
     "output_type": "execute_result"
    }
   ],
   "source": [
    "maize_yield_oceania_tmp_df = maize_yield_world_regions_tmp_df[maize_yield_world_regions_tmp_df['Area']=='Oceania']\n",
    "maize_yield_oceania_tmp_df.drop('Area', axis=1, inplace=True)\n",
    "maize_yield_oceania_tmp_df.set_index(year_index, inplace=True)\n",
    "maize_yield_oceania_tmp_df.drop('Year', axis=1, inplace=True)\n",
    "maize_yield_oceania_tmp_df.head(2)"
   ]
  },
  {
   "cell_type": "code",
   "execution_count": 56,
   "id": "c16fbd16-5213-415b-aae5-cc1f90e567eb",
   "metadata": {},
   "outputs": [
    {
     "data": {
      "text/plain": [
       "<matplotlib.legend.Legend at 0x195a9f93ad0>"
      ]
     },
     "execution_count": 56,
     "metadata": {},
     "output_type": "execute_result"
    },
    {
     "data": {
      "image/png": "[encoded data removed]",
      "text/plain": [
       "<Figure size 1000x500 with 1 Axes>"
      ]
     },
     "metadata": {},
     "output_type": "display_data"
    }
   ],
   "source": [
    "fig, ax = plt.subplots(figsize=(10,5))\n",
    "ax.grid(True)\n",
    "ax.set_title('Maize yield')\n",
    "ax.set_xlabel('Year')\n",
    "ax.set_ylabel('Yield (100g/ha)')\n",
    "ax.set_xticks(year_index)\n",
    "ax.set_xticklabels(year_index, rotation=70)\n",
    "ax.xaxis.set_major_locator(dates.YearLocator(3))\n",
    "ax.xaxis.set_major_formatter(mdates.DateFormatter('%Y'))\n",
    "plt_maize_africa = ax.plot(maize_yield_africa_tmp_df, linewidth=0.5, label='Africa')\n",
    "plt_maize_americas = ax.plot(maize_yield_americas_tmp_df, linewidth=0.5, label='Americas')\n",
    "plt_maize_asia = ax.plot(maize_yield_asia_tmp_df, linewidth=0.5, label='Asia')\n",
    "plt_maize_europe = ax.plot(maize_yield_europe_tmp_df, linewidth=0.5, label='Europe')\n",
    "plt_maize_oceania = ax.plot(maize_yield_oceania_tmp_df, linewidth=0.5, label='Oceania')\n",
    "plt.legend(loc='upper left')"
   ]
  },
  {
   "cell_type": "markdown",
   "id": "c5ceaa22-bbfa-474c-8b15-881eceda9af8",
   "metadata": {},
   "source": [
    "## Temperature change on land"
   ]
  },
  {
   "cell_type": "code",
   "execution_count": 65,
   "id": "9cf84d02-02f8-4191-bd8c-17263dd22713",
   "metadata": {},
   "outputs": [
    {
     "data": {
      "text/plain": [
       "(10710, 5)"
      ]
     },
     "execution_count": 65,
     "metadata": {},
     "output_type": "execute_result"
    }
   ],
   "source": [
    "path_temperature_dataset = 'data/FAOSTAT_Annual_temp_change_on_land_world_regions.csv'\n",
    "temperature_tmp_df = pd.read_csv(path_temperature_dataset, usecols=['Area', 'Element', 'Months', 'Year', 'Value'])\n",
    "temperature_tmp_df.shape"
   ]
  },
  {
   "cell_type": "code",
   "execution_count": 66,
   "id": "50e35dcd-46b9-4d4c-a1c8-98847ba56ba6",
   "metadata": {},
   "outputs": [
    {
     "data": {
      "text/html": [
       "<div>\n",
       "<style scoped>\n",
       "    .dataframe tbody tr th:only-of-type {\n",
       "        vertical-align: middle;\n",
       "    }\n",
       "\n",
       "    .dataframe tbody tr th {\n",
       "        vertical-align: top;\n",
       "    }\n",
       "\n",
       "    .dataframe thead th {\n",
       "        text-align: right;\n",
       "    }\n",
       "</style>\n",
       "<table border=\"1\" class=\"dataframe\">\n",
       "  <thead>\n",
       "    <tr style=\"text-align: right;\">\n",
       "      <th></th>\n",
       "      <th>Area</th>\n",
       "      <th>Element</th>\n",
       "      <th>Months</th>\n",
       "      <th>Year</th>\n",
       "      <th>Value</th>\n",
       "    </tr>\n",
       "  </thead>\n",
       "  <tbody>\n",
       "    <tr>\n",
       "      <th>0</th>\n",
       "      <td>Africa</td>\n",
       "      <td>Temperature change</td>\n",
       "      <td>January</td>\n",
       "      <td>1961</td>\n",
       "      <td>0.105</td>\n",
       "    </tr>\n",
       "    <tr>\n",
       "      <th>1</th>\n",
       "      <td>Africa</td>\n",
       "      <td>Temperature change</td>\n",
       "      <td>January</td>\n",
       "      <td>1962</td>\n",
       "      <td>-0.332</td>\n",
       "    </tr>\n",
       "  </tbody>\n",
       "</table>\n",
       "</div>"
      ],
      "text/plain": [
       "     Area             Element   Months  Year  Value\n",
       "0  Africa  Temperature change  January  1961  0.105\n",
       "1  Africa  Temperature change  January  1962 -0.332"
      ]
     },
     "execution_count": 66,
     "metadata": {},
     "output_type": "execute_result"
    }
   ],
   "source": [
    "temperature_tmp_df.head(2)"
   ]
  },
  {
   "cell_type": "markdown",
   "id": "e395e7b8-f079-46f8-af04-7b9b5d08934b",
   "metadata": {},
   "source": [
    "## Fertilizers by nutrient (synthetic fertilizers)\n",
    "Nitrogen, phosphate P205, and potash."
   ]
  },
  {
   "cell_type": "code",
   "execution_count": 11,
   "id": "ce4fd9af-335a-4713-ad53-049d9d94f6f3",
   "metadata": {},
   "outputs": [
    {
     "data": {
      "text/plain": [
       "(915, 3)"
      ]
     },
     "execution_count": 11,
     "metadata": {},
     "output_type": "execute_result"
    }
   ],
   "source": [
    "path_fertilizers_dataset = 'data/FAOSTAT_synthetic_fertilizers_world_regions.csv'\n",
    "fertilizers_tmp_df = pd.read_csv(path_fertilizers_dataset, usecols=['Area', 'Year', 'Value'])\n",
    "fertilizers_tmp_df.shape"
   ]
  },
  {
   "cell_type": "code",
   "execution_count": 13,
   "id": "3abd6632-f672-4570-8d1d-3d69f5d5aaa8",
   "metadata": {},
   "outputs": [
    {
     "data": {
      "text/html": [
       "<div>\n",
       "<style scoped>\n",
       "    .dataframe tbody tr th:only-of-type {\n",
       "        vertical-align: middle;\n",
       "    }\n",
       "\n",
       "    .dataframe tbody tr th {\n",
       "        vertical-align: top;\n",
       "    }\n",
       "\n",
       "    .dataframe thead th {\n",
       "        text-align: right;\n",
       "    }\n",
       "</style>\n",
       "<table border=\"1\" class=\"dataframe\">\n",
       "  <thead>\n",
       "    <tr style=\"text-align: right;\">\n",
       "      <th></th>\n",
       "      <th>Area</th>\n",
       "      <th>Year</th>\n",
       "      <th>Value</th>\n",
       "    </tr>\n",
       "  </thead>\n",
       "  <tbody>\n",
       "    <tr>\n",
       "      <th>913</th>\n",
       "      <td>Oceania</td>\n",
       "      <td>2020</td>\n",
       "      <td>435423.36</td>\n",
       "    </tr>\n",
       "    <tr>\n",
       "      <th>914</th>\n",
       "      <td>Oceania</td>\n",
       "      <td>2021</td>\n",
       "      <td>481150.46</td>\n",
       "    </tr>\n",
       "  </tbody>\n",
       "</table>\n",
       "</div>"
      ],
      "text/plain": [
       "        Area  Year      Value\n",
       "913  Oceania  2020  435423.36\n",
       "914  Oceania  2021  481150.46"
      ]
     },
     "execution_count": 13,
     "metadata": {},
     "output_type": "execute_result"
    }
   ],
   "source": [
    "fertilizers_tmp_df.tail(2)"
   ]
  },
  {
   "cell_type": "markdown",
   "id": "3942e2c3-691e-4a8d-b26f-f9f93b6c2a3b",
   "metadata": {},
   "source": [
    "## Livestock manure"
   ]
  },
  {
   "cell_type": "code",
   "execution_count": 15,
   "id": "b0b908c9-0ee1-4328-935c-df7ab940e2a9",
   "metadata": {},
   "outputs": [
    {
     "data": {
      "text/plain": [
       "(305, 3)"
      ]
     },
     "execution_count": 15,
     "metadata": {},
     "output_type": "execute_result"
    }
   ],
   "source": [
    "path_manure_dataset = 'data/FAOSTAT_Livestock_manure_world_regions.csv'\n",
    "manure_tmp_df = pd.read_csv(path_manure_dataset, usecols=['Area', 'Year', 'Value'])\n",
    "manure_tmp_df.shape"
   ]
  },
  {
   "cell_type": "code",
   "execution_count": 16,
   "id": "2c0bc443-33e0-42f3-b83f-9b5bfd0b1a55",
   "metadata": {},
   "outputs": [
    {
     "data": {
      "text/html": [
       "<div>\n",
       "<style scoped>\n",
       "    .dataframe tbody tr th:only-of-type {\n",
       "        vertical-align: middle;\n",
       "    }\n",
       "\n",
       "    .dataframe tbody tr th {\n",
       "        vertical-align: top;\n",
       "    }\n",
       "\n",
       "    .dataframe thead th {\n",
       "        text-align: right;\n",
       "    }\n",
       "</style>\n",
       "<table border=\"1\" class=\"dataframe\">\n",
       "  <thead>\n",
       "    <tr style=\"text-align: right;\">\n",
       "      <th></th>\n",
       "      <th>Area</th>\n",
       "      <th>Year</th>\n",
       "      <th>Value</th>\n",
       "    </tr>\n",
       "  </thead>\n",
       "  <tbody>\n",
       "    <tr>\n",
       "      <th>303</th>\n",
       "      <td>Oceania</td>\n",
       "      <td>2020</td>\n",
       "      <td>2.317287e+08</td>\n",
       "    </tr>\n",
       "    <tr>\n",
       "      <th>304</th>\n",
       "      <td>Oceania</td>\n",
       "      <td>2021</td>\n",
       "      <td>2.412670e+08</td>\n",
       "    </tr>\n",
       "  </tbody>\n",
       "</table>\n",
       "</div>"
      ],
      "text/plain": [
       "        Area  Year         Value\n",
       "303  Oceania  2020  2.317287e+08\n",
       "304  Oceania  2021  2.412670e+08"
      ]
     },
     "execution_count": 16,
     "metadata": {},
     "output_type": "execute_result"
    }
   ],
   "source": [
    "manure_tmp_df.tail(2)"
   ]
  },
  {
   "cell_type": "markdown",
   "id": "fd38f867-68ed-48a7-b936-8038f5ea476c",
   "metadata": {},
   "source": [
    "## Precipitations\n",
    "Data about precipitations at regional level can be retrieved from the [FAO Aquastat](https://www.fao.org/aquastat/en/) website."
   ]
  },
  {
   "cell_type": "code",
   "execution_count": null,
   "id": "a3a9ddc7-994a-4fea-9967-0cc066fad3be",
   "metadata": {},
   "outputs": [],
   "source": []
  }
 ],
 "metadata": {
  "kernelspec": {
   "display_name": "Python 3 (ipykernel)",
   "language": "python",
   "name": "python3"
  },
  "language_info": {
   "codemirror_mode": {
    "name": "ipython",
    "version": 3
   },
   "file_extension": ".py",
   "mimetype": "text/x-python",
   "name": "python",
   "nbconvert_exporter": "python",
   "pygments_lexer": "ipython3",
   "version": "3.11.5"
  }
 },
 "nbformat": 4,
 "nbformat_minor": 5
}
