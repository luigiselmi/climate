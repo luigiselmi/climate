{
 "cells": [
  {
   "cell_type": "markdown",
   "id": "bf50a739-9f4c-4ffe-9530-1281215907e5",
   "metadata": {},
   "source": [
    "# Faostat world regions"
   ]
  },
  {
   "cell_type": "code",
   "execution_count": 1,
   "id": "13976a60-393a-42dc-8735-429e93692952",
   "metadata": {},
   "outputs": [
    {
     "name": "stdout",
     "output_type": "stream",
     "text": [
      "Python version: 3.11.5\n",
      "NumPy version: 1.25.2\n",
      "Pandas version: 2.1.1\n",
      "GDAL version: 3.7.2\n",
      "GeoPandas version: 0.14.0\n"
     ]
    }
   ],
   "source": [
    "import pandas as pd\n",
    "import numpy as np\n",
    "import math\n",
    "import matplotlib.pyplot as plt\n",
    "from matplotlib import dates\n",
    "import matplotlib.dates as mdates\n",
    "from osgeo import gdal, osr, ogr\n",
    "import geopandas as gpd\n",
    "from shapely.geometry import Point\n",
    "from sklearn.metrics import mean_squared_error, mean_absolute_error\n",
    "from statsmodels.graphics.tsaplots import plot_acf, plot_pacf\n",
    "from statsmodels.tsa.seasonal import seasonal_decompose, STL\n",
    "from statsmodels.stats.diagnostic import acorr_ljungbox\n",
    "from statsmodels.tsa.statespace.sarimax import SARIMAX\n",
    "from statsmodels.tsa.arima_process import ArmaProcess\n",
    "from statsmodels.graphics.gofplots import qqplot\n",
    "from statsmodels.tsa.stattools import adfuller\n",
    "from tqdm import tqdm_notebook\n",
    "from itertools import product\n",
    "from typing import Union\n",
    "import warnings\n",
    "warnings.filterwarnings('ignore')\n",
    "from platform import python_version\n",
    "print(\"Python version: %s\"%python_version())\n",
    "print(\"NumPy version: %s\"%np.__version__)\n",
    "print(\"Pandas version: %s\"%pd.__version__)\n",
    "print('GDAL version: %s'%gdal.__version__)\n",
    "print(\"GeoPandas version: %s\"%gpd.__version__)"
   ]
  },
  {
   "cell_type": "markdown",
   "id": "7c3cf740-444e-415a-a170-3ccd9a22136a",
   "metadata": {},
   "source": [
    "## Maize yield"
   ]
  },
  {
   "cell_type": "code",
   "execution_count": 5,
   "id": "a4dd59aa-2e7c-4658-9283-b38ff7ef57e2",
   "metadata": {},
   "outputs": [
    {
     "data": {
      "text/plain": [
       "(310, 15)"
      ]
     },
     "execution_count": 5,
     "metadata": {},
     "output_type": "execute_result"
    }
   ],
   "source": [
    "#path_fao_dataset = 'data/FAOSTAT_maize_millet_world_yeld.csv'\n",
    "path_fao_dataset = 'data/FAOSTAT_maize_world_regions.csv'\n",
    "maize_world_regions_tmp_df = pd.read_csv(path_fao_dataset)\n",
    "maize_world_regions_tmp_df.shape"
   ]
  },
  {
   "cell_type": "code",
   "execution_count": 6,
   "id": "93a5ca16-1a7d-4580-a589-92a9df636d0e",
   "metadata": {},
   "outputs": [
    {
     "data": {
      "text/html": [
       "<div>\n",
       "<style scoped>\n",
       "    .dataframe tbody tr th:only-of-type {\n",
       "        vertical-align: middle;\n",
       "    }\n",
       "\n",
       "    .dataframe tbody tr th {\n",
       "        vertical-align: top;\n",
       "    }\n",
       "\n",
       "    .dataframe thead th {\n",
       "        text-align: right;\n",
       "    }\n",
       "</style>\n",
       "<table border=\"1\" class=\"dataframe\">\n",
       "  <thead>\n",
       "    <tr style=\"text-align: right;\">\n",
       "      <th></th>\n",
       "      <th>Domain Code</th>\n",
       "      <th>Domain</th>\n",
       "      <th>Area Code (M49)</th>\n",
       "      <th>Area</th>\n",
       "      <th>Element Code</th>\n",
       "      <th>Element</th>\n",
       "      <th>Item Code (CPC)</th>\n",
       "      <th>Item</th>\n",
       "      <th>Year Code</th>\n",
       "      <th>Year</th>\n",
       "      <th>Unit</th>\n",
       "      <th>Value</th>\n",
       "      <th>Flag</th>\n",
       "      <th>Flag Description</th>\n",
       "      <th>Note</th>\n",
       "    </tr>\n",
       "  </thead>\n",
       "  <tbody>\n",
       "    <tr>\n",
       "      <th>0</th>\n",
       "      <td>QCL</td>\n",
       "      <td>Crops and livestock products</td>\n",
       "      <td>2</td>\n",
       "      <td>Africa</td>\n",
       "      <td>5419</td>\n",
       "      <td>Yield</td>\n",
       "      <td>112</td>\n",
       "      <td>Maize (corn)</td>\n",
       "      <td>1961</td>\n",
       "      <td>1961</td>\n",
       "      <td>100 g/ha</td>\n",
       "      <td>10444</td>\n",
       "      <td>E</td>\n",
       "      <td>Estimated value</td>\n",
       "      <td>NaN</td>\n",
       "    </tr>\n",
       "    <tr>\n",
       "      <th>1</th>\n",
       "      <td>QCL</td>\n",
       "      <td>Crops and livestock products</td>\n",
       "      <td>2</td>\n",
       "      <td>Africa</td>\n",
       "      <td>5419</td>\n",
       "      <td>Yield</td>\n",
       "      <td>112</td>\n",
       "      <td>Maize (corn)</td>\n",
       "      <td>1962</td>\n",
       "      <td>1962</td>\n",
       "      <td>100 g/ha</td>\n",
       "      <td>11112</td>\n",
       "      <td>E</td>\n",
       "      <td>Estimated value</td>\n",
       "      <td>NaN</td>\n",
       "    </tr>\n",
       "    <tr>\n",
       "      <th>2</th>\n",
       "      <td>QCL</td>\n",
       "      <td>Crops and livestock products</td>\n",
       "      <td>2</td>\n",
       "      <td>Africa</td>\n",
       "      <td>5419</td>\n",
       "      <td>Yield</td>\n",
       "      <td>112</td>\n",
       "      <td>Maize (corn)</td>\n",
       "      <td>1963</td>\n",
       "      <td>1963</td>\n",
       "      <td>100 g/ha</td>\n",
       "      <td>11094</td>\n",
       "      <td>E</td>\n",
       "      <td>Estimated value</td>\n",
       "      <td>NaN</td>\n",
       "    </tr>\n",
       "  </tbody>\n",
       "</table>\n",
       "</div>"
      ],
      "text/plain": [
       "  Domain Code                        Domain  Area Code (M49)    Area  \\\n",
       "0         QCL  Crops and livestock products                2  Africa   \n",
       "1         QCL  Crops and livestock products                2  Africa   \n",
       "2         QCL  Crops and livestock products                2  Africa   \n",
       "\n",
       "   Element Code Element  Item Code (CPC)          Item  Year Code  Year  \\\n",
       "0          5419   Yield              112  Maize (corn)       1961  1961   \n",
       "1          5419   Yield              112  Maize (corn)       1962  1962   \n",
       "2          5419   Yield              112  Maize (corn)       1963  1963   \n",
       "\n",
       "       Unit  Value Flag Flag Description  Note  \n",
       "0  100 g/ha  10444    E  Estimated value   NaN  \n",
       "1  100 g/ha  11112    E  Estimated value   NaN  \n",
       "2  100 g/ha  11094    E  Estimated value   NaN  "
      ]
     },
     "execution_count": 6,
     "metadata": {},
     "output_type": "execute_result"
    }
   ],
   "source": [
    "maize_world_regions_tmp_df.head(3)"
   ]
  },
  {
   "cell_type": "markdown",
   "id": "c5ceaa22-bbfa-474c-8b15-881eceda9af8",
   "metadata": {},
   "source": [
    "## Temperature change on land"
   ]
  },
  {
   "cell_type": "code",
   "execution_count": 7,
   "id": "9cf84d02-02f8-4191-bd8c-17263dd22713",
   "metadata": {},
   "outputs": [
    {
     "data": {
      "text/plain": [
       "(10710, 14)"
      ]
     },
     "execution_count": 7,
     "metadata": {},
     "output_type": "execute_result"
    }
   ],
   "source": [
    "path_temperature_dataset = 'data/FAOSTAT_Annual_temp_change_on_land_world_regions.csv'\n",
    "temperature_tmp_df = pd.read_csv(path_temperature_dataset)\n",
    "temperature_tmp_df.shape"
   ]
  },
  {
   "cell_type": "code",
   "execution_count": 8,
   "id": "50e35dcd-46b9-4d4c-a1c8-98847ba56ba6",
   "metadata": {},
   "outputs": [
    {
     "data": {
      "text/html": [
       "<div>\n",
       "<style scoped>\n",
       "    .dataframe tbody tr th:only-of-type {\n",
       "        vertical-align: middle;\n",
       "    }\n",
       "\n",
       "    .dataframe tbody tr th {\n",
       "        vertical-align: top;\n",
       "    }\n",
       "\n",
       "    .dataframe thead th {\n",
       "        text-align: right;\n",
       "    }\n",
       "</style>\n",
       "<table border=\"1\" class=\"dataframe\">\n",
       "  <thead>\n",
       "    <tr style=\"text-align: right;\">\n",
       "      <th></th>\n",
       "      <th>Domain Code</th>\n",
       "      <th>Domain</th>\n",
       "      <th>Area Code (M49)</th>\n",
       "      <th>Area</th>\n",
       "      <th>Element Code</th>\n",
       "      <th>Element</th>\n",
       "      <th>Months Code</th>\n",
       "      <th>Months</th>\n",
       "      <th>Year Code</th>\n",
       "      <th>Year</th>\n",
       "      <th>Unit</th>\n",
       "      <th>Value</th>\n",
       "      <th>Flag</th>\n",
       "      <th>Flag Description</th>\n",
       "    </tr>\n",
       "  </thead>\n",
       "  <tbody>\n",
       "    <tr>\n",
       "      <th>0</th>\n",
       "      <td>ET</td>\n",
       "      <td>Temperature change on land</td>\n",
       "      <td>2</td>\n",
       "      <td>Africa</td>\n",
       "      <td>7271</td>\n",
       "      <td>Temperature change</td>\n",
       "      <td>7001</td>\n",
       "      <td>January</td>\n",
       "      <td>1961</td>\n",
       "      <td>1961</td>\n",
       "      <td>°c</td>\n",
       "      <td>0.105</td>\n",
       "      <td>E</td>\n",
       "      <td>Estimated value</td>\n",
       "    </tr>\n",
       "    <tr>\n",
       "      <th>1</th>\n",
       "      <td>ET</td>\n",
       "      <td>Temperature change on land</td>\n",
       "      <td>2</td>\n",
       "      <td>Africa</td>\n",
       "      <td>7271</td>\n",
       "      <td>Temperature change</td>\n",
       "      <td>7001</td>\n",
       "      <td>January</td>\n",
       "      <td>1962</td>\n",
       "      <td>1962</td>\n",
       "      <td>°c</td>\n",
       "      <td>-0.332</td>\n",
       "      <td>E</td>\n",
       "      <td>Estimated value</td>\n",
       "    </tr>\n",
       "  </tbody>\n",
       "</table>\n",
       "</div>"
      ],
      "text/plain": [
       "  Domain Code                      Domain  Area Code (M49)    Area  \\\n",
       "0          ET  Temperature change on land                2  Africa   \n",
       "1          ET  Temperature change on land                2  Africa   \n",
       "\n",
       "   Element Code             Element  Months Code   Months  Year Code  Year  \\\n",
       "0          7271  Temperature change         7001  January       1961  1961   \n",
       "1          7271  Temperature change         7001  January       1962  1962   \n",
       "\n",
       "  Unit  Value Flag Flag Description  \n",
       "0   °c  0.105    E  Estimated value  \n",
       "1   °c -0.332    E  Estimated value  "
      ]
     },
     "execution_count": 8,
     "metadata": {},
     "output_type": "execute_result"
    }
   ],
   "source": [
    "temperature_tmp_df.head(2)"
   ]
  },
  {
   "cell_type": "markdown",
   "id": "e395e7b8-f079-46f8-af04-7b9b5d08934b",
   "metadata": {},
   "source": [
    "## Fertilizers by nutrient (synthetic fertilizers)\n",
    "Nitrogen, phosphate P205, and potash."
   ]
  },
  {
   "cell_type": "code",
   "execution_count": 10,
   "id": "ce4fd9af-335a-4713-ad53-049d9d94f6f3",
   "metadata": {},
   "outputs": [
    {
     "data": {
      "text/plain": [
       "(915, 15)"
      ]
     },
     "execution_count": 10,
     "metadata": {},
     "output_type": "execute_result"
    }
   ],
   "source": [
    "path_fertilizers_dataset = 'data/FAOSTAT_synthetic_fertilizers_world_regions.csv'\n",
    "fertilizers_df = pd.read_csv(path_fertilizers_dataset)\n",
    "fertilizers_df.shape"
   ]
  },
  {
   "cell_type": "code",
   "execution_count": 11,
   "id": "3abd6632-f672-4570-8d1d-3d69f5d5aaa8",
   "metadata": {},
   "outputs": [
    {
     "data": {
      "text/html": [
       "<div>\n",
       "<style scoped>\n",
       "    .dataframe tbody tr th:only-of-type {\n",
       "        vertical-align: middle;\n",
       "    }\n",
       "\n",
       "    .dataframe tbody tr th {\n",
       "        vertical-align: top;\n",
       "    }\n",
       "\n",
       "    .dataframe thead th {\n",
       "        text-align: right;\n",
       "    }\n",
       "</style>\n",
       "<table border=\"1\" class=\"dataframe\">\n",
       "  <thead>\n",
       "    <tr style=\"text-align: right;\">\n",
       "      <th></th>\n",
       "      <th>Domain Code</th>\n",
       "      <th>Domain</th>\n",
       "      <th>Area Code (M49)</th>\n",
       "      <th>Area</th>\n",
       "      <th>Element Code</th>\n",
       "      <th>Element</th>\n",
       "      <th>Item Code</th>\n",
       "      <th>Item</th>\n",
       "      <th>Year Code</th>\n",
       "      <th>Year</th>\n",
       "      <th>Unit</th>\n",
       "      <th>Value</th>\n",
       "      <th>Flag</th>\n",
       "      <th>Flag Description</th>\n",
       "      <th>Note</th>\n",
       "    </tr>\n",
       "  </thead>\n",
       "  <tbody>\n",
       "    <tr>\n",
       "      <th>913</th>\n",
       "      <td>RFN</td>\n",
       "      <td>Fertilizers by Nutrient</td>\n",
       "      <td>9</td>\n",
       "      <td>Oceania</td>\n",
       "      <td>5157</td>\n",
       "      <td>Agricultural Use</td>\n",
       "      <td>3104</td>\n",
       "      <td>Nutrient potash K2O (total)</td>\n",
       "      <td>2020</td>\n",
       "      <td>2020</td>\n",
       "      <td>t</td>\n",
       "      <td>435423.36</td>\n",
       "      <td>E</td>\n",
       "      <td>Estimated value</td>\n",
       "      <td>NaN</td>\n",
       "    </tr>\n",
       "    <tr>\n",
       "      <th>914</th>\n",
       "      <td>RFN</td>\n",
       "      <td>Fertilizers by Nutrient</td>\n",
       "      <td>9</td>\n",
       "      <td>Oceania</td>\n",
       "      <td>5157</td>\n",
       "      <td>Agricultural Use</td>\n",
       "      <td>3104</td>\n",
       "      <td>Nutrient potash K2O (total)</td>\n",
       "      <td>2021</td>\n",
       "      <td>2021</td>\n",
       "      <td>t</td>\n",
       "      <td>481150.46</td>\n",
       "      <td>E</td>\n",
       "      <td>Estimated value</td>\n",
       "      <td>NaN</td>\n",
       "    </tr>\n",
       "  </tbody>\n",
       "</table>\n",
       "</div>"
      ],
      "text/plain": [
       "    Domain Code                   Domain  Area Code (M49)     Area  \\\n",
       "913         RFN  Fertilizers by Nutrient                9  Oceania   \n",
       "914         RFN  Fertilizers by Nutrient                9  Oceania   \n",
       "\n",
       "     Element Code           Element  Item Code                         Item  \\\n",
       "913          5157  Agricultural Use       3104  Nutrient potash K2O (total)   \n",
       "914          5157  Agricultural Use       3104  Nutrient potash K2O (total)   \n",
       "\n",
       "     Year Code  Year Unit      Value Flag Flag Description  Note  \n",
       "913       2020  2020    t  435423.36    E  Estimated value   NaN  \n",
       "914       2021  2021    t  481150.46    E  Estimated value   NaN  "
      ]
     },
     "execution_count": 11,
     "metadata": {},
     "output_type": "execute_result"
    }
   ],
   "source": [
    "fertilizers_df.tail(2)"
   ]
  },
  {
   "cell_type": "markdown",
   "id": "3942e2c3-691e-4a8d-b26f-f9f93b6c2a3b",
   "metadata": {},
   "source": [
    "## Livestock manure"
   ]
  },
  {
   "cell_type": "code",
   "execution_count": 15,
   "id": "b0b908c9-0ee1-4328-935c-df7ab940e2a9",
   "metadata": {},
   "outputs": [
    {
     "data": {
      "text/plain": [
       "(305, 3)"
      ]
     },
     "execution_count": 15,
     "metadata": {},
     "output_type": "execute_result"
    }
   ],
   "source": [
    "path_manure_dataset = 'data/FAOSTAT_Livestock_manure_world_regions.csv'\n",
    "manure_df = pd.read_csv(path_manure_dataset, usecols=['Area', 'Year', 'Value'])\n",
    "manure_df.shape"
   ]
  },
  {
   "cell_type": "code",
   "execution_count": 16,
   "id": "2c0bc443-33e0-42f3-b83f-9b5bfd0b1a55",
   "metadata": {},
   "outputs": [
    {
     "data": {
      "text/html": [
       "<div>\n",
       "<style scoped>\n",
       "    .dataframe tbody tr th:only-of-type {\n",
       "        vertical-align: middle;\n",
       "    }\n",
       "\n",
       "    .dataframe tbody tr th {\n",
       "        vertical-align: top;\n",
       "    }\n",
       "\n",
       "    .dataframe thead th {\n",
       "        text-align: right;\n",
       "    }\n",
       "</style>\n",
       "<table border=\"1\" class=\"dataframe\">\n",
       "  <thead>\n",
       "    <tr style=\"text-align: right;\">\n",
       "      <th></th>\n",
       "      <th>Area</th>\n",
       "      <th>Year</th>\n",
       "      <th>Value</th>\n",
       "    </tr>\n",
       "  </thead>\n",
       "  <tbody>\n",
       "    <tr>\n",
       "      <th>303</th>\n",
       "      <td>Oceania</td>\n",
       "      <td>2020</td>\n",
       "      <td>2.317287e+08</td>\n",
       "    </tr>\n",
       "    <tr>\n",
       "      <th>304</th>\n",
       "      <td>Oceania</td>\n",
       "      <td>2021</td>\n",
       "      <td>2.412670e+08</td>\n",
       "    </tr>\n",
       "  </tbody>\n",
       "</table>\n",
       "</div>"
      ],
      "text/plain": [
       "        Area  Year         Value\n",
       "303  Oceania  2020  2.317287e+08\n",
       "304  Oceania  2021  2.412670e+08"
      ]
     },
     "execution_count": 16,
     "metadata": {},
     "output_type": "execute_result"
    }
   ],
   "source": [
    "manure_df.tail(2)"
   ]
  },
  {
   "cell_type": "markdown",
   "id": "fd38f867-68ed-48a7-b936-8038f5ea476c",
   "metadata": {},
   "source": [
    "## Precipitations\n",
    "Data about precipitations at regional level can be retr"
   ]
  },
  {
   "cell_type": "code",
   "execution_count": null,
   "id": "a3a9ddc7-994a-4fea-9967-0cc066fad3be",
   "metadata": {},
   "outputs": [],
   "source": []
  }
 ],
 "metadata": {
  "kernelspec": {
   "display_name": "Python 3 (ipykernel)",
   "language": "python",
   "name": "python3"
  },
  "language_info": {
   "codemirror_mode": {
    "name": "ipython",
    "version": 3
   },
   "file_extension": ".py",
   "mimetype": "text/x-python",
   "name": "python",
   "nbconvert_exporter": "python",
   "pygments_lexer": "ipython3",
   "version": "3.11.5"
  }
 },
 "nbformat": 4,
 "nbformat_minor": 5
}
