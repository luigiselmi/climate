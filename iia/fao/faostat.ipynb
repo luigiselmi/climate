{
 "cells": [
  {
   "cell_type": "markdown",
   "id": "cf6464df",
   "metadata": {},
   "source": [
    "# Faostat\n",
    "The Food and Agriculture Organization of the United Nation ([FAO](https://www.fao.org/faostat/en/#data/RL)) collects data about the production of food worldwide. The data is published and made available through the [Faostat](https://www.fao.org/faostat/en/#home) webservice. Among the different datasets available, there are the Crops and livestock products dataset and the Land Use and Land Cover datasets. The monitoring of food production and of the area dedicated or available worldwide is one of the main task of the FAO. The future food availability can be forecast from this statistical data and additional data of weather forecast and climate. The data is provided by country or by region. The data about land use and production is collected annualy through questionnaire. The data about land cover is derived from remote sensing products from NASA (MODIS) and ESA (Copernicus Climate Change Service) and the maps are available from the Climate Change Initiative - Land Cover ([CCI-LC](https://maps.elie.ucl.ac.be/CCI/viewer/)) website, an outcome of the [ESA Land Cover project](https://climate.esa.int/en/projects/land-cover/). "
   ]
  },
  {
   "cell_type": "markdown",
   "id": "9266d746-4618-4b55-b7ee-08916c2962ee",
   "metadata": {},
   "source": [
    "## The datasets\n",
    "We use this notebook to download several datasets about crop production and fertilizers in some continental regions from the [Faostat webservice](https://www.fao.org/faostat/en/#home) and finally to plot the datasets for a first qualitative analysis. The crop types are: wheat, maize, rice, and soybean. The fertilizers are manure and synthetic fertilizers such as nitrogen, phosphate and potash.\n",
    "### Crops\n",
    "In order to download the crop datasets we have to open the Faostat webpage, select the \"Production\" domain, then \"Crops and livestock products. From the webpage we can filter the data by region, e.g. \"World (Total)\", by items, e.g. \"Wheat\", by elements, e.g. \"Yield\", and finally the years, e.g. from 1961 to 2022. \n",
    "### Fertilizers\n",
    "The data about the fertilizers are under the \"Land, Inputs and Sustainability\" domain. For the synthetic fertilizers we select the \"Input\" subdomain, then \"Fertilizer by Nutrient\". From the webpage we select the same region as for the crops, \"World (Total)\", the three items \"Nutrient nitrogen N (total)\", and also phosphate P205 (total) and potash K20 (total). For the manure we select \"Livestock Manure\" from Inputs, then from from the webpage again the same region \"World (Total)\", element \"Manure applied to soil (N content), items aggragated \"All Animals (Total)\".\n",
    "### Temperature change on land\n",
    "The temperature change is available from the same \"Land, Inputs and Sustainability\" domain, subdomain \"Climate Change Indicators\". From the webpage we select the same region, the element \"Temperature change\" and item \"Meteorological year\" from 1961 to 2022. Another source of global temperature anomalies is the Goddard Institute for Space Studies ([GISS](https://data.giss.nasa.gov/gistemp/))\n",
    "### Precipitation and CO2\n",
    "Precipitation and CO2 are not provided by FAO."
   ]
  },
  {
   "cell_type": "code",
   "execution_count": 50,
   "id": "969ac04b-d11e-4203-9c6f-34545d8dc033",
   "metadata": {},
   "outputs": [
    {
     "name": "stdout",
     "output_type": "stream",
     "text": [
      "Python version: 3.11.5\n",
      "NumPy version: 1.25.2\n",
      "Pandas version: 2.1.1\n",
      "GDAL version: 3.7.2\n",
      "GeoPandas version: 0.14.0\n"
     ]
    }
   ],
   "source": [
    "import pandas as pd\n",
    "import numpy as np\n",
    "import math\n",
    "import matplotlib.pyplot as plt\n",
    "from matplotlib import dates\n",
    "import matplotlib.dates as mdates\n",
    "from osgeo import gdal, osr, ogr\n",
    "import geopandas as gpd\n",
    "from shapely.geometry import Point\n",
    "from sklearn.metrics import mean_squared_error, mean_absolute_error\n",
    "from statsmodels.graphics.tsaplots import plot_acf, plot_pacf\n",
    "from statsmodels.tsa.seasonal import seasonal_decompose, STL\n",
    "from statsmodels.stats.diagnostic import acorr_ljungbox\n",
    "from statsmodels.tsa.statespace.sarimax import SARIMAX\n",
    "from statsmodels.tsa.arima_process import ArmaProcess\n",
    "from statsmodels.graphics.gofplots import qqplot\n",
    "from statsmodels.tsa.stattools import adfuller\n",
    "from tqdm import tqdm_notebook\n",
    "from itertools import product\n",
    "from typing import Union\n",
    "import warnings\n",
    "warnings.filterwarnings('ignore')\n",
    "from platform import python_version\n",
    "print(\"Python version: %s\"%python_version())\n",
    "print(\"NumPy version: %s\"%np.__version__)\n",
    "print(\"Pandas version: %s\"%pd.__version__)\n",
    "print('GDAL version: %s'%gdal.__version__)\n",
    "print(\"GeoPandas version: %s\"%gpd.__version__)"
   ]
  },
  {
   "cell_type": "markdown",
   "id": "674fbc17-4fc2-412b-8e83-b154f6bec3f4",
   "metadata": {},
   "source": [
    "## World maize and millet yield\n",
    "We download the data about the yield of maize and millet produced in the world from 1961 up to 2022. The dataset represents a time series. A visualization of the time series will allows us to see from a qualitative point of view whether there is a trend in the yield of these two important crops. From the Faostat website we select the [Crops and livestock products](https://www.fao.org/faostat/en/#data/QCL) dataset, and in particular the World region, the yield variable, the items maize (corn) and millet, and all the years. We download and store the CSV file.  "
   ]
  },
  {
   "cell_type": "code",
   "execution_count": 4,
   "id": "62093913-48b0-4b7b-a1fc-2eea61995cf9",
   "metadata": {},
   "outputs": [
    {
     "data": {
      "text/html": [
       "<div>\n",
       "<style scoped>\n",
       "    .dataframe tbody tr th:only-of-type {\n",
       "        vertical-align: middle;\n",
       "    }\n",
       "\n",
       "    .dataframe tbody tr th {\n",
       "        vertical-align: top;\n",
       "    }\n",
       "\n",
       "    .dataframe thead th {\n",
       "        text-align: right;\n",
       "    }\n",
       "</style>\n",
       "<table border=\"1\" class=\"dataframe\">\n",
       "  <thead>\n",
       "    <tr style=\"text-align: right;\">\n",
       "      <th></th>\n",
       "      <th>Domain Code</th>\n",
       "      <th>Domain</th>\n",
       "      <th>Area Code (M49)</th>\n",
       "      <th>Area</th>\n",
       "      <th>Element Code</th>\n",
       "      <th>Element</th>\n",
       "      <th>Item Code (CPC)</th>\n",
       "      <th>Item</th>\n",
       "      <th>Year Code</th>\n",
       "      <th>Year</th>\n",
       "      <th>Unit</th>\n",
       "      <th>Value</th>\n",
       "      <th>Flag</th>\n",
       "      <th>Flag Description</th>\n",
       "      <th>Note</th>\n",
       "    </tr>\n",
       "  </thead>\n",
       "  <tbody>\n",
       "    <tr>\n",
       "      <th>0</th>\n",
       "      <td>QCL</td>\n",
       "      <td>Crops and livestock products</td>\n",
       "      <td>1</td>\n",
       "      <td>World</td>\n",
       "      <td>5419</td>\n",
       "      <td>Yield</td>\n",
       "      <td>112</td>\n",
       "      <td>Maize (corn)</td>\n",
       "      <td>1961</td>\n",
       "      <td>1961</td>\n",
       "      <td>100 g/ha</td>\n",
       "      <td>19423</td>\n",
       "      <td>E</td>\n",
       "      <td>Estimated value</td>\n",
       "      <td>NaN</td>\n",
       "    </tr>\n",
       "    <tr>\n",
       "      <th>1</th>\n",
       "      <td>QCL</td>\n",
       "      <td>Crops and livestock products</td>\n",
       "      <td>1</td>\n",
       "      <td>World</td>\n",
       "      <td>5419</td>\n",
       "      <td>Yield</td>\n",
       "      <td>112</td>\n",
       "      <td>Maize (corn)</td>\n",
       "      <td>1962</td>\n",
       "      <td>1962</td>\n",
       "      <td>100 g/ha</td>\n",
       "      <td>19796</td>\n",
       "      <td>E</td>\n",
       "      <td>Estimated value</td>\n",
       "      <td>NaN</td>\n",
       "    </tr>\n",
       "    <tr>\n",
       "      <th>2</th>\n",
       "      <td>QCL</td>\n",
       "      <td>Crops and livestock products</td>\n",
       "      <td>1</td>\n",
       "      <td>World</td>\n",
       "      <td>5419</td>\n",
       "      <td>Yield</td>\n",
       "      <td>112</td>\n",
       "      <td>Maize (corn)</td>\n",
       "      <td>1963</td>\n",
       "      <td>1963</td>\n",
       "      <td>100 g/ha</td>\n",
       "      <td>20311</td>\n",
       "      <td>A</td>\n",
       "      <td>Official figure</td>\n",
       "      <td>NaN</td>\n",
       "    </tr>\n",
       "  </tbody>\n",
       "</table>\n",
       "</div>"
      ],
      "text/plain": [
       "  Domain Code                        Domain  Area Code (M49)   Area  \\\n",
       "0         QCL  Crops and livestock products                1  World   \n",
       "1         QCL  Crops and livestock products                1  World   \n",
       "2         QCL  Crops and livestock products                1  World   \n",
       "\n",
       "   Element Code Element  Item Code (CPC)          Item  Year Code  Year  \\\n",
       "0          5419   Yield              112  Maize (corn)       1961  1961   \n",
       "1          5419   Yield              112  Maize (corn)       1962  1962   \n",
       "2          5419   Yield              112  Maize (corn)       1963  1963   \n",
       "\n",
       "       Unit  Value Flag Flag Description  Note  \n",
       "0  100 g/ha  19423    E  Estimated value   NaN  \n",
       "1  100 g/ha  19796    E  Estimated value   NaN  \n",
       "2  100 g/ha  20311    A  Official figure   NaN  "
      ]
     },
     "execution_count": 4,
     "metadata": {},
     "output_type": "execute_result"
    }
   ],
   "source": [
    "path_fao_dataset = 'data/FAOSTAT_maize_millet_world_yeld.csv'\n",
    "maize_millet_yield_tmp_df = pd.read_csv(path_fao_dataset)\n",
    "maize_millet_yield_tmp_df.head(3)"
   ]
  },
  {
   "cell_type": "markdown",
   "id": "f99b318b-a9c6-440f-8742-d38f70669b42",
   "metadata": {},
   "source": [
    "We select the data for the maize yeld"
   ]
  },
  {
   "cell_type": "code",
   "execution_count": 60,
   "id": "b3757ac5-c044-4802-aa35-c9736b3586b9",
   "metadata": {},
   "outputs": [
    {
     "data": {
      "text/html": [
       "<div>\n",
       "<style scoped>\n",
       "    .dataframe tbody tr th:only-of-type {\n",
       "        vertical-align: middle;\n",
       "    }\n",
       "\n",
       "    .dataframe tbody tr th {\n",
       "        vertical-align: top;\n",
       "    }\n",
       "\n",
       "    .dataframe thead th {\n",
       "        text-align: right;\n",
       "    }\n",
       "</style>\n",
       "<table border=\"1\" class=\"dataframe\">\n",
       "  <thead>\n",
       "    <tr style=\"text-align: right;\">\n",
       "      <th></th>\n",
       "      <th>Year</th>\n",
       "      <th>Yield (g/ha)</th>\n",
       "    </tr>\n",
       "  </thead>\n",
       "  <tbody>\n",
       "    <tr>\n",
       "      <th>0</th>\n",
       "      <td>1961</td>\n",
       "      <td>19423</td>\n",
       "    </tr>\n",
       "    <tr>\n",
       "      <th>1</th>\n",
       "      <td>1962</td>\n",
       "      <td>19796</td>\n",
       "    </tr>\n",
       "    <tr>\n",
       "      <th>2</th>\n",
       "      <td>1963</td>\n",
       "      <td>20311</td>\n",
       "    </tr>\n",
       "  </tbody>\n",
       "</table>\n",
       "</div>"
      ],
      "text/plain": [
       "   Year  Yield (g/ha)\n",
       "0  1961         19423\n",
       "1  1962         19796\n",
       "2  1963         20311"
      ]
     },
     "execution_count": 60,
     "metadata": {},
     "output_type": "execute_result"
    }
   ],
   "source": [
    "maize_yield_df = maize_millet_yield_tmp_df[maize_millet_yield_tmp_df['Item']=='Maize (corn)'][['Year', 'Value']]\n",
    "maize_yield_df.rename(columns={'Value':'Yield (g/ha)'}, inplace=True)\n",
    "maize_yield_df.head(3)"
   ]
  },
  {
   "cell_type": "markdown",
   "id": "6434eb94-6f45-40ef-a477-00eee0aa05d9",
   "metadata": {},
   "source": [
    "and for the millet"
   ]
  },
  {
   "cell_type": "code",
   "execution_count": 6,
   "id": "b7606508-be83-401f-abbf-ca43bab83a9d",
   "metadata": {},
   "outputs": [],
   "source": [
    "millet_yield_df = maize_millet_yield_tmp_df[maize_millet_yield_tmp_df['Item']=='Millet'][['Year', 'Value']]\n",
    "millet_yield_df.rename(columns={'Value':'Yield (g/ha)'}, inplace=True)"
   ]
  },
  {
   "cell_type": "markdown",
   "id": "b9010b3e-3eba-460f-a154-c878b4183885",
   "metadata": {},
   "source": [
    "We multiply the millet yield since it is provided in 100s of g/ha in order to use the same unit as the maize."
   ]
  },
  {
   "cell_type": "code",
   "execution_count": 7,
   "id": "08b81eef-911e-4b70-be26-db35423db73b",
   "metadata": {},
   "outputs": [
    {
     "data": {
      "text/html": [
       "<div>\n",
       "<style scoped>\n",
       "    .dataframe tbody tr th:only-of-type {\n",
       "        vertical-align: middle;\n",
       "    }\n",
       "\n",
       "    .dataframe tbody tr th {\n",
       "        vertical-align: top;\n",
       "    }\n",
       "\n",
       "    .dataframe thead th {\n",
       "        text-align: right;\n",
       "    }\n",
       "</style>\n",
       "<table border=\"1\" class=\"dataframe\">\n",
       "  <thead>\n",
       "    <tr style=\"text-align: right;\">\n",
       "      <th></th>\n",
       "      <th>Year</th>\n",
       "      <th>Yield (g/ha)</th>\n",
       "    </tr>\n",
       "  </thead>\n",
       "  <tbody>\n",
       "    <tr>\n",
       "      <th>62</th>\n",
       "      <td>1961</td>\n",
       "      <td>592500</td>\n",
       "    </tr>\n",
       "    <tr>\n",
       "      <th>63</th>\n",
       "      <td>1962</td>\n",
       "      <td>561900</td>\n",
       "    </tr>\n",
       "    <tr>\n",
       "      <th>64</th>\n",
       "      <td>1963</td>\n",
       "      <td>571700</td>\n",
       "    </tr>\n",
       "  </tbody>\n",
       "</table>\n",
       "</div>"
      ],
      "text/plain": [
       "    Year  Yield (g/ha)\n",
       "62  1961        592500\n",
       "63  1962        561900\n",
       "64  1963        571700"
      ]
     },
     "execution_count": 7,
     "metadata": {},
     "output_type": "execute_result"
    }
   ],
   "source": [
    "millet_yield = millet_yield_df['Yield (g/ha)']\n",
    "millet_yield_df['Yield (g/ha)'] = millet_yield.apply(lambda millet_yield: millet_yield * 100)\n",
    "millet_yield_df.head(3)"
   ]
  },
  {
   "cell_type": "markdown",
   "id": "dc2d7094-7f71-48a4-bae5-aad513d68478",
   "metadata": {},
   "source": [
    "We set the year as index"
   ]
  },
  {
   "cell_type": "code",
   "execution_count": 64,
   "id": "4c7e204f-c9f5-46d4-9bd2-8c72287dd571",
   "metadata": {},
   "outputs": [
    {
     "data": {
      "text/html": [
       "<div>\n",
       "<style scoped>\n",
       "    .dataframe tbody tr th:only-of-type {\n",
       "        vertical-align: middle;\n",
       "    }\n",
       "\n",
       "    .dataframe tbody tr th {\n",
       "        vertical-align: top;\n",
       "    }\n",
       "\n",
       "    .dataframe thead th {\n",
       "        text-align: right;\n",
       "    }\n",
       "</style>\n",
       "<table border=\"1\" class=\"dataframe\">\n",
       "  <thead>\n",
       "    <tr style=\"text-align: right;\">\n",
       "      <th></th>\n",
       "      <th>Yield (g/ha)</th>\n",
       "    </tr>\n",
       "  </thead>\n",
       "  <tbody>\n",
       "    <tr>\n",
       "      <th>1961-12-31</th>\n",
       "      <td>19423</td>\n",
       "    </tr>\n",
       "    <tr>\n",
       "      <th>1962-12-31</th>\n",
       "      <td>19796</td>\n",
       "    </tr>\n",
       "    <tr>\n",
       "      <th>1963-12-31</th>\n",
       "      <td>20311</td>\n",
       "    </tr>\n",
       "  </tbody>\n",
       "</table>\n",
       "</div>"
      ],
      "text/plain": [
       "            Yield (g/ha)\n",
       "1961-12-31         19423\n",
       "1962-12-31         19796\n",
       "1963-12-31         20311"
      ]
     },
     "execution_count": 64,
     "metadata": {},
     "output_type": "execute_result"
    }
   ],
   "source": [
    "year_index = pd.date_range('1961', '2023', freq='Y')\n",
    "maize_yield_df.set_index(year_index, inplace=True)\n",
    "maize_yield_df.drop('Year', axis=1, inplace=True)\n",
    "maize_yield_df.head(3)"
   ]
  },
  {
   "cell_type": "code",
   "execution_count": 9,
   "id": "1bca04ff-57d0-4b9c-aa10-6c4dfeae92a9",
   "metadata": {},
   "outputs": [
    {
     "data": {
      "text/html": [
       "<div>\n",
       "<style scoped>\n",
       "    .dataframe tbody tr th:only-of-type {\n",
       "        vertical-align: middle;\n",
       "    }\n",
       "\n",
       "    .dataframe tbody tr th {\n",
       "        vertical-align: top;\n",
       "    }\n",
       "\n",
       "    .dataframe thead th {\n",
       "        text-align: right;\n",
       "    }\n",
       "</style>\n",
       "<table border=\"1\" class=\"dataframe\">\n",
       "  <thead>\n",
       "    <tr style=\"text-align: right;\">\n",
       "      <th></th>\n",
       "      <th>Yield (g/ha)</th>\n",
       "    </tr>\n",
       "  </thead>\n",
       "  <tbody>\n",
       "    <tr>\n",
       "      <th>1961-12-31</th>\n",
       "      <td>592500</td>\n",
       "    </tr>\n",
       "    <tr>\n",
       "      <th>1962-12-31</th>\n",
       "      <td>561900</td>\n",
       "    </tr>\n",
       "    <tr>\n",
       "      <th>1963-12-31</th>\n",
       "      <td>571700</td>\n",
       "    </tr>\n",
       "  </tbody>\n",
       "</table>\n",
       "</div>"
      ],
      "text/plain": [
       "            Yield (g/ha)\n",
       "1961-12-31        592500\n",
       "1962-12-31        561900\n",
       "1963-12-31        571700"
      ]
     },
     "execution_count": 9,
     "metadata": {},
     "output_type": "execute_result"
    }
   ],
   "source": [
    "millet_yield_df.set_index(year_index, inplace=True)\n",
    "millet_yield_df.drop('Year', axis=1, inplace=True)\n",
    "millet_yield_df.head(3)"
   ]
  },
  {
   "cell_type": "markdown",
   "id": "a6584daf-5218-4b87-881a-c8063ef2f837",
   "metadata": {},
   "source": [
    "Now we can plot the time series for maize and millet yields"
   ]
  },
  {
   "cell_type": "code",
   "execution_count": 10,
   "id": "6902c184-a107-4135-834b-7180684f1a49",
   "metadata": {},
   "outputs": [
    {
     "data": {
      "text/plain": [
       "<matplotlib.legend.Legend at 0x1fba1a52e50>"
      ]
     },
     "execution_count": 10,
     "metadata": {},
     "output_type": "execute_result"
    },
    {
     "data": {
      "image/png": "[encoded data removed]",
      "text/plain": [
       "<Figure size 1000x500 with 1 Axes>"
      ]
     },
     "metadata": {},
     "output_type": "display_data"
    }
   ],
   "source": [
    "fig, ax = plt.subplots(figsize=(10,5))\n",
    "ax.grid(True)\n",
    "ax.set_title('World maize and millet yield')\n",
    "ax.set_ylabel('Yield (g/ha)')\n",
    "ax.set_xticks(maize_yield_df.index)\n",
    "ax.set_xticklabels(maize_yield_df.index, rotation=70)\n",
    "ax.xaxis.set_major_locator(dates.YearLocator(3))\n",
    "ax.xaxis.set_major_formatter(mdates.DateFormatter('%Y'))\n",
    "plt_maize = ax.plot(maize_yield_df, linewidth=0.5, label='maize')\n",
    "plt_millet = ax.plot(millet_yield_df, linewidth=0.5, label='millet')\n",
    "plt.legend(loc='upper left')"
   ]
  },
  {
   "cell_type": "markdown",
   "id": "2dabda9b-aad8-46cb-8be2-f9e26af13e0c",
   "metadata": {},
   "source": [
    "## Assensing the impact of global temperature anomalies on the crop yield\n",
    "We use the a linear model of the maize yield to assess the impact of temperature anomalies and fertilizer. We download the annual mean temperature anomalies and the standard deviation from Faostat."
   ]
  },
  {
   "cell_type": "code",
   "execution_count": 25,
   "id": "065f7ba2-e1cc-4d8a-9106-a8410d8505f9",
   "metadata": {},
   "outputs": [
    {
     "data": {
      "text/html": [
       "<div>\n",
       "<style scoped>\n",
       "    .dataframe tbody tr th:only-of-type {\n",
       "        vertical-align: middle;\n",
       "    }\n",
       "\n",
       "    .dataframe tbody tr th {\n",
       "        vertical-align: top;\n",
       "    }\n",
       "\n",
       "    .dataframe thead th {\n",
       "        text-align: right;\n",
       "    }\n",
       "</style>\n",
       "<table border=\"1\" class=\"dataframe\">\n",
       "  <thead>\n",
       "    <tr style=\"text-align: right;\">\n",
       "      <th></th>\n",
       "      <th>Domain Code</th>\n",
       "      <th>Domain</th>\n",
       "      <th>Area Code (M49)</th>\n",
       "      <th>Area</th>\n",
       "      <th>Element Code</th>\n",
       "      <th>Element</th>\n",
       "      <th>Months Code</th>\n",
       "      <th>Months</th>\n",
       "      <th>Year Code</th>\n",
       "      <th>Year</th>\n",
       "      <th>Unit</th>\n",
       "      <th>Value</th>\n",
       "      <th>Flag</th>\n",
       "      <th>Flag Description</th>\n",
       "    </tr>\n",
       "  </thead>\n",
       "  <tbody>\n",
       "    <tr>\n",
       "      <th>0</th>\n",
       "      <td>ET</td>\n",
       "      <td>Temperature change on land</td>\n",
       "      <td>1</td>\n",
       "      <td>World</td>\n",
       "      <td>7271</td>\n",
       "      <td>Temperature change</td>\n",
       "      <td>7020</td>\n",
       "      <td>Meteorological year</td>\n",
       "      <td>1961</td>\n",
       "      <td>1961</td>\n",
       "      <td>°c</td>\n",
       "      <td>0.211</td>\n",
       "      <td>E</td>\n",
       "      <td>Estimated value</td>\n",
       "    </tr>\n",
       "    <tr>\n",
       "      <th>1</th>\n",
       "      <td>ET</td>\n",
       "      <td>Temperature change on land</td>\n",
       "      <td>1</td>\n",
       "      <td>World</td>\n",
       "      <td>7271</td>\n",
       "      <td>Temperature change</td>\n",
       "      <td>7020</td>\n",
       "      <td>Meteorological year</td>\n",
       "      <td>1962</td>\n",
       "      <td>1962</td>\n",
       "      <td>°c</td>\n",
       "      <td>0.038</td>\n",
       "      <td>E</td>\n",
       "      <td>Estimated value</td>\n",
       "    </tr>\n",
       "  </tbody>\n",
       "</table>\n",
       "</div>"
      ],
      "text/plain": [
       "  Domain Code                      Domain  Area Code (M49)   Area  \\\n",
       "0          ET  Temperature change on land                1  World   \n",
       "1          ET  Temperature change on land                1  World   \n",
       "\n",
       "   Element Code             Element  Months Code               Months  \\\n",
       "0          7271  Temperature change         7020  Meteorological year   \n",
       "1          7271  Temperature change         7020  Meteorological year   \n",
       "\n",
       "   Year Code  Year Unit  Value Flag Flag Description  \n",
       "0       1961  1961   °c  0.211    E  Estimated value  \n",
       "1       1962  1962   °c  0.038    E  Estimated value  "
      ]
     },
     "execution_count": 25,
     "metadata": {},
     "output_type": "execute_result"
    }
   ],
   "source": [
    "path_temperature_dataset = 'data/FAOSTAT_Annual_temperature_change_on_land.csv'\n",
    "temperature_tmp_df = pd.read_csv(path_temperature_dataset)\n",
    "temperature_tmp_df.head(2)"
   ]
  },
  {
   "cell_type": "code",
   "execution_count": 23,
   "id": "5efd4cd4-64f5-40e4-8546-3dc48308c71a",
   "metadata": {},
   "outputs": [
    {
     "data": {
      "text/html": [
       "<div>\n",
       "<style scoped>\n",
       "    .dataframe tbody tr th:only-of-type {\n",
       "        vertical-align: middle;\n",
       "    }\n",
       "\n",
       "    .dataframe tbody tr th {\n",
       "        vertical-align: top;\n",
       "    }\n",
       "\n",
       "    .dataframe thead th {\n",
       "        text-align: right;\n",
       "    }\n",
       "</style>\n",
       "<table border=\"1\" class=\"dataframe\">\n",
       "  <thead>\n",
       "    <tr style=\"text-align: right;\">\n",
       "      <th></th>\n",
       "      <th>Year</th>\n",
       "      <th>Value</th>\n",
       "    </tr>\n",
       "  </thead>\n",
       "  <tbody>\n",
       "    <tr>\n",
       "      <th>60</th>\n",
       "      <td>2021</td>\n",
       "      <td>1.447</td>\n",
       "    </tr>\n",
       "    <tr>\n",
       "      <th>61</th>\n",
       "      <td>2022</td>\n",
       "      <td>1.394</td>\n",
       "    </tr>\n",
       "  </tbody>\n",
       "</table>\n",
       "</div>"
      ],
      "text/plain": [
       "    Year  Value\n",
       "60  2021  1.447\n",
       "61  2022  1.394"
      ]
     },
     "execution_count": 23,
     "metadata": {},
     "output_type": "execute_result"
    }
   ],
   "source": [
    "temperature_df = temperature_tmp_df[temperature_tmp_df['Element'] == 'Temperature change'][['Year', 'Value']]\n",
    "temperature_df.tail(2)"
   ]
  },
  {
   "cell_type": "code",
   "execution_count": 31,
   "id": "4c3b68c0-b109-4bf0-844b-98324faf7b42",
   "metadata": {},
   "outputs": [
    {
     "data": {
      "text/html": [
       "<div>\n",
       "<style scoped>\n",
       "    .dataframe tbody tr th:only-of-type {\n",
       "        vertical-align: middle;\n",
       "    }\n",
       "\n",
       "    .dataframe tbody tr th {\n",
       "        vertical-align: top;\n",
       "    }\n",
       "\n",
       "    .dataframe thead th {\n",
       "        text-align: right;\n",
       "    }\n",
       "</style>\n",
       "<table border=\"1\" class=\"dataframe\">\n",
       "  <thead>\n",
       "    <tr style=\"text-align: right;\">\n",
       "      <th></th>\n",
       "      <th>Value</th>\n",
       "    </tr>\n",
       "  </thead>\n",
       "  <tbody>\n",
       "    <tr>\n",
       "      <th>1961-12-31</th>\n",
       "      <td>0.211</td>\n",
       "    </tr>\n",
       "    <tr>\n",
       "      <th>1962-12-31</th>\n",
       "      <td>0.038</td>\n",
       "    </tr>\n",
       "    <tr>\n",
       "      <th>1963-12-31</th>\n",
       "      <td>0.168</td>\n",
       "    </tr>\n",
       "  </tbody>\n",
       "</table>\n",
       "</div>"
      ],
      "text/plain": [
       "            Value\n",
       "1961-12-31  0.211\n",
       "1962-12-31  0.038\n",
       "1963-12-31  0.168"
      ]
     },
     "execution_count": 31,
     "metadata": {},
     "output_type": "execute_result"
    }
   ],
   "source": [
    "temperature_df.set_index(year_index, inplace=True)\n",
    "temperature_df.drop('Year', axis=1, inplace=True)\n",
    "temperature_df.head(3)"
   ]
  },
  {
   "cell_type": "markdown",
   "id": "678b8f3e-e7dd-4526-b1e9-6898360cc152",
   "metadata": {},
   "source": [
    "The standard deviation has a constant value of 0.202 °C"
   ]
  },
  {
   "cell_type": "code",
   "execution_count": 32,
   "id": "edd1f88b-c065-4091-ac4f-b3e9c6fa601b",
   "metadata": {},
   "outputs": [
    {
     "data": {
      "text/plain": [
       "False"
      ]
     },
     "execution_count": 32,
     "metadata": {},
     "output_type": "execute_result"
    }
   ],
   "source": [
    "std_temp_df = temperature_tmp_df[temperature_tmp_df['Element'] == 'Standard Deviation'][['Year', 'Value']]\n",
    "len(std_temp_df[std_temp_df['Value'] != 0.202]) > 0"
   ]
  },
  {
   "cell_type": "code",
   "execution_count": 36,
   "id": "4bec8c19-a987-46a4-a32e-dc321241578f",
   "metadata": {},
   "outputs": [
    {
     "data": {
      "image/png": "[encoded data removed]",
      "text/plain": [
       "<Figure size 1000x500 with 1 Axes>"
      ]
     },
     "metadata": {},
     "output_type": "display_data"
    }
   ],
   "source": [
    "fig, ax = plt.subplots(figsize=(10,5))\n",
    "ax.grid(True)\n",
    "ax.set_title('Global Annual Temperature Anomalies on Land')\n",
    "ax.set_ylabel('Temp. Anomalies (°C)')\n",
    "ax.set_xticks(year_index)\n",
    "ax.set_xticklabels(year_index, rotation=70)\n",
    "ax.xaxis.set_major_locator(dates.YearLocator(5))\n",
    "ax.xaxis.set_major_formatter(mdates.DateFormatter('%Y'))\n",
    "plt_temp = ax.plot(temperature_df, linewidth=0.5, label='Temp. Anom.')\n",
    "#plt.legend(loc='upper left')"
   ]
  },
  {
   "cell_type": "markdown",
   "id": "60041105-a73f-488b-8dc4-dac3f82bbcc9",
   "metadata": {},
   "source": [
    "## Fertilizers\n",
    "We download from the Faostat websites the dataset of the amount of livestock manure applied to soil. "
   ]
  },
  {
   "cell_type": "code",
   "execution_count": 46,
   "id": "87c2f4cb-5255-43ff-89aa-d2de43f2a4ce",
   "metadata": {},
   "outputs": [
    {
     "data": {
      "text/html": [
       "<div>\n",
       "<style scoped>\n",
       "    .dataframe tbody tr th:only-of-type {\n",
       "        vertical-align: middle;\n",
       "    }\n",
       "\n",
       "    .dataframe tbody tr th {\n",
       "        vertical-align: top;\n",
       "    }\n",
       "\n",
       "    .dataframe thead th {\n",
       "        text-align: right;\n",
       "    }\n",
       "</style>\n",
       "<table border=\"1\" class=\"dataframe\">\n",
       "  <thead>\n",
       "    <tr style=\"text-align: right;\">\n",
       "      <th></th>\n",
       "      <th>Year</th>\n",
       "      <th>Value</th>\n",
       "    </tr>\n",
       "  </thead>\n",
       "  <tbody>\n",
       "    <tr>\n",
       "      <th>59</th>\n",
       "      <td>2020</td>\n",
       "      <td>2.731401e+10</td>\n",
       "    </tr>\n",
       "    <tr>\n",
       "      <th>60</th>\n",
       "      <td>2021</td>\n",
       "      <td>2.745751e+10</td>\n",
       "    </tr>\n",
       "  </tbody>\n",
       "</table>\n",
       "</div>"
      ],
      "text/plain": [
       "    Year         Value\n",
       "59  2020  2.731401e+10\n",
       "60  2021  2.745751e+10"
      ]
     },
     "execution_count": 46,
     "metadata": {},
     "output_type": "execute_result"
    }
   ],
   "source": [
    "path_manure_dataset = 'data/FAOSTAT_Livestock_manure.csv'\n",
    "manure_df = pd.read_csv(path_manure_dataset, usecols=['Year', 'Value'])\n",
    "manure_df.tail(2)"
   ]
  },
  {
   "cell_type": "code",
   "execution_count": 47,
   "id": "a9091aab-0aa4-40ee-9699-4e7c85c44081",
   "metadata": {},
   "outputs": [
    {
     "data": {
      "text/html": [
       "<div>\n",
       "<style scoped>\n",
       "    .dataframe tbody tr th:only-of-type {\n",
       "        vertical-align: middle;\n",
       "    }\n",
       "\n",
       "    .dataframe tbody tr th {\n",
       "        vertical-align: top;\n",
       "    }\n",
       "\n",
       "    .dataframe thead th {\n",
       "        text-align: right;\n",
       "    }\n",
       "</style>\n",
       "<table border=\"1\" class=\"dataframe\">\n",
       "  <thead>\n",
       "    <tr style=\"text-align: right;\">\n",
       "      <th></th>\n",
       "      <th>Value</th>\n",
       "    </tr>\n",
       "  </thead>\n",
       "  <tbody>\n",
       "    <tr>\n",
       "      <th>2019-12-31</th>\n",
       "      <td>2.686690e+10</td>\n",
       "    </tr>\n",
       "    <tr>\n",
       "      <th>2020-12-31</th>\n",
       "      <td>2.731401e+10</td>\n",
       "    </tr>\n",
       "    <tr>\n",
       "      <th>2021-12-31</th>\n",
       "      <td>2.745751e+10</td>\n",
       "    </tr>\n",
       "  </tbody>\n",
       "</table>\n",
       "</div>"
      ],
      "text/plain": [
       "                   Value\n",
       "2019-12-31  2.686690e+10\n",
       "2020-12-31  2.731401e+10\n",
       "2021-12-31  2.745751e+10"
      ]
     },
     "execution_count": 47,
     "metadata": {},
     "output_type": "execute_result"
    }
   ],
   "source": [
    "manure_df.set_index(year_index[:-1], inplace=True)\n",
    "manure_df.drop('Year', axis=1, inplace=True)\n",
    "manure_df.tail(3)"
   ]
  },
  {
   "cell_type": "code",
   "execution_count": 48,
   "id": "6de6ebe8-c5b5-4066-8d39-15266e90edb3",
   "metadata": {},
   "outputs": [
    {
     "data": {
      "image/png": "[encoded data removed]",
      "text/plain": [
       "<Figure size 1000x500 with 1 Axes>"
      ]
     },
     "metadata": {},
     "output_type": "display_data"
    }
   ],
   "source": [
    "fig, ax = plt.subplots(figsize=(10,5))\n",
    "ax.grid(True)\n",
    "ax.set_title('Manure Applied to Soil')\n",
    "ax.set_ylabel('(Kg)')\n",
    "ax.set_xticks(year_index)\n",
    "ax.set_xticklabels(year_index, rotation=70)\n",
    "ax.xaxis.set_major_locator(dates.YearLocator(5))\n",
    "ax.xaxis.set_major_formatter(mdates.DateFormatter('%Y'))\n",
    "plt_temp = ax.plot(manure_df, linewidth=0.5, label='Manure.')\n",
    "#plt.legend(loc='upper left')"
   ]
  },
  {
   "cell_type": "markdown",
   "id": "9a63517c-56bf-43d9-91cd-e762d23646e1",
   "metadata": {},
   "source": [
    "## The SARIMAX model\n",
    "We use a model for the maize yield that takes into account some past values of yield and errors and also the temperature anomalies and fertilizers, that is we assume that temperature anomalies and the amount of fertilizers are good predictors of the maize yield. If we represent by $y_t$ the present value of the maize yeld its dependency can be represented as\n",
    "\n",
    "$$y_t = SARIMA(p,d,q)(P,D,Q)m + \\beta_1 T_t + \\beta_2 F_t$$\n",
    "\n",
    "where $T_t$ is the present temperature anomaly, $F_t$ the present amount of fertilizers, and the other parameters have the following interpretation: p is number of past y values, d the difference order, q the number of previous errors, P and Q the past values and errors respectively of the seasonality and m its frequency. "
   ]
  },
  {
   "cell_type": "markdown",
   "id": "5d5b6837-0f37-435b-8dbb-e616cf264ccb",
   "metadata": {},
   "source": [
    "### Stationarity\n",
    "We check whether the maize yield time series is stationary. The nulll hypothesis is that it is not stationary and, from the result of the augmented Dickey-Fuller test, it cannot be rejected."
   ]
  },
  {
   "cell_type": "code",
   "execution_count": 68,
   "id": "14c4c7e2-31ce-487e-aaaf-a572112cde9c",
   "metadata": {},
   "outputs": [
    {
     "data": {
      "text/plain": [
       "1961-12-31    19423\n",
       "1962-12-31    19796\n",
       "1963-12-31    20311\n",
       "1964-12-31    19937\n",
       "1965-12-31    21237\n",
       "              ...  \n",
       "2018-12-31    57583\n",
       "2019-12-31    58744\n",
       "2020-12-31    57998\n",
       "2021-12-31    58728\n",
       "2022-12-31    57183\n",
       "Freq: A-DEC, Name: Yield (g/ha), Length: 62, dtype: int64"
      ]
     },
     "execution_count": 68,
     "metadata": {},
     "output_type": "execute_result"
    }
   ],
   "source": [
    "maize_yield_df['Yield (g/ha)']"
   ]
  },
  {
   "cell_type": "code",
   "execution_count": 65,
   "id": "130579b5-b51c-4a40-8cc5-a895481095f2",
   "metadata": {},
   "outputs": [
    {
     "name": "stdout",
     "output_type": "stream",
     "text": [
      "ADF Statistic: -0.3257226813405258\n",
      "p-value: 0.9217813968357452\n"
     ]
    }
   ],
   "source": [
    "ADF_result = adfuller(maize_yield_df)\n",
    "print(f'ADF Statistic: {ADF_result[0]}')\n",
    "print(f'p-value: {ADF_result[1]}')"
   ]
  },
  {
   "cell_type": "code",
   "execution_count": 70,
   "id": "b85b0417-fdbc-4590-aa33-857275134e46",
   "metadata": {},
   "outputs": [],
   "source": [
    "maize_yield_diff = np.diff(maize_yield_df['Yield (g/ha)'], n=1)\n",
    "maize_yield_diff_df = pd.DataFrame({'Diff': maize_yield_diff}, index=year_index[1:])"
   ]
  },
  {
   "cell_type": "markdown",
   "id": "696bdf50-2f09-4294-8c32-a60c68999259",
   "metadata": {},
   "source": [
    "The first order difference of the maize yield is stationary"
   ]
  },
  {
   "cell_type": "code",
   "execution_count": 71,
   "id": "014044e0-1598-45ce-9e8f-cedf79d11826",
   "metadata": {},
   "outputs": [
    {
     "name": "stdout",
     "output_type": "stream",
     "text": [
      "ADF Statistic: -6.53292318437123\n",
      "p-value: 9.767874162294072e-09\n"
     ]
    }
   ],
   "source": [
    "ADF_result = adfuller(maize_yield_diff_df)\n",
    "print(f'ADF Statistic: {ADF_result[0]}')\n",
    "print(f'p-value: {ADF_result[1]}')"
   ]
  },
  {
   "cell_type": "code",
   "execution_count": 72,
   "id": "a65119d8-2685-4aa7-8a86-503c89407446",
   "metadata": {},
   "outputs": [],
   "source": [
    "def optimize_SARIMAX(endog: Union[pd.Series, list], exog: Union[pd.Series, list], order_list: list, d: int, D: int, s: int) -> pd.DataFrame:\n",
    "    \n",
    "    results = []\n",
    "    \n",
    "    for order in tqdm_notebook(order_list):\n",
    "        try: \n",
    "            model = SARIMAX(\n",
    "                endog,\n",
    "                exog,\n",
    "                order=(order[0], d, order[1]),\n",
    "                seasonal_order=(order[2], D, order[3], s),\n",
    "                simple_differencing=False).fit(disp=False)\n",
    "        except:\n",
    "            continue\n",
    "            \n",
    "        aic = model.aic\n",
    "        results.append([order, aic])\n",
    "        \n",
    "    result_df = pd.DataFrame(results)\n",
    "    result_df.columns = ['(p,q,P,Q)', 'AIC']\n",
    "    \n",
    "    #Sort in ascending order, lower AIC is better\n",
    "    result_df = result_df.sort_values(by='AIC', ascending=True).reset_index(drop=True)\n",
    "    \n",
    "    return result_df"
   ]
  },
  {
   "cell_type": "markdown",
   "id": "bf23c515",
   "metadata": {},
   "source": [
    "## References\n",
    "* [FAO Land Statistics](https://www.fao.org/3/cb2860en/cb2860en.pdf)"
   ]
  },
  {
   "cell_type": "code",
   "execution_count": null,
   "id": "1a6dae94",
   "metadata": {},
   "outputs": [],
   "source": []
  }
 ],
 "metadata": {
  "kernelspec": {
   "display_name": "Python 3 (ipykernel)",
   "language": "python",
   "name": "python3"
  },
  "language_info": {
   "codemirror_mode": {
    "name": "ipython",
    "version": 3
   },
   "file_extension": ".py",
   "mimetype": "text/x-python",
   "name": "python",
   "nbconvert_exporter": "python",
   "pygments_lexer": "ipython3",
   "version": "3.11.5"
  }
 },
 "nbformat": 4,
 "nbformat_minor": 5
}
