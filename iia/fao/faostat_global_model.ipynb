{
 "cells": [
  {
   "cell_type": "markdown",
   "id": "3c84c22a-ac24-4611-a0e0-6a1a749369dd",
   "metadata": {},
   "source": [
    "# Faostat global model\n",
    "In this notebook we create an ensemble of multilayer perceptron ([MLP](https://scikit-learn.org/stable/modules/generated/sklearn.neural_network.MLPRegressor.html#sklearn.neural_network.MLPRegressor)) models to fit the world crop yields using the input variables: precipitation, air temperature, natural and synthetic fertilizers."
   ]
  },
  {
   "cell_type": "code",
   "execution_count": 1,
   "id": "3d68f27b-9187-410b-8f3e-e274b6a5a9ae",
   "metadata": {},
   "outputs": [
    {
     "name": "stdout",
     "output_type": "stream",
     "text": [
      "NumPy version: 1.25.2\n",
      "Pandas version: 2.1.1\n",
      "Matplotlib version: 3.8.0\n"
     ]
    }
   ],
   "source": [
    "import numpy as np\n",
    "import pandas as pd\n",
    "import matplotlib as mpl\n",
    "import matplotlib.pyplot as plt\n",
    "from matplotlib.pyplot import figure\n",
    "import matplotlib.dates as mdates\n",
    "import warnings\n",
    "warnings.filterwarnings('ignore')\n",
    "print(\"NumPy version: %s\"%np.__version__)\n",
    "print(\"Pandas version: %s\"%pd.__version__)\n",
    "print(\"Matplotlib version: %s\"%mpl.__version__)"
   ]
  },
  {
   "cell_type": "markdown",
   "id": "460cd406-8c3d-4031-bdf5-c25cbfae92e1",
   "metadata": {},
   "source": [
    "## The dataset\n",
    "We load the dataset that was prepared by putting into the same file the predictors and the predictands data"
   ]
  },
  {
   "cell_type": "code",
   "execution_count": 2,
   "id": "e20e1d75-31bb-4c26-9be8-5e48efb7fa86",
   "metadata": {},
   "outputs": [
    {
     "data": {
      "text/html": [
       "<div>\n",
       "<style scoped>\n",
       "    .dataframe tbody tr th:only-of-type {\n",
       "        vertical-align: middle;\n",
       "    }\n",
       "\n",
       "    .dataframe tbody tr th {\n",
       "        vertical-align: top;\n",
       "    }\n",
       "\n",
       "    .dataframe thead th {\n",
       "        text-align: right;\n",
       "    }\n",
       "</style>\n",
       "<table border=\"1\" class=\"dataframe\">\n",
       "  <thead>\n",
       "    <tr style=\"text-align: right;\">\n",
       "      <th></th>\n",
       "      <th>Maize (100g/ha)</th>\n",
       "      <th>Millet (100g/ha)</th>\n",
       "      <th>Temp. Anom. (°C)</th>\n",
       "      <th>Prec.Anom. (mm)</th>\n",
       "      <th>CO2 (ppm)</th>\n",
       "      <th>Manure (Mt)</th>\n",
       "      <th>Nitrogen (tons)</th>\n",
       "      <th>Phosphate (tons)</th>\n",
       "      <th>Potash (tons)</th>\n",
       "    </tr>\n",
       "  </thead>\n",
       "  <tbody>\n",
       "    <tr>\n",
       "      <th>1961-12-31</th>\n",
       "      <td>19423</td>\n",
       "      <td>5925</td>\n",
       "      <td>0.211</td>\n",
       "      <td>15.318908</td>\n",
       "      <td>317.64</td>\n",
       "      <td>1.835092e+10</td>\n",
       "      <td>11486265.27</td>\n",
       "      <td>10888968.81</td>\n",
       "      <td>8626724.57</td>\n",
       "    </tr>\n",
       "    <tr>\n",
       "      <th>1962-12-31</th>\n",
       "      <td>19796</td>\n",
       "      <td>5619</td>\n",
       "      <td>0.038</td>\n",
       "      <td>0.768900</td>\n",
       "      <td>318.45</td>\n",
       "      <td>1.872918e+10</td>\n",
       "      <td>12969831.11</td>\n",
       "      <td>11534554.43</td>\n",
       "      <td>9146891.38</td>\n",
       "    </tr>\n",
       "  </tbody>\n",
       "</table>\n",
       "</div>"
      ],
      "text/plain": [
       "            Maize (100g/ha)  Millet (100g/ha)  Temp. Anom. (°C)  \\\n",
       "1961-12-31            19423              5925             0.211   \n",
       "1962-12-31            19796              5619             0.038   \n",
       "\n",
       "            Prec.Anom. (mm)  CO2 (ppm)   Manure (Mt)  Nitrogen (tons)  \\\n",
       "1961-12-31        15.318908     317.64  1.835092e+10      11486265.27   \n",
       "1962-12-31         0.768900     318.45  1.872918e+10      12969831.11   \n",
       "\n",
       "            Phosphate (tons)  Potash (tons)  \n",
       "1961-12-31       10888968.81     8626724.57  \n",
       "1962-12-31       11534554.43     9146891.38  "
      ]
     },
     "execution_count": 2,
     "metadata": {},
     "output_type": "execute_result"
    }
   ],
   "source": [
    "global_crop_yield_path = 'data/global_dataset.csv'\n",
    "global_crop_yield_df = pd.read_csv(global_crop_yield_path, index_col=0)\n",
    "global_crop_yield_df.head(2)"
   ]
  },
  {
   "cell_type": "markdown",
   "id": "85253f6e-56c6-43a6-92f4-82d45e65afde",
   "metadata": {},
   "source": [
    "## Data preparation\n",
    "Since the values for the variables differ by orders of magnitude, we normalize them before using the data as input for the model. We use the [StandardScaler](https://scikit-learn.org/stable/modules/generated/sklearn.preprocessing.StandardScaler.html#sklearn.preprocessing.StandardScaler) from the scikit-learn package to normalize the values. The scaler removes the mean and scale the values to unit variance. We start by selecting the columns with the input data"
   ]
  },
  {
   "cell_type": "code",
   "execution_count": 3,
   "id": "9dca5275-3d24-462f-b838-4b427a786eea",
   "metadata": {},
   "outputs": [],
   "source": [
    "X = global_crop_yield_df.iloc[:, [2, 3, 5, 6]].to_numpy()\n",
    "y = global_crop_yield_df.iloc[:, [0]].to_numpy()"
   ]
  },
  {
   "cell_type": "markdown",
   "id": "9beda5d5-1e3f-4022-ab66-f54283173c27",
   "metadata": {},
   "source": [
    "and the column of the predictand (maize)"
   ]
  },
  {
   "cell_type": "code",
   "execution_count": 4,
   "id": "2eeed184-ce28-4fb2-b10c-6492130c6a82",
   "metadata": {},
   "outputs": [
    {
     "data": {
      "text/plain": [
       "array([[19423]], dtype=int64)"
      ]
     },
     "execution_count": 4,
     "metadata": {},
     "output_type": "execute_result"
    }
   ],
   "source": [
    "y[:1]"
   ]
  },
  {
   "cell_type": "code",
   "execution_count": 5,
   "id": "3c4b2574-eee1-424a-a606-7ffaee15aa97",
   "metadata": {},
   "outputs": [],
   "source": [
    "from sklearn import preprocessing\n",
    "scaler_x = preprocessing.StandardScaler().fit(X)"
   ]
  },
  {
   "cell_type": "markdown",
   "id": "e7ad1c2d-2429-4748-b93b-b4f19d5a2e98",
   "metadata": {},
   "source": [
    "The scaler computes the mean of the input variables"
   ]
  },
  {
   "cell_type": "code",
   "execution_count": 6,
   "id": "70caded3-2764-492f-99c1-432d6ffafef0",
   "metadata": {},
   "outputs": [
    {
     "data": {
      "text/plain": [
       "0.5707741935483871"
      ]
     },
     "execution_count": 6,
     "metadata": {},
     "output_type": "execute_result"
    }
   ],
   "source": [
    "mean_x = scaler_x.mean_[0]\n",
    "mean_x"
   ]
  },
  {
   "cell_type": "markdown",
   "id": "99ee47d5-eac9-4ab2-b233-9a9106f1153e",
   "metadata": {},
   "source": [
    "and the variance"
   ]
  },
  {
   "cell_type": "code",
   "execution_count": 7,
   "id": "4585d514-3fed-4d08-b931-2e3df89f3a95",
   "metadata": {},
   "outputs": [
    {
     "data": {
      "text/plain": [
       "0.5387043721971724"
      ]
     },
     "execution_count": 7,
     "metadata": {},
     "output_type": "execute_result"
    }
   ],
   "source": [
    "variance_x = scaler_x.scale_[0]\n",
    "variance_x"
   ]
  },
  {
   "cell_type": "markdown",
   "id": "58e5ef1f-2104-462b-8089-996687b2d113",
   "metadata": {},
   "source": [
    "we use the scaler to normalize the input variables"
   ]
  },
  {
   "cell_type": "code",
   "execution_count": 8,
   "id": "dd9cc6b8-1617-40fd-8fd2-66097de3ec5f",
   "metadata": {},
   "outputs": [
    {
     "data": {
      "text/plain": [
       "(62, 4)"
      ]
     },
     "execution_count": 8,
     "metadata": {},
     "output_type": "execute_result"
    }
   ],
   "source": [
    "X_scaled = scaler_x.transform(X)\n",
    "X_scaled.shape"
   ]
  },
  {
   "cell_type": "code",
   "execution_count": 9,
   "id": "f912cf18-2a00-4acc-8e4d-5015897d5116",
   "metadata": {},
   "outputs": [
    {
     "data": {
      "text/plain": [
       "(62, 1)"
      ]
     },
     "execution_count": 9,
     "metadata": {},
     "output_type": "execute_result"
    }
   ],
   "source": [
    "scaler_y = preprocessing.StandardScaler().fit(y)\n",
    "y_scaled = scaler_y.transform(y)\n",
    "y_scaled.shape"
   ]
  },
  {
   "cell_type": "code",
   "execution_count": 10,
   "id": "5d6c1365-8e3d-4f67-8299-d6a9fe57dcd0",
   "metadata": {},
   "outputs": [
    {
     "data": {
      "text/plain": [
       "38951.403225806454"
      ]
     },
     "execution_count": 10,
     "metadata": {},
     "output_type": "execute_result"
    }
   ],
   "source": [
    "mean_y = scaler_y.mean_[0]\n",
    "mean_y"
   ]
  },
  {
   "cell_type": "code",
   "execution_count": 11,
   "id": "062e80d6-01c2-4e5c-b90a-9dd2c5a08549",
   "metadata": {},
   "outputs": [
    {
     "data": {
      "text/plain": [
       "11966.558404448891"
      ]
     },
     "execution_count": 11,
     "metadata": {},
     "output_type": "execute_result"
    }
   ],
   "source": [
    "variance_y = scaler_y.scale_[0]\n",
    "variance_y"
   ]
  },
  {
   "cell_type": "markdown",
   "id": "53639f19-7630-449c-acc5-bfa874f6322d",
   "metadata": {},
   "source": [
    "## Train and test set\n",
    "The data used to train a model of the ensemble is divided into a train set and a test set"
   ]
  },
  {
   "cell_type": "code",
   "execution_count": 32,
   "id": "c6304386-13ed-4ad2-a51d-c63baf653ab1",
   "metadata": {},
   "outputs": [
    {
     "data": {
      "text/plain": [
       "((43, 4), (43, 1), (19, 4), (19, 1))"
      ]
     },
     "execution_count": 32,
     "metadata": {},
     "output_type": "execute_result"
    }
   ],
   "source": [
    "from sklearn.model_selection import train_test_split\n",
    "X_train, X_test, y_train, y_test = train_test_split(X_scaled, y_scaled, test_size=0.3, random_state=0)\n",
    "X_train.shape, y_train.shape, X_test.shape, y_test.shape"
   ]
  },
  {
   "cell_type": "markdown",
   "id": "232b4ded-d79c-4161-80e3-7de71f8d5dde",
   "metadata": {},
   "source": [
    "## Ensemble models training"
   ]
  },
  {
   "cell_type": "code",
   "execution_count": 33,
   "id": "6ac511f8-0407-4c46-a74f-4668565190f2",
   "metadata": {},
   "outputs": [
    {
     "data": {
      "text/plain": [
       "62"
      ]
     },
     "execution_count": 33,
     "metadata": {},
     "output_type": "execute_result"
    }
   ],
   "source": [
    "num_observations = X.shape[0]\n",
    "num_observations"
   ]
  },
  {
   "cell_type": "markdown",
   "id": "84656088-90f7-430d-adc8-9d741a739b20",
   "metadata": {},
   "source": [
    "We train an ensemble of MLP models that start with a different init parameters"
   ]
  },
  {
   "cell_type": "code",
   "execution_count": 34,
   "id": "ce9ba58b-31ee-4c7a-b1ca-5636dfd97052",
   "metadata": {},
   "outputs": [
    {
     "data": {
      "text/plain": [
       "20"
      ]
     },
     "execution_count": 34,
     "metadata": {},
     "output_type": "execute_result"
    }
   ],
   "source": [
    "import random \n",
    "num_ensemble_members = 20 \n",
    "from random import randint\n",
    "random_states = [randint(2, num_observations) for p in range(1, num_ensemble_members + 1)]\n",
    "len(random_states)"
   ]
  },
  {
   "cell_type": "markdown",
   "id": "efa9cee7-4d2b-4f9b-9bad-4b502108a1e6",
   "metadata": {},
   "source": [
    "A random state is the seed used during the training of a model of the ensemble"
   ]
  },
  {
   "cell_type": "code",
   "execution_count": 35,
   "id": "a4de9a19-94a0-42af-9ab4-413e03086d94",
   "metadata": {},
   "outputs": [
    {
     "data": {
      "text/plain": [
       "[58, 59, 18, 18, 5, 30, 12, 15, 55, 48, 10, 7, 51, 42, 12, 2, 60, 29, 49, 20]"
      ]
     },
     "execution_count": 35,
     "metadata": {},
     "output_type": "execute_result"
    }
   ],
   "source": [
    "random_states[:]"
   ]
  },
  {
   "cell_type": "markdown",
   "id": "2da3dcf1-d0b5-4bc1-a634-6fe2974e638c",
   "metadata": {},
   "source": [
    "We initialize a 2D array that will contain the predictions of the ensemble models"
   ]
  },
  {
   "cell_type": "code",
   "execution_count": 36,
   "id": "02fb9e5a-0c76-48a0-8c3b-9416b1afcbc3",
   "metadata": {},
   "outputs": [
    {
     "data": {
      "text/plain": [
       "(62, 20)"
      ]
     },
     "execution_count": 36,
     "metadata": {},
     "output_type": "execute_result"
    }
   ],
   "source": [
    "ensemble_members = np.zeros((num_observations,num_ensemble_members))\n",
    "ensemble_members.shape"
   ]
  },
  {
   "cell_type": "code",
   "execution_count": 80,
   "id": "dcabfd01-bdc5-4e08-a1c1-9045b6b1b1d3",
   "metadata": {},
   "outputs": [
    {
     "name": "stdout",
     "output_type": "stream",
     "text": [
      "Run 0\n",
      "done in 0.024s\n",
      "Train R2 score: 0.97\n",
      "Test R2 score: 0.96\n",
      "\n",
      "Run 1\n",
      "done in 0.017s\n",
      "Train R2 score: 0.96\n",
      "Test R2 score: 0.98\n",
      "\n",
      "Run 2\n",
      "done in 0.018s\n",
      "Train R2 score: 0.98\n",
      "Test R2 score: 0.95\n",
      "\n",
      "Run 3\n",
      "done in 0.034s\n",
      "Train R2 score: 0.98\n",
      "Test R2 score: 0.95\n",
      "\n",
      "Run 4\n",
      "done in 0.037s\n",
      "Train R2 score: 0.97\n",
      "Test R2 score: 0.93\n",
      "\n",
      "Run 5\n",
      "done in 0.025s\n",
      "Train R2 score: 0.92\n",
      "Test R2 score: 0.86\n",
      "\n",
      "Run 6\n",
      "done in 0.013s\n",
      "Train R2 score: 0.96\n",
      "Test R2 score: 0.97\n",
      "\n",
      "Run 7\n",
      "done in 0.011s\n",
      "Train R2 score: 0.97\n",
      "Test R2 score: 0.94\n",
      "\n",
      "Run 8\n",
      "done in 0.017s\n",
      "Train R2 score: 0.97\n",
      "Test R2 score: 0.94\n",
      "\n",
      "Run 9\n",
      "done in 0.011s\n",
      "Train R2 score: 0.96\n",
      "Test R2 score: 0.98\n",
      "\n",
      "Run 10\n",
      "done in 0.013s\n",
      "Train R2 score: 0.97\n",
      "Test R2 score: 0.95\n",
      "\n",
      "Run 11\n",
      "done in 0.013s\n",
      "Train R2 score: 0.98\n",
      "Test R2 score: 0.78\n",
      "\n",
      "Run 12\n",
      "done in 0.015s\n",
      "Train R2 score: 0.97\n",
      "Test R2 score: 0.97\n",
      "\n",
      "Run 13\n",
      "done in 0.015s\n",
      "Train R2 score: 0.96\n",
      "Test R2 score: 0.99\n",
      "\n",
      "Run 14\n",
      "done in 0.013s\n",
      "Train R2 score: 0.96\n",
      "Test R2 score: 0.97\n",
      "\n",
      "Run 15\n",
      "done in 0.016s\n",
      "Train R2 score: 0.97\n",
      "Test R2 score: 0.96\n",
      "\n",
      "Run 16\n",
      "done in 0.014s\n",
      "Train R2 score: 0.97\n",
      "Test R2 score: 0.92\n",
      "\n",
      "Run 17\n",
      "done in 0.010s\n",
      "Train R2 score: 0.96\n",
      "Test R2 score: 0.97\n",
      "\n",
      "Run 18\n",
      "done in 0.009s\n",
      "Train R2 score: 0.98\n",
      "Test R2 score: 0.89\n",
      "\n",
      "Run 19\n",
      "done in 0.011s\n",
      "Train R2 score: 0.96\n",
      "Test R2 score: 0.99\n",
      "\n"
     ]
    }
   ],
   "source": [
    "from time import time\n",
    "from sklearn.model_selection import train_test_split\n",
    "from sklearn.neural_network import MLPRegressor\n",
    "from sklearn.pipeline import make_pipeline\n",
    "\n",
    "for i in range(0, num_ensemble_members):\n",
    "    random_state = random_states[i]\n",
    "    tic = time()\n",
    "    mlp_model = MLPRegressor(\n",
    "               hidden_layer_sizes=(4, 1),\n",
    "               activation='tanh',\n",
    "               #learning_rate_init=0.01, not used with lbfgs solver\n",
    "               early_stopping=True,\n",
    "               random_state=random_state,\n",
    "               solver='lbfgs',\n",
    "               max_iter=20\n",
    "            )\n",
    "    X_train, X_test, y_train, y_test = train_test_split(X_scaled, y_scaled, test_size=0.2, random_state=random_state)\n",
    "    mlp_model.fit(X_train, y_train)\n",
    "    model_sample = mlp_model.predict(X_scaled)\n",
    "    ensemble_members[:, i] = model_sample\n",
    "    print('Run {0:d}'.format(i))\n",
    "    print(f\"done in {time() - tic:.3f}s\")\n",
    "    print(f\"Train R2 score: {mlp_model.score(X_train, y_train):.2f}\")\n",
    "    print(f\"Test R2 score: {mlp_model.score(X_test, y_test):.2f}\\n\")\n",
    "    mlp_model=None"
   ]
  },
  {
   "cell_type": "code",
   "execution_count": 81,
   "id": "047203c8-8080-4263-aa4c-42f14ca4e0af",
   "metadata": {},
   "outputs": [
    {
     "data": {
      "text/plain": [
       "(62, 20)"
      ]
     },
     "execution_count": 81,
     "metadata": {},
     "output_type": "execute_result"
    }
   ],
   "source": [
    "ensemble_members.shape"
   ]
  },
  {
   "cell_type": "markdown",
   "id": "19b344be-07ec-4544-be5d-3a3b444e3078",
   "metadata": {},
   "source": [
    "## Inverse transform\n",
    "We denormalize the predictions by inverting the predicted values. We can perform the inverse transform using a simple equation"
   ]
  },
  {
   "cell_type": "code",
   "execution_count": 82,
   "id": "7478929b-1d0d-419b-a043-39c35a858646",
   "metadata": {},
   "outputs": [
    {
     "data": {
      "text/plain": [
       "array([19983.46742909, 20173.72415711, 20462.43701866, 21252.38295166,\n",
       "       24322.40607146, 20995.86135755, 22604.39801898, 22725.66830129,\n",
       "       23118.10879168, 22756.38733185, 24351.18723066, 27642.88454212,\n",
       "       25741.30795744, 27564.3376015 , 27501.98339255, 29601.90332128,\n",
       "       28133.99699289, 30936.86803314, 31158.91095581, 32070.67669704,\n",
       "       32426.07871228, 33632.99075503, 34165.79884484, 36625.23884417,\n",
       "       36905.25747561, 36939.45653941, 36463.12350137, 39040.03368359,\n",
       "       39040.93679812, 39428.34896381, 37856.42578609, 35300.77833624,\n",
       "       35988.51676637, 36497.02859122, 40687.01767907, 39539.32577211,\n",
       "       40310.64447133, 46409.53099035, 44781.54510691, 41775.24057468,\n",
       "       43004.72411759, 45356.39238043, 45537.5417232 , 47570.5349861 ,\n",
       "       48800.57872726, 49573.44772611, 52409.08607764, 48553.29381769,\n",
       "       50309.77942341, 52314.84805659, 52164.83458798, 54008.57641133,\n",
       "       53565.96115319, 54620.04567064, 56001.97897913, 56453.50779737,\n",
       "       55554.38584364, 55347.76161662, 56016.56870189, 57849.07157884,\n",
       "       56534.05913922, 56336.22700931])"
      ]
     },
     "execution_count": 82,
     "metadata": {},
     "output_type": "execute_result"
    }
   ],
   "source": [
    "ensemble_denorm = ensemble_members * variance_y + mean_y\n",
    "ensemble_denorm[:,0]"
   ]
  },
  {
   "cell_type": "markdown",
   "id": "10cf2af9-6ac8-42cf-a598-9701aed70667",
   "metadata": {},
   "source": [
    "or we can use the function provided by the scaler"
   ]
  },
  {
   "cell_type": "code",
   "execution_count": 83,
   "id": "db34514d-7d35-42c9-96d2-5ee0041ba685",
   "metadata": {},
   "outputs": [
    {
     "data": {
      "text/plain": [
       "array([19983.46742909, 20173.72415711, 20462.43701866, 21252.38295166,\n",
       "       24322.40607146, 20995.86135755, 22604.39801898, 22725.66830129,\n",
       "       23118.10879168, 22756.38733185, 24351.18723066, 27642.88454212,\n",
       "       25741.30795744, 27564.3376015 , 27501.98339255, 29601.90332128,\n",
       "       28133.99699289, 30936.86803314, 31158.91095581, 32070.67669704,\n",
       "       32426.07871228, 33632.99075503, 34165.79884484, 36625.23884417,\n",
       "       36905.25747561, 36939.45653941, 36463.12350137, 39040.03368359,\n",
       "       39040.93679812, 39428.34896381, 37856.42578609, 35300.77833624,\n",
       "       35988.51676637, 36497.02859122, 40687.01767907, 39539.32577211,\n",
       "       40310.64447133, 46409.53099035, 44781.54510691, 41775.24057468,\n",
       "       43004.72411759, 45356.39238043, 45537.5417232 , 47570.5349861 ,\n",
       "       48800.57872726, 49573.44772611, 52409.08607764, 48553.29381769,\n",
       "       50309.77942341, 52314.84805659, 52164.83458798, 54008.57641133,\n",
       "       53565.96115319, 54620.04567064, 56001.97897913, 56453.50779737,\n",
       "       55554.38584364, 55347.76161662, 56016.56870189, 57849.07157884,\n",
       "       56534.05913922, 56336.22700931])"
      ]
     },
     "execution_count": 83,
     "metadata": {},
     "output_type": "execute_result"
    }
   ],
   "source": [
    "prediction = scaler_y.inverse_transform(ensemble_members)\n",
    "prediction[:, 0]"
   ]
  },
  {
   "cell_type": "code",
   "execution_count": 84,
   "id": "41121e93-fd6a-48af-821c-33bda346079b",
   "metadata": {},
   "outputs": [
    {
     "data": {
      "text/plain": [
       "True"
      ]
     },
     "execution_count": 84,
     "metadata": {},
     "output_type": "execute_result"
    }
   ],
   "source": [
    "diff = prediction[:, 0] - ensemble_denorm[:,0] == 0\n",
    "diff.all()"
   ]
  },
  {
   "cell_type": "markdown",
   "id": "0b411b0f-017a-4cf9-92af-8c708ed58401",
   "metadata": {},
   "source": [
    "We compute the ensemble values"
   ]
  },
  {
   "cell_type": "code",
   "execution_count": 85,
   "id": "c487c155-870c-45af-b41d-dfe47e8499d4",
   "metadata": {},
   "outputs": [
    {
     "data": {
      "text/plain": [
       "array([20828.74023246, 21146.11143583, 21236.83253463, 21894.69900595,\n",
       "       22416.68304988, 22161.56666891, 23175.5550086 , 23647.02332271,\n",
       "       23785.5001871 , 23718.38980338, 25302.19585356, 26269.14609596,\n",
       "       26103.31116433, 27365.077834  , 27765.04613676, 29940.51479415,\n",
       "       28715.2573714 , 30819.6285565 , 31413.37596514, 32333.27422659,\n",
       "       31968.96609101, 33331.12262885, 34157.23611203, 35393.13348636,\n",
       "       35985.79390006, 36264.45988301, 36984.51425706, 37984.35988243,\n",
       "       37273.72728091, 37543.14396748, 37250.66694078, 36902.81028895,\n",
       "       36282.13391238, 36535.75936542, 40211.78270074, 40130.27433542,\n",
       "       41811.20315272, 45261.00749442, 44578.28330679, 41492.29761645,\n",
       "       43310.87524601, 45097.14046777, 46164.82809318, 47639.37182027,\n",
       "       48635.77484632, 49340.26990954, 52215.99378941, 48448.29206419,\n",
       "       50473.22608645, 52697.93071818, 52534.53392241, 54201.5625795 ,\n",
       "       53882.05105892, 54919.98787571, 55899.20838032, 56791.39199229,\n",
       "       56099.24952951, 55512.29849863, 55618.19194183, 57711.47338105,\n",
       "       56363.99609698, 56210.28656797])"
      ]
     },
     "execution_count": 85,
     "metadata": {},
     "output_type": "execute_result"
    }
   ],
   "source": [
    "ensemble = prediction.sum(axis=1) / num_ensemble_members\n",
    "ensemble"
   ]
  },
  {
   "cell_type": "markdown",
   "id": "1d6127c4-7d32-4f1a-9ee7-675c52c390b3",
   "metadata": {},
   "source": [
    "## Best model visualization\n",
    "We use the ensemble 16 with the best test R2 score"
   ]
  },
  {
   "cell_type": "code",
   "execution_count": 86,
   "id": "8682be4a-6c11-412d-bdd5-0dd7414de552",
   "metadata": {},
   "outputs": [],
   "source": [
    "best_model_predictions = prediction[:, 1]"
   ]
  },
  {
   "cell_type": "code",
   "execution_count": 87,
   "id": "da955e99-e79b-4d60-b850-8b1d80dc7c6e",
   "metadata": {},
   "outputs": [],
   "source": [
    "#model_sample_best = predictions_denorm.iloc[:, 16]\n",
    "#model_sample_best[:2]"
   ]
  },
  {
   "cell_type": "code",
   "execution_count": 88,
   "id": "634ef622-ab28-4535-a689-0674c236cf85",
   "metadata": {},
   "outputs": [
    {
     "data": {
      "text/plain": [
       "<matplotlib.legend.Legend at 0x1f5cb09a210>"
      ]
     },
     "execution_count": 88,
     "metadata": {},
     "output_type": "execute_result"
    },
    {
     "data": {
      "image/png": "[encoded data removed]",
      "text/plain": [
       "<Figure size 1200x600 with 1 Axes>"
      ]
     },
     "metadata": {},
     "output_type": "display_data"
    }
   ],
   "source": [
    "from matplotlib import dates\n",
    "import matplotlib.dates as mdates\n",
    "\n",
    "fig = plt.figure(figsize=(12, 6))\n",
    "ax = fig.add_subplot()\n",
    "ax.set_title('Maize Yield')\n",
    "ax.set_ylabel('[kg/ha]');\n",
    "ax.grid(True, which='both')\n",
    "#ax.set_xticks(predictions_denorm.index)\n",
    "#ax.set_xticklabels(predictions_denorm.index, rotation=70)\n",
    "#ax.xaxis.set_major_locator(dates.YearLocator(5))\n",
    "#ax.xaxis.set_major_formatter(mdates.DateFormatter('%Y'))\n",
    "#maize_yield = global_crop_yield_df['Maize (100g/ha)'] / 10000 \n",
    "pd_maize_yield, = plt.plot(y / 10000, label='Maize Yield')\n",
    "pd_predictions_best, = plt.plot(best_model_predictions / 10000, label='Best model', color='green')\n",
    "pd_ensemble, = plt.plot(ensemble / 10000, label='Ensemble', color='orange')\n",
    "plt.legend(handles=[pd_maize_yield, pd_predictions_best, pd_ensemble], loc='upper left')"
   ]
  },
  {
   "cell_type": "code",
   "execution_count": null,
   "id": "6d33df5d-63ab-4d5a-ba6d-b07da3448266",
   "metadata": {},
   "outputs": [],
   "source": []
  }
 ],
 "metadata": {
  "kernelspec": {
   "display_name": "Python 3 (ipykernel)",
   "language": "python",
   "name": "python3"
  },
  "language_info": {
   "codemirror_mode": {
    "name": "ipython",
    "version": 3
   },
   "file_extension": ".py",
   "mimetype": "text/x-python",
   "name": "python",
   "nbconvert_exporter": "python",
   "pygments_lexer": "ipython3",
   "version": "3.11.5"
  }
 },
 "nbformat": 4,
 "nbformat_minor": 5
}
