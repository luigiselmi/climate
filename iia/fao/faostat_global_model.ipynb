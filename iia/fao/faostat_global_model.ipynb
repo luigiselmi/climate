{
 "cells": [
  {
   "cell_type": "markdown",
   "id": "3c84c22a-ac24-4611-a0e0-6a1a749369dd",
   "metadata": {},
   "source": [
    "# Faostat global model\n",
    "In this notebook we create an ensemble of multilayer perceptron ([MLP](https://scikit-learn.org/stable/modules/generated/sklearn.neural_network.MLPRegressor.html#sklearn.neural_network.MLPRegressor)) models to fit the world crop yields using the input variables: precipitation, air temperature, natural and synthetic fertilizers."
   ]
  },
  {
   "cell_type": "code",
   "execution_count": 1,
   "id": "3d68f27b-9187-410b-8f3e-e274b6a5a9ae",
   "metadata": {},
   "outputs": [
    {
     "name": "stdout",
     "output_type": "stream",
     "text": [
      "NumPy version: 1.25.2\n",
      "Pandas version: 2.1.1\n",
      "Matplotlib version: 3.8.0\n"
     ]
    }
   ],
   "source": [
    "import numpy as np\n",
    "import pandas as pd\n",
    "import matplotlib as mpl\n",
    "import matplotlib.pyplot as plt\n",
    "from matplotlib.pyplot import figure\n",
    "import matplotlib.dates as mdates\n",
    "import warnings\n",
    "warnings.filterwarnings('ignore')\n",
    "print(\"NumPy version: %s\"%np.__version__)\n",
    "print(\"Pandas version: %s\"%pd.__version__)\n",
    "print(\"Matplotlib version: %s\"%mpl.__version__)"
   ]
  },
  {
   "cell_type": "markdown",
   "id": "460cd406-8c3d-4031-bdf5-c25cbfae92e1",
   "metadata": {},
   "source": [
    "## The dataset\n",
    "We load the dataset that was prepared by putting into the same file the predictors and the predictands data"
   ]
  },
  {
   "cell_type": "code",
   "execution_count": 2,
   "id": "e20e1d75-31bb-4c26-9be8-5e48efb7fa86",
   "metadata": {},
   "outputs": [
    {
     "data": {
      "text/html": [
       "<div>\n",
       "<style scoped>\n",
       "    .dataframe tbody tr th:only-of-type {\n",
       "        vertical-align: middle;\n",
       "    }\n",
       "\n",
       "    .dataframe tbody tr th {\n",
       "        vertical-align: top;\n",
       "    }\n",
       "\n",
       "    .dataframe thead th {\n",
       "        text-align: right;\n",
       "    }\n",
       "</style>\n",
       "<table border=\"1\" class=\"dataframe\">\n",
       "  <thead>\n",
       "    <tr style=\"text-align: right;\">\n",
       "      <th></th>\n",
       "      <th>Maize (100g/ha)</th>\n",
       "      <th>Millet (100g/ha)</th>\n",
       "      <th>Temp. Anom. (°C)</th>\n",
       "      <th>Prec.Anom. (mm)</th>\n",
       "      <th>CO2 (ppm)</th>\n",
       "      <th>Manure (Mt)</th>\n",
       "      <th>Nitrogen (tons)</th>\n",
       "      <th>Phosphate (tons)</th>\n",
       "      <th>Potash (tons)</th>\n",
       "    </tr>\n",
       "  </thead>\n",
       "  <tbody>\n",
       "    <tr>\n",
       "      <th>1961-12-31</th>\n",
       "      <td>19423</td>\n",
       "      <td>5925</td>\n",
       "      <td>0.211</td>\n",
       "      <td>15.318908</td>\n",
       "      <td>317.64</td>\n",
       "      <td>1.835092e+10</td>\n",
       "      <td>11486265.27</td>\n",
       "      <td>10888968.81</td>\n",
       "      <td>8626724.57</td>\n",
       "    </tr>\n",
       "    <tr>\n",
       "      <th>1962-12-31</th>\n",
       "      <td>19796</td>\n",
       "      <td>5619</td>\n",
       "      <td>0.038</td>\n",
       "      <td>0.768900</td>\n",
       "      <td>318.45</td>\n",
       "      <td>1.872918e+10</td>\n",
       "      <td>12969831.11</td>\n",
       "      <td>11534554.43</td>\n",
       "      <td>9146891.38</td>\n",
       "    </tr>\n",
       "  </tbody>\n",
       "</table>\n",
       "</div>"
      ],
      "text/plain": [
       "            Maize (100g/ha)  Millet (100g/ha)  Temp. Anom. (°C)  \\\n",
       "1961-12-31            19423              5925             0.211   \n",
       "1962-12-31            19796              5619             0.038   \n",
       "\n",
       "            Prec.Anom. (mm)  CO2 (ppm)   Manure (Mt)  Nitrogen (tons)  \\\n",
       "1961-12-31        15.318908     317.64  1.835092e+10      11486265.27   \n",
       "1962-12-31         0.768900     318.45  1.872918e+10      12969831.11   \n",
       "\n",
       "            Phosphate (tons)  Potash (tons)  \n",
       "1961-12-31       10888968.81     8626724.57  \n",
       "1962-12-31       11534554.43     9146891.38  "
      ]
     },
     "execution_count": 2,
     "metadata": {},
     "output_type": "execute_result"
    }
   ],
   "source": [
    "global_crop_yield_path = 'data/global_dataset.csv'\n",
    "global_crop_yield_df = pd.read_csv(global_crop_yield_path, index_col=0)\n",
    "global_crop_yield_df.head(2)"
   ]
  },
  {
   "cell_type": "markdown",
   "id": "85253f6e-56c6-43a6-92f4-82d45e65afde",
   "metadata": {},
   "source": [
    "## Data preparation\n",
    "Since the values for the variables differ by orders of magnitude, we normalize them before using the data as input for the model. We use the [StandardScaler](https://scikit-learn.org/stable/modules/generated/sklearn.preprocessing.StandardScaler.html#sklearn.preprocessing.StandardScaler) from the scikit-learn package to normalize the values. The scaler removes the mean and scale the values to unit variance. We start by selecting the columns with the input data"
   ]
  },
  {
   "cell_type": "code",
   "execution_count": 28,
   "id": "9dca5275-3d24-462f-b838-4b427a786eea",
   "metadata": {},
   "outputs": [],
   "source": [
    "X = global_crop_yield_df.iloc[:, [2, 3, 4, 5, 6]].to_numpy()\n",
    "y = global_crop_yield_df.iloc[:, [0]].to_numpy()"
   ]
  },
  {
   "cell_type": "markdown",
   "id": "9beda5d5-1e3f-4022-ab66-f54283173c27",
   "metadata": {},
   "source": [
    "and the column of the predictand (maize)"
   ]
  },
  {
   "cell_type": "code",
   "execution_count": 29,
   "id": "2eeed184-ce28-4fb2-b10c-6492130c6a82",
   "metadata": {},
   "outputs": [
    {
     "data": {
      "text/plain": [
       "array([[19423]], dtype=int64)"
      ]
     },
     "execution_count": 29,
     "metadata": {},
     "output_type": "execute_result"
    }
   ],
   "source": [
    "y[:1]"
   ]
  },
  {
   "cell_type": "code",
   "execution_count": 30,
   "id": "3c4b2574-eee1-424a-a606-7ffaee15aa97",
   "metadata": {},
   "outputs": [],
   "source": [
    "from sklearn import preprocessing\n",
    "scaler_x = preprocessing.StandardScaler().fit(X)"
   ]
  },
  {
   "cell_type": "markdown",
   "id": "e7ad1c2d-2429-4748-b93b-b4f19d5a2e98",
   "metadata": {},
   "source": [
    "The scaler computes the mean of the input variables"
   ]
  },
  {
   "cell_type": "code",
   "execution_count": 31,
   "id": "70caded3-2764-492f-99c1-432d6ffafef0",
   "metadata": {},
   "outputs": [
    {
     "data": {
      "text/plain": [
       "0.5707741935483871"
      ]
     },
     "execution_count": 31,
     "metadata": {},
     "output_type": "execute_result"
    }
   ],
   "source": [
    "mean_x = scaler_x.mean_[0]\n",
    "mean_x"
   ]
  },
  {
   "cell_type": "markdown",
   "id": "99ee47d5-eac9-4ab2-b233-9a9106f1153e",
   "metadata": {},
   "source": [
    "and the variance"
   ]
  },
  {
   "cell_type": "code",
   "execution_count": 32,
   "id": "4585d514-3fed-4d08-b931-2e3df89f3a95",
   "metadata": {},
   "outputs": [
    {
     "data": {
      "text/plain": [
       "0.5387043721971724"
      ]
     },
     "execution_count": 32,
     "metadata": {},
     "output_type": "execute_result"
    }
   ],
   "source": [
    "variance_x = scaler_x.scale_[0]\n",
    "variance_x"
   ]
  },
  {
   "cell_type": "markdown",
   "id": "58e5ef1f-2104-462b-8089-996687b2d113",
   "metadata": {},
   "source": [
    "we use the scaler to normalize the input variables"
   ]
  },
  {
   "cell_type": "code",
   "execution_count": 61,
   "id": "dd9cc6b8-1617-40fd-8fd2-66097de3ec5f",
   "metadata": {},
   "outputs": [
    {
     "data": {
      "text/plain": [
       "(62, 5)"
      ]
     },
     "execution_count": 61,
     "metadata": {},
     "output_type": "execute_result"
    }
   ],
   "source": [
    "X_scaled = scaler_x.transform(X)\n",
    "X_scaled.shape"
   ]
  },
  {
   "cell_type": "code",
   "execution_count": 64,
   "id": "f912cf18-2a00-4acc-8e4d-5015897d5116",
   "metadata": {},
   "outputs": [
    {
     "data": {
      "text/plain": [
       "(62, 1)"
      ]
     },
     "execution_count": 64,
     "metadata": {},
     "output_type": "execute_result"
    }
   ],
   "source": [
    "scaler_y = preprocessing.StandardScaler().fit(y)\n",
    "y_scaled = scaler_y.transform(y)\n",
    "y_scaled.shape"
   ]
  },
  {
   "cell_type": "code",
   "execution_count": 35,
   "id": "5d6c1365-8e3d-4f67-8299-d6a9fe57dcd0",
   "metadata": {},
   "outputs": [
    {
     "data": {
      "text/plain": [
       "38951.403225806454"
      ]
     },
     "execution_count": 35,
     "metadata": {},
     "output_type": "execute_result"
    }
   ],
   "source": [
    "mean_y = scaler_y.mean_[0]\n",
    "mean_y"
   ]
  },
  {
   "cell_type": "code",
   "execution_count": 36,
   "id": "062e80d6-01c2-4e5c-b90a-9dd2c5a08549",
   "metadata": {},
   "outputs": [
    {
     "data": {
      "text/plain": [
       "11966.558404448891"
      ]
     },
     "execution_count": 36,
     "metadata": {},
     "output_type": "execute_result"
    }
   ],
   "source": [
    "variance_y = scaler_y.scale_[0]\n",
    "variance_y"
   ]
  },
  {
   "cell_type": "markdown",
   "id": "53639f19-7630-449c-acc5-bfa874f6322d",
   "metadata": {},
   "source": [
    "## Train and test set\n",
    "The data used to train a model of the ensemble is divided into a train set and a test set"
   ]
  },
  {
   "cell_type": "code",
   "execution_count": 66,
   "id": "c6304386-13ed-4ad2-a51d-c63baf653ab1",
   "metadata": {},
   "outputs": [
    {
     "data": {
      "text/plain": [
       "((55, 5), (55, 1), (7, 5), (7, 1))"
      ]
     },
     "execution_count": 66,
     "metadata": {},
     "output_type": "execute_result"
    }
   ],
   "source": [
    "from sklearn.model_selection import train_test_split\n",
    "X_train, X_test, y_train, y_test = train_test_split(X_scaled, y_scaled, test_size=0.1, random_state=0)\n",
    "X_train.shape, y_train.shape, X_test.shape, y_test.shape"
   ]
  },
  {
   "cell_type": "markdown",
   "id": "232b4ded-d79c-4161-80e3-7de71f8d5dde",
   "metadata": {},
   "source": [
    "## Ensemble models training"
   ]
  },
  {
   "cell_type": "code",
   "execution_count": 37,
   "id": "6ac511f8-0407-4c46-a74f-4668565190f2",
   "metadata": {},
   "outputs": [
    {
     "data": {
      "text/plain": [
       "62"
      ]
     },
     "execution_count": 37,
     "metadata": {},
     "output_type": "execute_result"
    }
   ],
   "source": [
    "num_observations = X.shape[0]\n",
    "num_observations"
   ]
  },
  {
   "cell_type": "markdown",
   "id": "84656088-90f7-430d-adc8-9d741a739b20",
   "metadata": {},
   "source": [
    "We train an ensemble of MLP models that start with a different init parameters"
   ]
  },
  {
   "cell_type": "code",
   "execution_count": 38,
   "id": "ce9ba58b-31ee-4c7a-b1ca-5636dfd97052",
   "metadata": {},
   "outputs": [
    {
     "data": {
      "text/plain": [
       "20"
      ]
     },
     "execution_count": 38,
     "metadata": {},
     "output_type": "execute_result"
    }
   ],
   "source": [
    "import random \n",
    "num_ensemble_members = 20 \n",
    "from random import randint\n",
    "random_states = [randint(2, num_observations) for p in range(1, num_ensemble_members + 1)]\n",
    "len(random_states)"
   ]
  },
  {
   "cell_type": "markdown",
   "id": "efa9cee7-4d2b-4f9b-9bad-4b502108a1e6",
   "metadata": {},
   "source": [
    "A random state is the seed used during the training of a model of the ensemble"
   ]
  },
  {
   "cell_type": "code",
   "execution_count": 39,
   "id": "a4de9a19-94a0-42af-9ab4-413e03086d94",
   "metadata": {},
   "outputs": [
    {
     "data": {
      "text/plain": [
       "[2, 53, 22, 29, 24, 62, 18, 40, 13, 48, 25, 14, 43, 4, 54, 35, 4, 29, 50, 60]"
      ]
     },
     "execution_count": 39,
     "metadata": {},
     "output_type": "execute_result"
    }
   ],
   "source": [
    "random_states[:]"
   ]
  },
  {
   "cell_type": "markdown",
   "id": "2da3dcf1-d0b5-4bc1-a634-6fe2974e638c",
   "metadata": {},
   "source": [
    "We initialize a 2D array that will contain the predictions of the ensemble models"
   ]
  },
  {
   "cell_type": "code",
   "execution_count": 58,
   "id": "02fb9e5a-0c76-48a0-8c3b-9416b1afcbc3",
   "metadata": {},
   "outputs": [
    {
     "data": {
      "text/plain": [
       "(62, 20)"
      ]
     },
     "execution_count": 58,
     "metadata": {},
     "output_type": "execute_result"
    }
   ],
   "source": [
    "ensemble_members = np.zeros((num_observations,num_ensemble_members))\n",
    "ensemble_members.shape"
   ]
  },
  {
   "cell_type": "code",
   "execution_count": 67,
   "id": "dcabfd01-bdc5-4e08-a1c1-9045b6b1b1d3",
   "metadata": {},
   "outputs": [
    {
     "name": "stdout",
     "output_type": "stream",
     "text": [
      "Ensemble 0\n",
      "done in 0.178s\n",
      "Train R2 score: 0.99\n",
      "Test R2 score: 0.96\n",
      "\n",
      "Ensemble 1\n",
      "done in 0.116s\n",
      "Train R2 score: 0.99\n",
      "Test R2 score: 0.87\n",
      "\n",
      "Ensemble 2\n",
      "done in 0.071s\n",
      "Train R2 score: 0.99\n",
      "Test R2 score: 0.92\n",
      "\n",
      "Ensemble 3\n",
      "done in 0.086s\n",
      "Train R2 score: 0.99\n",
      "Test R2 score: 0.94\n",
      "\n",
      "Ensemble 4\n",
      "done in 0.075s\n",
      "Train R2 score: 0.99\n",
      "Test R2 score: 0.98\n",
      "\n",
      "Ensemble 5\n",
      "done in 0.117s\n",
      "Train R2 score: 0.99\n",
      "Test R2 score: 0.97\n",
      "\n",
      "Ensemble 6\n",
      "done in 0.136s\n",
      "Train R2 score: 0.99\n",
      "Test R2 score: 0.86\n",
      "\n",
      "Ensemble 7\n",
      "done in 0.068s\n",
      "Train R2 score: 0.99\n",
      "Test R2 score: 0.83\n",
      "\n",
      "Ensemble 8\n",
      "done in 0.065s\n",
      "Train R2 score: 0.99\n",
      "Test R2 score: 0.98\n",
      "\n",
      "Ensemble 9\n",
      "done in 0.068s\n",
      "Train R2 score: 0.99\n",
      "Test R2 score: 0.98\n",
      "\n",
      "Ensemble 10\n",
      "done in 0.117s\n",
      "Train R2 score: 0.99\n",
      "Test R2 score: 0.97\n",
      "\n",
      "Ensemble 11\n",
      "done in 0.074s\n",
      "Train R2 score: 0.99\n",
      "Test R2 score: 0.97\n",
      "\n",
      "Ensemble 12\n",
      "done in 0.079s\n",
      "Train R2 score: 0.99\n",
      "Test R2 score: 0.91\n",
      "\n",
      "Ensemble 13\n",
      "done in 0.093s\n",
      "Train R2 score: 0.99\n",
      "Test R2 score: 0.90\n",
      "\n",
      "Ensemble 14\n",
      "done in 0.077s\n",
      "Train R2 score: 1.00\n",
      "Test R2 score: 0.85\n",
      "\n",
      "Ensemble 15\n",
      "done in 0.066s\n",
      "Train R2 score: 1.00\n",
      "Test R2 score: 0.69\n",
      "\n",
      "Ensemble 16\n",
      "done in 0.056s\n",
      "Train R2 score: 0.99\n",
      "Test R2 score: 0.90\n",
      "\n",
      "Ensemble 17\n",
      "done in 0.064s\n",
      "Train R2 score: 0.99\n",
      "Test R2 score: 0.94\n",
      "\n",
      "Ensemble 18\n",
      "done in 0.062s\n",
      "Train R2 score: 0.99\n",
      "Test R2 score: 0.99\n",
      "\n",
      "Ensemble 19\n",
      "done in 0.071s\n",
      "Train R2 score: 0.99\n",
      "Test R2 score: 0.99\n",
      "\n"
     ]
    }
   ],
   "source": [
    "from time import time\n",
    "from sklearn.model_selection import train_test_split\n",
    "from sklearn.neural_network import MLPRegressor\n",
    "from sklearn.pipeline import make_pipeline\n",
    "\n",
    "for i in range(0, num_ensemble_members):\n",
    "    random_state = random_states[i]\n",
    "    tic = time()\n",
    "    mlp_model = MLPRegressor(\n",
    "               hidden_layer_sizes=(5, ),\n",
    "               activation='tanh',\n",
    "               #learning_rate_init=0.01, not used with lbfgs solver\n",
    "               early_stopping=True,\n",
    "               random_state=random_state,\n",
    "               solver='lbfgs'\n",
    "            )\n",
    "    X_train, X_test, y_train, y_test = train_test_split(X_scaled, y_scaled, test_size=0.1, random_state=random_state)\n",
    "    mlp_model.fit(X_train, y_train)\n",
    "    model_sample = mlp_model.predict(X_scaled)\n",
    "    ensemble_members[:, i] = model_sample\n",
    "    print('Ensemble {0:d}'.format(i))\n",
    "    print(f\"done in {time() - tic:.3f}s\")\n",
    "    print(f\"Train R2 score: {mlp_model.score(X_train, y_train):.2f}\")\n",
    "    print(f\"Test R2 score: {mlp_model.score(X_test, y_test):.2f}\\n\")"
   ]
  },
  {
   "cell_type": "code",
   "execution_count": 68,
   "id": "047203c8-8080-4263-aa4c-42f14ca4e0af",
   "metadata": {},
   "outputs": [
    {
     "data": {
      "text/plain": [
       "62"
      ]
     },
     "execution_count": 68,
     "metadata": {},
     "output_type": "execute_result"
    }
   ],
   "source": [
    "len(ensemble_members[:,0])"
   ]
  },
  {
   "cell_type": "markdown",
   "id": "19b344be-07ec-4544-be5d-3a3b444e3078",
   "metadata": {},
   "source": [
    "## Inverse transform\n",
    "We denormalize the predictions by inverting the predicted values. We can perform the inverse transform using a simple equation"
   ]
  },
  {
   "cell_type": "code",
   "execution_count": 69,
   "id": "7478929b-1d0d-419b-a043-39c35a858646",
   "metadata": {},
   "outputs": [
    {
     "data": {
      "text/plain": [
       "array([17123.42945091, 20191.69979334, 20815.87219846, 19885.68487431,\n",
       "       21068.96787828, 21974.90105063, 23706.47108454, 23240.07960253,\n",
       "       23436.6321618 , 23858.60805756, 25359.69391509, 26933.77083644,\n",
       "       26465.55544665, 26039.44222612, 29066.39848047, 29474.9129364 ,\n",
       "       31095.61608087, 30616.98918762, 32518.62861003, 31982.78965238,\n",
       "       33022.25011731, 35952.38760631, 31721.29647342, 34350.57465342,\n",
       "       36921.61205035, 35822.4664161 , 34600.68898075, 32358.91999432,\n",
       "       36357.97979038, 36034.95373904, 37746.68641066, 38475.00612399,\n",
       "       39051.92444916, 39015.40113672, 36896.6290209 , 38237.64692617,\n",
       "       39597.20688414, 44232.09981186, 44852.3743559 , 43334.21400196,\n",
       "       44874.10218357, 45163.15869126, 45965.9914885 , 47138.35641441,\n",
       "       47662.45950905, 48943.73333802, 49121.72914633, 49112.90025241,\n",
       "       49070.01997768, 51114.08165613, 50982.91394278, 51753.19074425,\n",
       "       53227.09116272, 53546.20282072, 54792.10101926, 57762.32913146,\n",
       "       58420.45068296, 58776.82028647, 57038.67332131, 58549.23670953,\n",
       "       58124.82506909, 58927.52662354])"
      ]
     },
     "execution_count": 69,
     "metadata": {},
     "output_type": "execute_result"
    }
   ],
   "source": [
    "ensemble_denorm = ensemble_members * variance_y + mean_y\n",
    "ensemble_denorm[:,0]"
   ]
  },
  {
   "cell_type": "markdown",
   "id": "10cf2af9-6ac8-42cf-a598-9701aed70667",
   "metadata": {},
   "source": [
    "or we can use the function provided by the scaler"
   ]
  },
  {
   "cell_type": "code",
   "execution_count": 72,
   "id": "db34514d-7d35-42c9-96d2-5ee0041ba685",
   "metadata": {},
   "outputs": [],
   "source": [
    "prediction = scaler_y.inverse_transform(ensemble_members)\n",
    "best_model_predictions = prediction[:,4]"
   ]
  },
  {
   "cell_type": "markdown",
   "id": "1d6127c4-7d32-4f1a-9ee7-675c52c390b3",
   "metadata": {},
   "source": [
    "## Best ensemble model visualization\n",
    "We use the ensemble 16 with the best test R2 score"
   ]
  },
  {
   "cell_type": "code",
   "execution_count": 71,
   "id": "da955e99-e79b-4d60-b850-8b1d80dc7c6e",
   "metadata": {},
   "outputs": [],
   "source": [
    "#model_sample_best = predictions_denorm.iloc[:, 16]\n",
    "#model_sample_best[:2]"
   ]
  },
  {
   "cell_type": "code",
   "execution_count": 76,
   "id": "634ef622-ab28-4535-a689-0674c236cf85",
   "metadata": {},
   "outputs": [
    {
     "data": {
      "text/plain": [
       "<matplotlib.legend.Legend at 0x2254baa3350>"
      ]
     },
     "execution_count": 76,
     "metadata": {},
     "output_type": "execute_result"
    },
    {
     "data": {
      "image/png": "[encoded data removed]",
      "text/plain": [
       "<Figure size 1200x600 with 1 Axes>"
      ]
     },
     "metadata": {},
     "output_type": "display_data"
    }
   ],
   "source": [
    "from matplotlib import dates\n",
    "import matplotlib.dates as mdates\n",
    "\n",
    "fig = plt.figure(figsize=(12, 6))\n",
    "ax = fig.add_subplot()\n",
    "ax.set_title('Maize Yield')\n",
    "ax.set_ylabel('[kg/ha]');\n",
    "#ax.grid(True, which='both')\n",
    "#ax.set_xticks(predictions_denorm.index)\n",
    "#ax.set_xticklabels(predictions_denorm.index, rotation=70)\n",
    "#ax.xaxis.set_major_locator(dates.YearLocator(5))\n",
    "#ax.xaxis.set_major_formatter(mdates.DateFormatter('%Y'))\n",
    "#maize_yield = global_crop_yield_df['Maize (100g/ha)'] / 10000 \n",
    "pd_maize_yield, = plt.plot(y / 10000, label='Maize Yield')\n",
    "pd_predictions_best, = plt.plot(best_model_predictions / 10000, label='Best Predictions', color='green')\n",
    "plt.legend(handles=[pd_maize_yield, pd_predictions_best], loc='upper left')"
   ]
  },
  {
   "cell_type": "code",
   "execution_count": null,
   "id": "6d33df5d-63ab-4d5a-ba6d-b07da3448266",
   "metadata": {},
   "outputs": [],
   "source": []
  }
 ],
 "metadata": {
  "kernelspec": {
   "display_name": "Python 3 (ipykernel)",
   "language": "python",
   "name": "python3"
  },
  "language_info": {
   "codemirror_mode": {
    "name": "ipython",
    "version": 3
   },
   "file_extension": ".py",
   "mimetype": "text/x-python",
   "name": "python",
   "nbconvert_exporter": "python",
   "pygments_lexer": "ipython3",
   "version": "3.11.5"
  }
 },
 "nbformat": 4,
 "nbformat_minor": 5
}
