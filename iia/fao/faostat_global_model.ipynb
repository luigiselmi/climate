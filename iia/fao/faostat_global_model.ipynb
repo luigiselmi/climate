{
 "cells": [
  {
   "cell_type": "markdown",
   "id": "3c84c22a-ac24-4611-a0e0-6a1a749369dd",
   "metadata": {},
   "source": [
    "# Faostat global model\n",
    "In this notebook we create an ensemble of multilayer perceptron ([MLP](https://scikit-learn.org/stable/modules/generated/sklearn.neural_network.MLPRegressor.html#sklearn.neural_network.MLPRegressor)) models to fit the world crop yields using the input variables: precipitation, air temperature, natural and synthetic fertilizers."
   ]
  },
  {
   "cell_type": "code",
   "execution_count": 2,
   "id": "3d68f27b-9187-410b-8f3e-e274b6a5a9ae",
   "metadata": {},
   "outputs": [
    {
     "name": "stdout",
     "output_type": "stream",
     "text": [
      "NumPy version: 1.25.2\n",
      "Pandas version: 2.1.1\n",
      "Matplotlib version: 3.8.0\n"
     ]
    }
   ],
   "source": [
    "import numpy as np\n",
    "import pandas as pd\n",
    "import matplotlib as mpl\n",
    "import matplotlib.pyplot as plt\n",
    "from matplotlib.pyplot import figure\n",
    "import matplotlib.dates as mdates\n",
    "import warnings\n",
    "warnings.filterwarnings('ignore')\n",
    "print(\"NumPy version: %s\"%np.__version__)\n",
    "print(\"Pandas version: %s\"%pd.__version__)\n",
    "print(\"Matplotlib version: %s\"%mpl.__version__)"
   ]
  },
  {
   "cell_type": "markdown",
   "id": "460cd406-8c3d-4031-bdf5-c25cbfae92e1",
   "metadata": {},
   "source": [
    "## The dataset\n",
    "We load the dataset that was prepared by putting into the same file the predictors and the predictands data"
   ]
  },
  {
   "cell_type": "code",
   "execution_count": 5,
   "id": "e20e1d75-31bb-4c26-9be8-5e48efb7fa86",
   "metadata": {},
   "outputs": [
    {
     "data": {
      "text/html": [
       "<div>\n",
       "<style scoped>\n",
       "    .dataframe tbody tr th:only-of-type {\n",
       "        vertical-align: middle;\n",
       "    }\n",
       "\n",
       "    .dataframe tbody tr th {\n",
       "        vertical-align: top;\n",
       "    }\n",
       "\n",
       "    .dataframe thead th {\n",
       "        text-align: right;\n",
       "    }\n",
       "</style>\n",
       "<table border=\"1\" class=\"dataframe\">\n",
       "  <thead>\n",
       "    <tr style=\"text-align: right;\">\n",
       "      <th></th>\n",
       "      <th>Maize (100g/ha)</th>\n",
       "      <th>Millet (100g/ha)</th>\n",
       "      <th>Temp. Anom. (°C)</th>\n",
       "      <th>Prec.Anom. (mm)</th>\n",
       "      <th>CO2 (ppm)</th>\n",
       "      <th>Manure (Mt)</th>\n",
       "      <th>Nitrogen (tons)</th>\n",
       "      <th>Phosphate (tons)</th>\n",
       "      <th>Potash (tons)</th>\n",
       "    </tr>\n",
       "  </thead>\n",
       "  <tbody>\n",
       "    <tr>\n",
       "      <th>1961-12-31</th>\n",
       "      <td>19423</td>\n",
       "      <td>5925</td>\n",
       "      <td>0.211</td>\n",
       "      <td>15.318908</td>\n",
       "      <td>317.64</td>\n",
       "      <td>1.835092e+10</td>\n",
       "      <td>11486265.27</td>\n",
       "      <td>10888968.81</td>\n",
       "      <td>8626724.57</td>\n",
       "    </tr>\n",
       "    <tr>\n",
       "      <th>1962-12-31</th>\n",
       "      <td>19796</td>\n",
       "      <td>5619</td>\n",
       "      <td>0.038</td>\n",
       "      <td>0.768900</td>\n",
       "      <td>318.45</td>\n",
       "      <td>1.872918e+10</td>\n",
       "      <td>12969831.11</td>\n",
       "      <td>11534554.43</td>\n",
       "      <td>9146891.38</td>\n",
       "    </tr>\n",
       "  </tbody>\n",
       "</table>\n",
       "</div>"
      ],
      "text/plain": [
       "            Maize (100g/ha)  Millet (100g/ha)  Temp. Anom. (°C)  \\\n",
       "1961-12-31            19423              5925             0.211   \n",
       "1962-12-31            19796              5619             0.038   \n",
       "\n",
       "            Prec.Anom. (mm)  CO2 (ppm)   Manure (Mt)  Nitrogen (tons)  \\\n",
       "1961-12-31        15.318908     317.64  1.835092e+10      11486265.27   \n",
       "1962-12-31         0.768900     318.45  1.872918e+10      12969831.11   \n",
       "\n",
       "            Phosphate (tons)  Potash (tons)  \n",
       "1961-12-31       10888968.81     8626724.57  \n",
       "1962-12-31       11534554.43     9146891.38  "
      ]
     },
     "execution_count": 5,
     "metadata": {},
     "output_type": "execute_result"
    }
   ],
   "source": [
    "global_crop_yield_path = 'data/global_dataset.csv'\n",
    "global_crop_yield_df = pd.read_csv(global_crop_yield_path, index_col=0)\n",
    "global_crop_yield_df.head(2)"
   ]
  },
  {
   "cell_type": "markdown",
   "id": "85253f6e-56c6-43a6-92f4-82d45e65afde",
   "metadata": {},
   "source": [
    "## Data preparation\n",
    "Since the values for the variables differ by orders of magnitude, we normalize them before using the data as input for the model. We use the [StandardScaler](https://scikit-learn.org/stable/modules/generated/sklearn.preprocessing.StandardScaler.html#sklearn.preprocessing.StandardScaler) from the scikit-learn package to normalize the values. The scaler removes the mean and scale the values to unit variance. We start by selecting the columns with the input data"
   ]
  },
  {
   "cell_type": "code",
   "execution_count": 20,
   "id": "9dca5275-3d24-462f-b838-4b427a786eea",
   "metadata": {},
   "outputs": [],
   "source": [
    "X = global_crop_yield_df.iloc[:, [2, 3, 4, 5, 6, 7, 8]].to_numpy()\n",
    "y = global_crop_yield_df.iloc[:, [0]].to_numpy()"
   ]
  },
  {
   "cell_type": "markdown",
   "id": "9beda5d5-1e3f-4022-ab66-f54283173c27",
   "metadata": {},
   "source": [
    "and the column of the predictand (maize)"
   ]
  },
  {
   "cell_type": "code",
   "execution_count": 22,
   "id": "2eeed184-ce28-4fb2-b10c-6492130c6a82",
   "metadata": {},
   "outputs": [
    {
     "data": {
      "text/plain": [
       "array([[19423]], dtype=int64)"
      ]
     },
     "execution_count": 22,
     "metadata": {},
     "output_type": "execute_result"
    }
   ],
   "source": [
    "y[:1]"
   ]
  },
  {
   "cell_type": "code",
   "execution_count": 65,
   "id": "3c4b2574-eee1-424a-a606-7ffaee15aa97",
   "metadata": {},
   "outputs": [],
   "source": [
    "from sklearn import preprocessing\n",
    "scaler_x = preprocessing.StandardScaler().fit(X)"
   ]
  },
  {
   "cell_type": "markdown",
   "id": "e7ad1c2d-2429-4748-b93b-b4f19d5a2e98",
   "metadata": {},
   "source": [
    "The scaler computes the mean of the input variables"
   ]
  },
  {
   "cell_type": "code",
   "execution_count": 66,
   "id": "70caded3-2764-492f-99c1-432d6ffafef0",
   "metadata": {},
   "outputs": [
    {
     "data": {
      "text/plain": [
       "0.5707741935483871"
      ]
     },
     "execution_count": 66,
     "metadata": {},
     "output_type": "execute_result"
    }
   ],
   "source": [
    "mean_x = scaler_x.mean_[0]\n",
    "mean_x"
   ]
  },
  {
   "cell_type": "markdown",
   "id": "99ee47d5-eac9-4ab2-b233-9a9106f1153e",
   "metadata": {},
   "source": [
    "and the variance"
   ]
  },
  {
   "cell_type": "code",
   "execution_count": 67,
   "id": "4585d514-3fed-4d08-b931-2e3df89f3a95",
   "metadata": {},
   "outputs": [
    {
     "data": {
      "text/plain": [
       "0.5387043721971724"
      ]
     },
     "execution_count": 67,
     "metadata": {},
     "output_type": "execute_result"
    }
   ],
   "source": [
    "variance_x = scaler_x.scale_[0]\n",
    "variance_x"
   ]
  },
  {
   "cell_type": "markdown",
   "id": "58e5ef1f-2104-462b-8089-996687b2d113",
   "metadata": {},
   "source": [
    "we use the scaler to normalize the input variables"
   ]
  },
  {
   "cell_type": "code",
   "execution_count": 68,
   "id": "dd9cc6b8-1617-40fd-8fd2-66097de3ec5f",
   "metadata": {},
   "outputs": [
    {
     "data": {
      "text/plain": [
       "array([[-0.66785089,  0.77731939, -1.40643863, -2.40701305, -1.98495063,\n",
       "        -2.28283496, -2.01318626],\n",
       "       [-0.98899178, -0.19056567, -1.37931664, -2.24857187, -1.9350268 ,\n",
       "        -2.21423612, -1.94657282]])"
      ]
     },
     "execution_count": 68,
     "metadata": {},
     "output_type": "execute_result"
    }
   ],
   "source": [
    "X_scaled = scaler_x.transform(X)\n",
    "X_scaled[:2]"
   ]
  },
  {
   "cell_type": "code",
   "execution_count": 69,
   "id": "f912cf18-2a00-4acc-8e4d-5015897d5116",
   "metadata": {},
   "outputs": [
    {
     "data": {
      "text/plain": [
       "array([[-1.63191475],\n",
       "       [-1.60074456]])"
      ]
     },
     "execution_count": 69,
     "metadata": {},
     "output_type": "execute_result"
    }
   ],
   "source": [
    "scaler_y = preprocessing.StandardScaler().fit(y)\n",
    "y_scaled = scaler_y.transform(y)\n",
    "y_scaled[:2]"
   ]
  },
  {
   "cell_type": "code",
   "execution_count": 72,
   "id": "5d6c1365-8e3d-4f67-8299-d6a9fe57dcd0",
   "metadata": {},
   "outputs": [
    {
     "data": {
      "text/plain": [
       "38951.403225806454"
      ]
     },
     "execution_count": 72,
     "metadata": {},
     "output_type": "execute_result"
    }
   ],
   "source": [
    "mean_y = scaler_y.mean_[0]\n",
    "mean_y"
   ]
  },
  {
   "cell_type": "code",
   "execution_count": 73,
   "id": "062e80d6-01c2-4e5c-b90a-9dd2c5a08549",
   "metadata": {},
   "outputs": [
    {
     "data": {
      "text/plain": [
       "11966.558404448891"
      ]
     },
     "execution_count": 73,
     "metadata": {},
     "output_type": "execute_result"
    }
   ],
   "source": [
    "variance_y = scaler_y.scale_[0]\n",
    "variance_y"
   ]
  },
  {
   "cell_type": "markdown",
   "id": "232b4ded-d79c-4161-80e3-7de71f8d5dde",
   "metadata": {},
   "source": [
    "## Ensemble models training"
   ]
  },
  {
   "cell_type": "code",
   "execution_count": 39,
   "id": "6ac511f8-0407-4c46-a74f-4668565190f2",
   "metadata": {},
   "outputs": [
    {
     "data": {
      "text/plain": [
       "62"
      ]
     },
     "execution_count": 39,
     "metadata": {},
     "output_type": "execute_result"
    }
   ],
   "source": [
    "num_observations = X.shape[0]\n",
    "num_observations"
   ]
  },
  {
   "cell_type": "markdown",
   "id": "84656088-90f7-430d-adc8-9d741a739b20",
   "metadata": {},
   "source": [
    "We train an ensemble of MLP models that start with a different iinit parameters"
   ]
  },
  {
   "cell_type": "code",
   "execution_count": 42,
   "id": "ce9ba58b-31ee-4c7a-b1ca-5636dfd97052",
   "metadata": {},
   "outputs": [
    {
     "data": {
      "text/plain": [
       "20"
      ]
     },
     "execution_count": 42,
     "metadata": {},
     "output_type": "execute_result"
    }
   ],
   "source": [
    "import random \n",
    "num_ensemble_members = 20 \n",
    "from random import randint\n",
    "random_states = [randint(2, num_observations) for p in range(1, num_ensemble_members + 1)]\n",
    "len(random_states)"
   ]
  },
  {
   "cell_type": "code",
   "execution_count": 44,
   "id": "a4de9a19-94a0-42af-9ab4-413e03086d94",
   "metadata": {},
   "outputs": [
    {
     "data": {
      "text/plain": [
       "[34, 34, 8, 20, 41, 13, 42, 60, 3, 11, 30, 12, 57, 9, 53, 55, 38, 46, 4, 37]"
      ]
     },
     "execution_count": 44,
     "metadata": {},
     "output_type": "execute_result"
    }
   ],
   "source": [
    "random_states[:]"
   ]
  },
  {
   "cell_type": "code",
   "execution_count": 45,
   "id": "02fb9e5a-0c76-48a0-8c3b-9416b1afcbc3",
   "metadata": {},
   "outputs": [
    {
     "data": {
      "text/plain": [
       "(62, 20)"
      ]
     },
     "execution_count": 45,
     "metadata": {},
     "output_type": "execute_result"
    }
   ],
   "source": [
    "ensemble_members = np.zeros((num_observations,num_ensemble_members))\n",
    "ensemble_members.shape"
   ]
  },
  {
   "cell_type": "code",
   "execution_count": 76,
   "id": "dcabfd01-bdc5-4e08-a1c1-9045b6b1b1d3",
   "metadata": {},
   "outputs": [
    {
     "name": "stdout",
     "output_type": "stream",
     "text": [
      "Ensemble 0\n",
      "done in 0.211s\n",
      "Train R2 score: 1.00\n",
      "Test R2 score: 0.90\n",
      "\n",
      "Ensemble 1\n",
      "done in 0.079s\n",
      "Train R2 score: 1.00\n",
      "Test R2 score: 0.90\n",
      "\n",
      "Ensemble 2\n",
      "done in 0.129s\n",
      "Train R2 score: 1.00\n",
      "Test R2 score: 0.94\n",
      "\n",
      "Ensemble 3\n",
      "done in 0.067s\n",
      "Train R2 score: 0.99\n",
      "Test R2 score: 0.91\n",
      "\n",
      "Ensemble 4\n",
      "done in 0.074s\n",
      "Train R2 score: 0.99\n",
      "Test R2 score: 0.94\n",
      "\n",
      "Ensemble 5\n",
      "done in 0.073s\n",
      "Train R2 score: 0.99\n",
      "Test R2 score: 0.95\n",
      "\n",
      "Ensemble 6\n",
      "done in 0.060s\n",
      "Train R2 score: 1.00\n",
      "Test R2 score: 0.90\n",
      "\n",
      "Ensemble 7\n",
      "done in 0.073s\n",
      "Train R2 score: 1.00\n",
      "Test R2 score: 0.80\n",
      "\n",
      "Ensemble 8\n",
      "done in 0.061s\n",
      "Train R2 score: 1.00\n",
      "Test R2 score: 0.86\n",
      "\n",
      "Ensemble 9\n",
      "done in 0.060s\n",
      "Train R2 score: 1.00\n",
      "Test R2 score: 0.94\n",
      "\n",
      "Ensemble 10\n",
      "done in 0.064s\n",
      "Train R2 score: 1.00\n",
      "Test R2 score: 0.93\n",
      "\n",
      "Ensemble 11\n",
      "done in 0.064s\n",
      "Train R2 score: 0.99\n",
      "Test R2 score: 0.96\n",
      "\n",
      "Ensemble 12\n",
      "done in 0.068s\n",
      "Train R2 score: 1.00\n",
      "Test R2 score: 0.83\n",
      "\n",
      "Ensemble 13\n",
      "done in 0.059s\n",
      "Train R2 score: 1.00\n",
      "Test R2 score: 0.89\n",
      "\n",
      "Ensemble 14\n",
      "done in 0.061s\n",
      "Train R2 score: 1.00\n",
      "Test R2 score: 0.92\n",
      "\n",
      "Ensemble 15\n",
      "done in 0.069s\n",
      "Train R2 score: 1.00\n",
      "Test R2 score: 0.95\n",
      "\n",
      "Ensemble 16\n",
      "done in 0.066s\n",
      "Train R2 score: 1.00\n",
      "Test R2 score: 0.97\n",
      "\n",
      "Ensemble 17\n",
      "done in 0.062s\n",
      "Train R2 score: 0.99\n",
      "Test R2 score: 0.93\n",
      "\n",
      "Ensemble 18\n",
      "done in 0.059s\n",
      "Train R2 score: 1.00\n",
      "Test R2 score: 0.92\n",
      "\n",
      "Ensemble 19\n",
      "done in 0.064s\n",
      "Train R2 score: 1.00\n",
      "Test R2 score: 0.87\n",
      "\n"
     ]
    }
   ],
   "source": [
    "from time import time\n",
    "from sklearn.model_selection import train_test_split\n",
    "from sklearn.neural_network import MLPRegressor\n",
    "from sklearn.pipeline import make_pipeline\n",
    "\n",
    "for i in range(0, num_ensemble_members):\n",
    "    random_state = random_states[i]\n",
    "    tic = time()\n",
    "    mlp_model = MLPRegressor(\n",
    "               hidden_layer_sizes=(5, ),\n",
    "               activation='tanh',\n",
    "               #learning_rate_init=0.01, not used with lbfgs solver\n",
    "               early_stopping=True,\n",
    "               random_state=random_state,\n",
    "               solver='lbfgs'\n",
    "            )\n",
    "    X_train, X_test, y_train, y_test = train_test_split(X_scaled, y_scaled, test_size=0.2, random_state=random_state)\n",
    "    mlp_model.fit(X_train, y_train)\n",
    "    model_sample = mlp_model.predict(X)\n",
    "    ensemble_members[:, i] = model_sample\n",
    "    print('Ensemble {0:d}'.format(i))\n",
    "    print(f\"done in {time() - tic:.3f}s\")\n",
    "    print(f\"Train R2 score: {mlp_model.score(X_train, y_train):.2f}\")\n",
    "    print(f\"Test R2 score: {mlp_model.score(X_test, y_test):.2f}\\n\")"
   ]
  },
  {
   "cell_type": "code",
   "execution_count": 95,
   "id": "6d737e1c-939f-4a96-8d24-769734099c65",
   "metadata": {},
   "outputs": [
    {
     "data": {
      "text/html": [
       "<div>\n",
       "<style scoped>\n",
       "    .dataframe tbody tr th:only-of-type {\n",
       "        vertical-align: middle;\n",
       "    }\n",
       "\n",
       "    .dataframe tbody tr th {\n",
       "        vertical-align: top;\n",
       "    }\n",
       "\n",
       "    .dataframe thead th {\n",
       "        text-align: right;\n",
       "    }\n",
       "</style>\n",
       "<table border=\"1\" class=\"dataframe\">\n",
       "  <thead>\n",
       "    <tr style=\"text-align: right;\">\n",
       "      <th></th>\n",
       "      <th>0</th>\n",
       "      <th>1</th>\n",
       "      <th>2</th>\n",
       "      <th>3</th>\n",
       "      <th>4</th>\n",
       "      <th>5</th>\n",
       "      <th>6</th>\n",
       "      <th>7</th>\n",
       "      <th>8</th>\n",
       "      <th>9</th>\n",
       "      <th>10</th>\n",
       "      <th>11</th>\n",
       "      <th>12</th>\n",
       "      <th>13</th>\n",
       "      <th>14</th>\n",
       "      <th>15</th>\n",
       "      <th>16</th>\n",
       "      <th>17</th>\n",
       "      <th>18</th>\n",
       "      <th>19</th>\n",
       "    </tr>\n",
       "  </thead>\n",
       "  <tbody>\n",
       "    <tr>\n",
       "      <th>1961-12-31</th>\n",
       "      <td>2.917433</td>\n",
       "      <td>2.917433</td>\n",
       "      <td>-1.2438</td>\n",
       "      <td>-0.060377</td>\n",
       "      <td>-0.88442</td>\n",
       "      <td>0.594206</td>\n",
       "      <td>-2.055156</td>\n",
       "      <td>3.329552</td>\n",
       "      <td>-2.652929</td>\n",
       "      <td>0.243548</td>\n",
       "      <td>0.059036</td>\n",
       "      <td>2.200229</td>\n",
       "      <td>-1.278807</td>\n",
       "      <td>2.241932</td>\n",
       "      <td>1.167375</td>\n",
       "      <td>-0.318016</td>\n",
       "      <td>-1.78743</td>\n",
       "      <td>-0.405169</td>\n",
       "      <td>-1.533857</td>\n",
       "      <td>-1.585746</td>\n",
       "    </tr>\n",
       "    <tr>\n",
       "      <th>1962-12-31</th>\n",
       "      <td>2.917433</td>\n",
       "      <td>2.917433</td>\n",
       "      <td>-1.2438</td>\n",
       "      <td>-0.060377</td>\n",
       "      <td>-0.88442</td>\n",
       "      <td>0.594206</td>\n",
       "      <td>-2.055156</td>\n",
       "      <td>3.329552</td>\n",
       "      <td>-2.652929</td>\n",
       "      <td>0.243548</td>\n",
       "      <td>0.059036</td>\n",
       "      <td>2.200229</td>\n",
       "      <td>-1.278807</td>\n",
       "      <td>2.241932</td>\n",
       "      <td>1.167375</td>\n",
       "      <td>-0.318016</td>\n",
       "      <td>-1.78743</td>\n",
       "      <td>-0.405169</td>\n",
       "      <td>-1.533857</td>\n",
       "      <td>-1.585746</td>\n",
       "    </tr>\n",
       "  </tbody>\n",
       "</table>\n",
       "</div>"
      ],
      "text/plain": [
       "                  0         1       2         3        4         5         6   \\\n",
       "1961-12-31  2.917433  2.917433 -1.2438 -0.060377 -0.88442  0.594206 -2.055156   \n",
       "1962-12-31  2.917433  2.917433 -1.2438 -0.060377 -0.88442  0.594206 -2.055156   \n",
       "\n",
       "                  7         8         9         10        11        12  \\\n",
       "1961-12-31  3.329552 -2.652929  0.243548  0.059036  2.200229 -1.278807   \n",
       "1962-12-31  3.329552 -2.652929  0.243548  0.059036  2.200229 -1.278807   \n",
       "\n",
       "                  13        14        15       16        17        18  \\\n",
       "1961-12-31  2.241932  1.167375 -0.318016 -1.78743 -0.405169 -1.533857   \n",
       "1962-12-31  2.241932  1.167375 -0.318016 -1.78743 -0.405169 -1.533857   \n",
       "\n",
       "                  19  \n",
       "1961-12-31 -1.585746  \n",
       "1962-12-31 -1.585746  "
      ]
     },
     "execution_count": 95,
     "metadata": {},
     "output_type": "execute_result"
    }
   ],
   "source": [
    "predictions = pd.DataFrame(ensemble_members, index=global_crop_yield_df.index)\n",
    "predictions.head(2)"
   ]
  },
  {
   "cell_type": "markdown",
   "id": "19b344be-07ec-4544-be5d-3a3b444e3078",
   "metadata": {},
   "source": [
    "We denormalize the predictions inverting the predicted values"
   ]
  },
  {
   "cell_type": "code",
   "execution_count": 96,
   "id": "7478929b-1d0d-419b-a043-39c35a858646",
   "metadata": {},
   "outputs": [
    {
     "data": {
      "text/html": [
       "<div>\n",
       "<style scoped>\n",
       "    .dataframe tbody tr th:only-of-type {\n",
       "        vertical-align: middle;\n",
       "    }\n",
       "\n",
       "    .dataframe tbody tr th {\n",
       "        vertical-align: top;\n",
       "    }\n",
       "\n",
       "    .dataframe thead th {\n",
       "        text-align: right;\n",
       "    }\n",
       "</style>\n",
       "<table border=\"1\" class=\"dataframe\">\n",
       "  <thead>\n",
       "    <tr style=\"text-align: right;\">\n",
       "      <th></th>\n",
       "      <th>0</th>\n",
       "      <th>1</th>\n",
       "      <th>2</th>\n",
       "      <th>3</th>\n",
       "      <th>4</th>\n",
       "      <th>5</th>\n",
       "      <th>6</th>\n",
       "      <th>7</th>\n",
       "      <th>8</th>\n",
       "      <th>9</th>\n",
       "      <th>10</th>\n",
       "      <th>11</th>\n",
       "      <th>12</th>\n",
       "      <th>13</th>\n",
       "      <th>14</th>\n",
       "      <th>15</th>\n",
       "      <th>16</th>\n",
       "      <th>17</th>\n",
       "      <th>18</th>\n",
       "      <th>19</th>\n",
       "    </tr>\n",
       "  </thead>\n",
       "  <tbody>\n",
       "    <tr>\n",
       "      <th>1961-12-31</th>\n",
       "      <td>73863.034863</td>\n",
       "      <td>73863.034863</td>\n",
       "      <td>24067.394386</td>\n",
       "      <td>38228.902586</td>\n",
       "      <td>28367.94208</td>\n",
       "      <td>46062.007057</td>\n",
       "      <td>14358.252991</td>\n",
       "      <td>78794.67636</td>\n",
       "      <td>7204.976997</td>\n",
       "      <td>41865.832948</td>\n",
       "      <td>39657.864618</td>\n",
       "      <td>65280.577974</td>\n",
       "      <td>23648.48047</td>\n",
       "      <td>65779.616651</td>\n",
       "      <td>52920.86375</td>\n",
       "      <td>35145.841729</td>\n",
       "      <td>17562.020611</td>\n",
       "      <td>34102.923655</td>\n",
       "      <td>20596.41589</td>\n",
       "      <td>19975.483671</td>\n",
       "    </tr>\n",
       "    <tr>\n",
       "      <th>1962-12-31</th>\n",
       "      <td>73863.034863</td>\n",
       "      <td>73863.034863</td>\n",
       "      <td>24067.394386</td>\n",
       "      <td>38228.902586</td>\n",
       "      <td>28367.94208</td>\n",
       "      <td>46062.007057</td>\n",
       "      <td>14358.252991</td>\n",
       "      <td>78794.67636</td>\n",
       "      <td>7204.976997</td>\n",
       "      <td>41865.832948</td>\n",
       "      <td>39657.864618</td>\n",
       "      <td>65280.577974</td>\n",
       "      <td>23648.48047</td>\n",
       "      <td>65779.616651</td>\n",
       "      <td>52920.86375</td>\n",
       "      <td>35145.841729</td>\n",
       "      <td>17562.020611</td>\n",
       "      <td>34102.923655</td>\n",
       "      <td>20596.41589</td>\n",
       "      <td>19975.483671</td>\n",
       "    </tr>\n",
       "  </tbody>\n",
       "</table>\n",
       "</div>"
      ],
      "text/plain": [
       "                      0             1             2             3   \\\n",
       "1961-12-31  73863.034863  73863.034863  24067.394386  38228.902586   \n",
       "1962-12-31  73863.034863  73863.034863  24067.394386  38228.902586   \n",
       "\n",
       "                     4             5             6            7            8   \\\n",
       "1961-12-31  28367.94208  46062.007057  14358.252991  78794.67636  7204.976997   \n",
       "1962-12-31  28367.94208  46062.007057  14358.252991  78794.67636  7204.976997   \n",
       "\n",
       "                      9             10            11           12  \\\n",
       "1961-12-31  41865.832948  39657.864618  65280.577974  23648.48047   \n",
       "1962-12-31  41865.832948  39657.864618  65280.577974  23648.48047   \n",
       "\n",
       "                      13           14            15            16  \\\n",
       "1961-12-31  65779.616651  52920.86375  35145.841729  17562.020611   \n",
       "1962-12-31  65779.616651  52920.86375  35145.841729  17562.020611   \n",
       "\n",
       "                      17           18            19  \n",
       "1961-12-31  34102.923655  20596.41589  19975.483671  \n",
       "1962-12-31  34102.923655  20596.41589  19975.483671  "
      ]
     },
     "execution_count": 96,
     "metadata": {},
     "output_type": "execute_result"
    }
   ],
   "source": [
    "predictions_denorm = predictions * variance_y + mean_y\n",
    "predictions_denorm.head(2)"
   ]
  },
  {
   "cell_type": "markdown",
   "id": "1d6127c4-7d32-4f1a-9ee7-675c52c390b3",
   "metadata": {},
   "source": [
    "## Best ensemble model visualization\n",
    "We use the ensemble 16 with the best test R2 score"
   ]
  },
  {
   "cell_type": "code",
   "execution_count": 97,
   "id": "da955e99-e79b-4d60-b850-8b1d80dc7c6e",
   "metadata": {},
   "outputs": [
    {
     "data": {
      "text/plain": [
       "1961-12-31    17562.020611\n",
       "1962-12-31    17562.020611\n",
       "Name: 16, dtype: float64"
      ]
     },
     "execution_count": 97,
     "metadata": {},
     "output_type": "execute_result"
    }
   ],
   "source": [
    "model_sample_best = predictions_denorm.iloc[:, 16]\n",
    "model_sample_best[:2]"
   ]
  },
  {
   "cell_type": "code",
   "execution_count": 114,
   "id": "634ef622-ab28-4535-a689-0674c236cf85",
   "metadata": {},
   "outputs": [
    {
     "data": {
      "image/png": "[encoded data removed]",
      "text/plain": [
       "<Figure size 1200x600 with 1 Axes>"
      ]
     },
     "metadata": {},
     "output_type": "display_data"
    }
   ],
   "source": [
    "from matplotlib import dates\n",
    "import matplotlib.dates as mdates\n",
    "\n",
    "fig = plt.figure(figsize=(12, 6))\n",
    "ax = fig.add_subplot()\n",
    "ax.set_title('Maize Yield')\n",
    "ax.set_ylabel('[kg/ha]');\n",
    "#ax.grid(True, which='both')\n",
    "#ax.set_xticks(predictions_denorm.index)\n",
    "#ax.set_xticklabels(predictions_denorm.index, rotation=70)\n",
    "#ax.xaxis.set_major_locator(dates.YearLocator(5))\n",
    "#ax.xaxis.set_major_formatter(mdates.DateFormatter('%Y'))\n",
    "maize_yield = global_crop_yield_df['Maize (100g/ha)'] / 10000 \n",
    "pd_maize_yield, = plt.plot(maize_yield, label='Maize Yield')\n",
    "pd_predictions_best, = plt.plot(model_sample_best / 10000, label='Best Predictions', color='green')\n",
    "#plt.legend(handles=[pd_maize_yield, pd_predictions_best], loc='upper left')"
   ]
  },
  {
   "cell_type": "code",
   "execution_count": null,
   "id": "6d33df5d-63ab-4d5a-ba6d-b07da3448266",
   "metadata": {},
   "outputs": [],
   "source": []
  }
 ],
 "metadata": {
  "kernelspec": {
   "display_name": "Python 3 (ipykernel)",
   "language": "python",
   "name": "python3"
  },
  "language_info": {
   "codemirror_mode": {
    "name": "ipython",
    "version": 3
   },
   "file_extension": ".py",
   "mimetype": "text/x-python",
   "name": "python",
   "nbconvert_exporter": "python",
   "pygments_lexer": "ipython3",
   "version": "3.11.5"
  }
 },
 "nbformat": 4,
 "nbformat_minor": 5
}
