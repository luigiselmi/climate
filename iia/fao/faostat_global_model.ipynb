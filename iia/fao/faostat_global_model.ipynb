{
 "cells": [
  {
   "cell_type": "markdown",
   "id": "3c84c22a-ac24-4611-a0e0-6a1a749369dd",
   "metadata": {},
   "source": [
    "# Faostat global model\n",
    "In this notebook we create an ensemble of multilayer perceptron ([MLP](https://scikit-learn.org/stable/modules/generated/sklearn.neural_network.MLPRegressor.html#sklearn.neural_network.MLPRegressor)) models to fit the world crop yields using the input variables: precipitation, air temperature, natural and synthetic fertilizers."
   ]
  },
  {
   "cell_type": "code",
   "execution_count": 16,
   "id": "3d68f27b-9187-410b-8f3e-e274b6a5a9ae",
   "metadata": {},
   "outputs": [
    {
     "name": "stdout",
     "output_type": "stream",
     "text": [
      "NumPy version: 1.25.2\n",
      "Pandas version: 2.1.1\n",
      "Matplotlib version: 3.8.0\n"
     ]
    }
   ],
   "source": [
    "import numpy as np\n",
    "import pandas as pd\n",
    "import matplotlib as mpl\n",
    "import matplotlib.pyplot as plt\n",
    "from matplotlib.pyplot import figure\n",
    "import matplotlib.dates as mdates\n",
    "import warnings\n",
    "warnings.filterwarnings('ignore')\n",
    "print(\"NumPy version: %s\"%np.__version__)\n",
    "print(\"Pandas version: %s\"%pd.__version__)\n",
    "print(\"Matplotlib version: %s\"%mpl.__version__)"
   ]
  },
  {
   "cell_type": "markdown",
   "id": "460cd406-8c3d-4031-bdf5-c25cbfae92e1",
   "metadata": {},
   "source": [
    "## The dataset\n",
    "We load the dataset that was prepared by putting into the same file the predictors and the predictands data"
   ]
  },
  {
   "cell_type": "code",
   "execution_count": 17,
   "id": "e20e1d75-31bb-4c26-9be8-5e48efb7fa86",
   "metadata": {},
   "outputs": [
    {
     "data": {
      "text/html": [
       "<div>\n",
       "<style scoped>\n",
       "    .dataframe tbody tr th:only-of-type {\n",
       "        vertical-align: middle;\n",
       "    }\n",
       "\n",
       "    .dataframe tbody tr th {\n",
       "        vertical-align: top;\n",
       "    }\n",
       "\n",
       "    .dataframe thead th {\n",
       "        text-align: right;\n",
       "    }\n",
       "</style>\n",
       "<table border=\"1\" class=\"dataframe\">\n",
       "  <thead>\n",
       "    <tr style=\"text-align: right;\">\n",
       "      <th></th>\n",
       "      <th>Maize (100g/ha)</th>\n",
       "      <th>Millet (100g/ha)</th>\n",
       "      <th>Temp. Anom. (°C)</th>\n",
       "      <th>Prec.Anom. (mm)</th>\n",
       "      <th>CO2 (ppm)</th>\n",
       "      <th>Manure (Mt)</th>\n",
       "      <th>Nitrogen (tons)</th>\n",
       "      <th>Phosphate (tons)</th>\n",
       "      <th>Potash (tons)</th>\n",
       "    </tr>\n",
       "  </thead>\n",
       "  <tbody>\n",
       "    <tr>\n",
       "      <th>1961-12-31</th>\n",
       "      <td>19423</td>\n",
       "      <td>5925</td>\n",
       "      <td>0.211</td>\n",
       "      <td>15.318908</td>\n",
       "      <td>317.64</td>\n",
       "      <td>1.835092e+10</td>\n",
       "      <td>11486265.27</td>\n",
       "      <td>10888968.81</td>\n",
       "      <td>8626724.57</td>\n",
       "    </tr>\n",
       "    <tr>\n",
       "      <th>1962-12-31</th>\n",
       "      <td>19796</td>\n",
       "      <td>5619</td>\n",
       "      <td>0.038</td>\n",
       "      <td>0.768900</td>\n",
       "      <td>318.45</td>\n",
       "      <td>1.872918e+10</td>\n",
       "      <td>12969831.11</td>\n",
       "      <td>11534554.43</td>\n",
       "      <td>9146891.38</td>\n",
       "    </tr>\n",
       "  </tbody>\n",
       "</table>\n",
       "</div>"
      ],
      "text/plain": [
       "            Maize (100g/ha)  Millet (100g/ha)  Temp. Anom. (°C)  \\\n",
       "1961-12-31            19423              5925             0.211   \n",
       "1962-12-31            19796              5619             0.038   \n",
       "\n",
       "            Prec.Anom. (mm)  CO2 (ppm)   Manure (Mt)  Nitrogen (tons)  \\\n",
       "1961-12-31        15.318908     317.64  1.835092e+10      11486265.27   \n",
       "1962-12-31         0.768900     318.45  1.872918e+10      12969831.11   \n",
       "\n",
       "            Phosphate (tons)  Potash (tons)  \n",
       "1961-12-31       10888968.81     8626724.57  \n",
       "1962-12-31       11534554.43     9146891.38  "
      ]
     },
     "execution_count": 17,
     "metadata": {},
     "output_type": "execute_result"
    }
   ],
   "source": [
    "global_crop_yield_path = 'data/global_dataset.csv'\n",
    "global_crop_yield_df = pd.read_csv(global_crop_yield_path, index_col=0)\n",
    "global_crop_yield_df.head(2)"
   ]
  },
  {
   "cell_type": "markdown",
   "id": "85253f6e-56c6-43a6-92f4-82d45e65afde",
   "metadata": {},
   "source": [
    "## Data preparation\n",
    "Since the values for the variables differ by orders of magnitude, we normalize them before using the data as input for the model. We use the [StandardScaler](https://scikit-learn.org/stable/modules/generated/sklearn.preprocessing.StandardScaler.html#sklearn.preprocessing.StandardScaler) from the scikit-learn package to normalize the values. The scaler removes the mean and scale the values to unit variance. We start by selecting the columns with the input data"
   ]
  },
  {
   "cell_type": "code",
   "execution_count": 18,
   "id": "9dca5275-3d24-462f-b838-4b427a786eea",
   "metadata": {},
   "outputs": [],
   "source": [
    "X = global_crop_yield_df.iloc[:, [2, 3, 4, 5, 6]].to_numpy()\n",
    "y = global_crop_yield_df.iloc[:, [0]].to_numpy()"
   ]
  },
  {
   "cell_type": "markdown",
   "id": "9beda5d5-1e3f-4022-ab66-f54283173c27",
   "metadata": {},
   "source": [
    "and the column of the predictand (maize)"
   ]
  },
  {
   "cell_type": "code",
   "execution_count": 19,
   "id": "2eeed184-ce28-4fb2-b10c-6492130c6a82",
   "metadata": {},
   "outputs": [
    {
     "data": {
      "text/plain": [
       "array([[19423]], dtype=int64)"
      ]
     },
     "execution_count": 19,
     "metadata": {},
     "output_type": "execute_result"
    }
   ],
   "source": [
    "y[:1]"
   ]
  },
  {
   "cell_type": "code",
   "execution_count": 20,
   "id": "3c4b2574-eee1-424a-a606-7ffaee15aa97",
   "metadata": {},
   "outputs": [],
   "source": [
    "from sklearn import preprocessing\n",
    "scaler_x = preprocessing.StandardScaler().fit(X)"
   ]
  },
  {
   "cell_type": "markdown",
   "id": "e7ad1c2d-2429-4748-b93b-b4f19d5a2e98",
   "metadata": {},
   "source": [
    "The scaler computes the mean of the input variables"
   ]
  },
  {
   "cell_type": "code",
   "execution_count": 21,
   "id": "70caded3-2764-492f-99c1-432d6ffafef0",
   "metadata": {},
   "outputs": [
    {
     "data": {
      "text/plain": [
       "0.5707741935483871"
      ]
     },
     "execution_count": 21,
     "metadata": {},
     "output_type": "execute_result"
    }
   ],
   "source": [
    "mean_x = scaler_x.mean_[0]\n",
    "mean_x"
   ]
  },
  {
   "cell_type": "markdown",
   "id": "99ee47d5-eac9-4ab2-b233-9a9106f1153e",
   "metadata": {},
   "source": [
    "and the variance"
   ]
  },
  {
   "cell_type": "code",
   "execution_count": 22,
   "id": "4585d514-3fed-4d08-b931-2e3df89f3a95",
   "metadata": {},
   "outputs": [
    {
     "data": {
      "text/plain": [
       "0.5387043721971724"
      ]
     },
     "execution_count": 22,
     "metadata": {},
     "output_type": "execute_result"
    }
   ],
   "source": [
    "variance_x = scaler_x.scale_[0]\n",
    "variance_x"
   ]
  },
  {
   "cell_type": "markdown",
   "id": "58e5ef1f-2104-462b-8089-996687b2d113",
   "metadata": {},
   "source": [
    "we use the scaler to normalize the input variables"
   ]
  },
  {
   "cell_type": "code",
   "execution_count": 23,
   "id": "dd9cc6b8-1617-40fd-8fd2-66097de3ec5f",
   "metadata": {},
   "outputs": [
    {
     "data": {
      "text/plain": [
       "(62, 5)"
      ]
     },
     "execution_count": 23,
     "metadata": {},
     "output_type": "execute_result"
    }
   ],
   "source": [
    "X_scaled = scaler_x.transform(X)\n",
    "X_scaled.shape"
   ]
  },
  {
   "cell_type": "code",
   "execution_count": 24,
   "id": "f912cf18-2a00-4acc-8e4d-5015897d5116",
   "metadata": {},
   "outputs": [
    {
     "data": {
      "text/plain": [
       "(62, 1)"
      ]
     },
     "execution_count": 24,
     "metadata": {},
     "output_type": "execute_result"
    }
   ],
   "source": [
    "scaler_y = preprocessing.StandardScaler().fit(y)\n",
    "y_scaled = scaler_y.transform(y)\n",
    "y_scaled.shape"
   ]
  },
  {
   "cell_type": "code",
   "execution_count": 25,
   "id": "5d6c1365-8e3d-4f67-8299-d6a9fe57dcd0",
   "metadata": {},
   "outputs": [
    {
     "data": {
      "text/plain": [
       "38951.403225806454"
      ]
     },
     "execution_count": 25,
     "metadata": {},
     "output_type": "execute_result"
    }
   ],
   "source": [
    "mean_y = scaler_y.mean_[0]\n",
    "mean_y"
   ]
  },
  {
   "cell_type": "code",
   "execution_count": 26,
   "id": "062e80d6-01c2-4e5c-b90a-9dd2c5a08549",
   "metadata": {},
   "outputs": [
    {
     "data": {
      "text/plain": [
       "11966.558404448891"
      ]
     },
     "execution_count": 26,
     "metadata": {},
     "output_type": "execute_result"
    }
   ],
   "source": [
    "variance_y = scaler_y.scale_[0]\n",
    "variance_y"
   ]
  },
  {
   "cell_type": "markdown",
   "id": "53639f19-7630-449c-acc5-bfa874f6322d",
   "metadata": {},
   "source": [
    "## Train and test set\n",
    "The data used to train a model of the ensemble is divided into a train set and a test set"
   ]
  },
  {
   "cell_type": "code",
   "execution_count": 27,
   "id": "c6304386-13ed-4ad2-a51d-c63baf653ab1",
   "metadata": {},
   "outputs": [
    {
     "data": {
      "text/plain": [
       "((55, 5), (55, 1), (7, 5), (7, 1))"
      ]
     },
     "execution_count": 27,
     "metadata": {},
     "output_type": "execute_result"
    }
   ],
   "source": [
    "from sklearn.model_selection import train_test_split\n",
    "X_train, X_test, y_train, y_test = train_test_split(X_scaled, y_scaled, test_size=0.1, random_state=0)\n",
    "X_train.shape, y_train.shape, X_test.shape, y_test.shape"
   ]
  },
  {
   "cell_type": "markdown",
   "id": "232b4ded-d79c-4161-80e3-7de71f8d5dde",
   "metadata": {},
   "source": [
    "## Ensemble models training"
   ]
  },
  {
   "cell_type": "code",
   "execution_count": 28,
   "id": "6ac511f8-0407-4c46-a74f-4668565190f2",
   "metadata": {},
   "outputs": [
    {
     "data": {
      "text/plain": [
       "62"
      ]
     },
     "execution_count": 28,
     "metadata": {},
     "output_type": "execute_result"
    }
   ],
   "source": [
    "num_observations = X.shape[0]\n",
    "num_observations"
   ]
  },
  {
   "cell_type": "markdown",
   "id": "84656088-90f7-430d-adc8-9d741a739b20",
   "metadata": {},
   "source": [
    "We train an ensemble of MLP models that start with a different init parameters"
   ]
  },
  {
   "cell_type": "code",
   "execution_count": 29,
   "id": "ce9ba58b-31ee-4c7a-b1ca-5636dfd97052",
   "metadata": {},
   "outputs": [
    {
     "data": {
      "text/plain": [
       "20"
      ]
     },
     "execution_count": 29,
     "metadata": {},
     "output_type": "execute_result"
    }
   ],
   "source": [
    "import random \n",
    "num_ensemble_members = 20 \n",
    "from random import randint\n",
    "random_states = [randint(2, num_observations) for p in range(1, num_ensemble_members + 1)]\n",
    "len(random_states)"
   ]
  },
  {
   "cell_type": "markdown",
   "id": "efa9cee7-4d2b-4f9b-9bad-4b502108a1e6",
   "metadata": {},
   "source": [
    "A random state is the seed used during the training of a model of the ensemble"
   ]
  },
  {
   "cell_type": "code",
   "execution_count": 30,
   "id": "a4de9a19-94a0-42af-9ab4-413e03086d94",
   "metadata": {},
   "outputs": [
    {
     "data": {
      "text/plain": [
       "[37, 13, 62, 38, 22, 43, 29, 24, 7, 31, 25, 47, 54, 42, 31, 22, 20, 42, 6, 51]"
      ]
     },
     "execution_count": 30,
     "metadata": {},
     "output_type": "execute_result"
    }
   ],
   "source": [
    "random_states[:]"
   ]
  },
  {
   "cell_type": "markdown",
   "id": "2da3dcf1-d0b5-4bc1-a634-6fe2974e638c",
   "metadata": {},
   "source": [
    "We initialize a 2D array that will contain the predictions of the ensemble models"
   ]
  },
  {
   "cell_type": "code",
   "execution_count": 31,
   "id": "02fb9e5a-0c76-48a0-8c3b-9416b1afcbc3",
   "metadata": {},
   "outputs": [
    {
     "data": {
      "text/plain": [
       "(62, 20)"
      ]
     },
     "execution_count": 31,
     "metadata": {},
     "output_type": "execute_result"
    }
   ],
   "source": [
    "ensemble_members = np.zeros((num_observations,num_ensemble_members))\n",
    "ensemble_members.shape"
   ]
  },
  {
   "cell_type": "code",
   "execution_count": 32,
   "id": "dcabfd01-bdc5-4e08-a1c1-9045b6b1b1d3",
   "metadata": {},
   "outputs": [
    {
     "name": "stdout",
     "output_type": "stream",
     "text": [
      "Ensemble 0\n",
      "done in 0.233s\n",
      "Train R2 score: 0.99\n",
      "Test R2 score: 0.85\n",
      "\n",
      "Ensemble 1\n",
      "done in 0.068s\n",
      "Train R2 score: 0.99\n",
      "Test R2 score: 0.98\n",
      "\n",
      "Ensemble 2\n",
      "done in 0.060s\n",
      "Train R2 score: 0.99\n",
      "Test R2 score: 0.97\n",
      "\n",
      "Ensemble 3\n",
      "done in 0.059s\n",
      "Train R2 score: 0.99\n",
      "Test R2 score: 1.00\n",
      "\n",
      "Ensemble 4\n",
      "done in 0.065s\n",
      "Train R2 score: 0.99\n",
      "Test R2 score: 0.92\n",
      "\n",
      "Ensemble 5\n",
      "done in 0.067s\n",
      "Train R2 score: 0.99\n",
      "Test R2 score: 0.91\n",
      "\n",
      "Ensemble 6\n",
      "done in 0.060s\n",
      "Train R2 score: 0.99\n",
      "Test R2 score: 0.94\n",
      "\n",
      "Ensemble 7\n",
      "done in 0.060s\n",
      "Train R2 score: 0.99\n",
      "Test R2 score: 0.98\n",
      "\n",
      "Ensemble 8\n",
      "done in 0.066s\n",
      "Train R2 score: 0.99\n",
      "Test R2 score: 0.90\n",
      "\n",
      "Ensemble 9\n",
      "done in 0.069s\n",
      "Train R2 score: 0.99\n",
      "Test R2 score: 0.94\n",
      "\n",
      "Ensemble 10\n",
      "done in 0.061s\n",
      "Train R2 score: 0.99\n",
      "Test R2 score: 0.97\n",
      "\n",
      "Ensemble 11\n",
      "done in 0.057s\n",
      "Train R2 score: 0.99\n",
      "Test R2 score: 0.91\n",
      "\n",
      "Ensemble 12\n",
      "done in 0.067s\n",
      "Train R2 score: 1.00\n",
      "Test R2 score: 0.85\n",
      "\n",
      "Ensemble 13\n",
      "done in 0.081s\n",
      "Train R2 score: 0.99\n",
      "Test R2 score: 0.99\n",
      "\n",
      "Ensemble 14\n",
      "done in 0.058s\n",
      "Train R2 score: 0.99\n",
      "Test R2 score: 0.94\n",
      "\n",
      "Ensemble 15\n",
      "done in 0.057s\n",
      "Train R2 score: 0.99\n",
      "Test R2 score: 0.92\n",
      "\n",
      "Ensemble 16\n",
      "done in 0.060s\n",
      "Train R2 score: 0.99\n",
      "Test R2 score: 0.98\n",
      "\n",
      "Ensemble 17\n",
      "done in 0.061s\n",
      "Train R2 score: 0.99\n",
      "Test R2 score: 0.99\n",
      "\n",
      "Ensemble 18\n",
      "done in 0.068s\n",
      "Train R2 score: 0.99\n",
      "Test R2 score: 0.96\n",
      "\n",
      "Ensemble 19\n",
      "done in 0.065s\n",
      "Train R2 score: 0.99\n",
      "Test R2 score: 0.97\n",
      "\n"
     ]
    }
   ],
   "source": [
    "from time import time\n",
    "from sklearn.model_selection import train_test_split\n",
    "from sklearn.neural_network import MLPRegressor\n",
    "from sklearn.pipeline import make_pipeline\n",
    "\n",
    "for i in range(0, num_ensemble_members):\n",
    "    random_state = random_states[i]\n",
    "    tic = time()\n",
    "    mlp_model = MLPRegressor(\n",
    "               hidden_layer_sizes=(5, ),\n",
    "               activation='tanh',\n",
    "               #learning_rate_init=0.01, not used with lbfgs solver\n",
    "               early_stopping=True,\n",
    "               random_state=random_state,\n",
    "               solver='lbfgs'\n",
    "            )\n",
    "    X_train, X_test, y_train, y_test = train_test_split(X_scaled, y_scaled, test_size=0.1, random_state=random_state)\n",
    "    mlp_model.fit(X_train, y_train)\n",
    "    model_sample = mlp_model.predict(X_scaled)\n",
    "    ensemble_members[:, i] = model_sample\n",
    "    print('Ensemble {0:d}'.format(i))\n",
    "    print(f\"done in {time() - tic:.3f}s\")\n",
    "    print(f\"Train R2 score: {mlp_model.score(X_train, y_train):.2f}\")\n",
    "    print(f\"Test R2 score: {mlp_model.score(X_test, y_test):.2f}\\n\")"
   ]
  },
  {
   "cell_type": "code",
   "execution_count": 33,
   "id": "047203c8-8080-4263-aa4c-42f14ca4e0af",
   "metadata": {},
   "outputs": [
    {
     "data": {
      "text/plain": [
       "62"
      ]
     },
     "execution_count": 33,
     "metadata": {},
     "output_type": "execute_result"
    }
   ],
   "source": [
    "len(ensemble_members[:,0])"
   ]
  },
  {
   "cell_type": "markdown",
   "id": "19b344be-07ec-4544-be5d-3a3b444e3078",
   "metadata": {},
   "source": [
    "## Inverse transform\n",
    "We denormalize the predictions by inverting the predicted values. We can perform the inverse transform using a simple equation"
   ]
  },
  {
   "cell_type": "code",
   "execution_count": 34,
   "id": "7478929b-1d0d-419b-a043-39c35a858646",
   "metadata": {},
   "outputs": [
    {
     "data": {
      "text/plain": [
       "array([18826.58048269, 20004.02698039, 19968.59910859, 19975.30422254,\n",
       "       21410.10590859, 21736.7503782 , 23707.91333919, 24142.64503549,\n",
       "       24549.45966503, 24518.70280409, 26472.75320471, 27176.33464658,\n",
       "       27576.33578002, 25689.49601202, 28119.79253721, 27645.41726947,\n",
       "       30728.2251246 , 30958.69969941, 31363.08385578, 31371.93848185,\n",
       "       33680.76339313, 35544.85643485, 30391.42943754, 35700.27820067,\n",
       "       36755.81313485, 36414.5680637 , 34390.83345945, 36008.73567694,\n",
       "       37129.00177324, 34049.73190098, 36613.56385217, 39631.01109141,\n",
       "       42041.12791454, 40568.2820398 , 38756.69323439, 41678.27416918,\n",
       "       40760.66103675, 43479.70174738, 43787.7975757 , 44327.40028433,\n",
       "       45332.68627   , 43674.47136591, 46218.79304435, 47356.8493997 ,\n",
       "       47631.51135805, 48943.25067811, 49373.2183111 , 50526.54053353,\n",
       "       50858.94371469, 51405.21582423, 51892.31329844, 52564.81445277,\n",
       "       53226.89871428, 54218.74493446, 56332.42722954, 57053.194445  ,\n",
       "       56595.77736257, 56808.90378422, 58026.97243272, 58467.69126219,\n",
       "       58333.57060802, 58594.7226388 ])"
      ]
     },
     "execution_count": 34,
     "metadata": {},
     "output_type": "execute_result"
    }
   ],
   "source": [
    "ensemble_denorm = ensemble_members * variance_y + mean_y\n",
    "ensemble_denorm[:,0]"
   ]
  },
  {
   "cell_type": "markdown",
   "id": "10cf2af9-6ac8-42cf-a598-9701aed70667",
   "metadata": {},
   "source": [
    "or we can use the function provided by the scaler"
   ]
  },
  {
   "cell_type": "code",
   "execution_count": 35,
   "id": "db34514d-7d35-42c9-96d2-5ee0041ba685",
   "metadata": {},
   "outputs": [
    {
     "data": {
      "text/plain": [
       "array([18826.58048269, 20004.02698039, 19968.59910859, 19975.30422254,\n",
       "       21410.10590859, 21736.7503782 , 23707.91333919, 24142.64503549,\n",
       "       24549.45966503, 24518.70280409, 26472.75320471, 27176.33464658,\n",
       "       27576.33578002, 25689.49601202, 28119.79253721, 27645.41726947,\n",
       "       30728.2251246 , 30958.69969941, 31363.08385578, 31371.93848185,\n",
       "       33680.76339313, 35544.85643485, 30391.42943754, 35700.27820067,\n",
       "       36755.81313485, 36414.5680637 , 34390.83345945, 36008.73567694,\n",
       "       37129.00177324, 34049.73190098, 36613.56385217, 39631.01109141,\n",
       "       42041.12791454, 40568.2820398 , 38756.69323439, 41678.27416918,\n",
       "       40760.66103675, 43479.70174738, 43787.7975757 , 44327.40028433,\n",
       "       45332.68627   , 43674.47136591, 46218.79304435, 47356.8493997 ,\n",
       "       47631.51135805, 48943.25067811, 49373.2183111 , 50526.54053353,\n",
       "       50858.94371469, 51405.21582423, 51892.31329844, 52564.81445277,\n",
       "       53226.89871428, 54218.74493446, 56332.42722954, 57053.194445  ,\n",
       "       56595.77736257, 56808.90378422, 58026.97243272, 58467.69126219,\n",
       "       58333.57060802, 58594.7226388 ])"
      ]
     },
     "execution_count": 35,
     "metadata": {},
     "output_type": "execute_result"
    }
   ],
   "source": [
    "prediction = scaler_y.inverse_transform(ensemble_members)\n",
    "prediction[:, 0]"
   ]
  },
  {
   "cell_type": "code",
   "execution_count": 38,
   "id": "41121e93-fd6a-48af-821c-33bda346079b",
   "metadata": {},
   "outputs": [
    {
     "data": {
      "text/plain": [
       "True"
      ]
     },
     "execution_count": 38,
     "metadata": {},
     "output_type": "execute_result"
    }
   ],
   "source": [
    "diff = prediction[:, 0] - ensemble_denorm[:,0] == 0\n",
    "diff.all()"
   ]
  },
  {
   "cell_type": "markdown",
   "id": "0b411b0f-017a-4cf9-92af-8c708ed58401",
   "metadata": {},
   "source": [
    "We compute the ensemble values"
   ]
  },
  {
   "cell_type": "code",
   "execution_count": 43,
   "id": "c487c155-870c-45af-b41d-dfe47e8499d4",
   "metadata": {},
   "outputs": [
    {
     "data": {
      "text/plain": [
       "array([19825.96159942, 20020.37576734, 20458.45110567, 20425.74338209,\n",
       "       22052.46256629, 21917.28497932, 23069.77588769, 23344.78228417,\n",
       "       23809.30863914, 24292.77770113, 25656.90774721, 27076.3968569 ,\n",
       "       27123.16555706, 25668.32551781, 28432.04560424, 29246.81836764,\n",
       "       30943.30017836, 31357.0360812 , 32936.05244343, 31943.12810332,\n",
       "       33198.94922995, 35325.2692606 , 30977.41221976, 35616.94849312,\n",
       "       36880.08698717, 35542.09159924, 34713.94900681, 32140.52027218,\n",
       "       36148.90660752, 36140.78988337, 37441.27045925, 39024.61758116,\n",
       "       39040.78318761, 39417.7842707 , 38543.76496303, 41423.6690902 ,\n",
       "       40991.58199033, 43486.68959244, 44058.38382506, 44193.94684874,\n",
       "       44971.92936071, 44235.62963722, 45811.93975523, 47309.0907438 ,\n",
       "       47562.01026053, 48985.91740787, 49909.57872256, 50317.7604395 ,\n",
       "       50717.90818189, 51587.02309937, 51768.08489843, 52417.33506724,\n",
       "       53379.60164672, 54109.57831074, 55112.20439481, 57368.68135319,\n",
       "       57239.69378938, 57252.2833163 , 57813.20763742, 58592.53611061,\n",
       "       58271.51324593, 58400.28257896])"
      ]
     },
     "execution_count": 43,
     "metadata": {},
     "output_type": "execute_result"
    }
   ],
   "source": [
    "ensemble = prediction.sum(axis=1) / num_ensemble_members\n",
    "ensemble"
   ]
  },
  {
   "cell_type": "markdown",
   "id": "1d6127c4-7d32-4f1a-9ee7-675c52c390b3",
   "metadata": {},
   "source": [
    "## Best ensemble model visualization\n",
    "We use the ensemble 16 with the best test R2 score"
   ]
  },
  {
   "cell_type": "code",
   "execution_count": 44,
   "id": "8682be4a-6c11-412d-bdd5-0dd7414de552",
   "metadata": {},
   "outputs": [],
   "source": [
    "best_model_predictions = prediction[:,4]"
   ]
  },
  {
   "cell_type": "code",
   "execution_count": 45,
   "id": "da955e99-e79b-4d60-b850-8b1d80dc7c6e",
   "metadata": {},
   "outputs": [],
   "source": [
    "#model_sample_best = predictions_denorm.iloc[:, 16]\n",
    "#model_sample_best[:2]"
   ]
  },
  {
   "cell_type": "code",
   "execution_count": 49,
   "id": "634ef622-ab28-4535-a689-0674c236cf85",
   "metadata": {},
   "outputs": [
    {
     "data": {
      "text/plain": [
       "<matplotlib.legend.Legend at 0x241e5c8d2d0>"
      ]
     },
     "execution_count": 49,
     "metadata": {},
     "output_type": "execute_result"
    },
    {
     "data": {
      "image/png": "[encoded data removed]",
      "text/plain": [
       "<Figure size 1200x600 with 1 Axes>"
      ]
     },
     "metadata": {},
     "output_type": "display_data"
    }
   ],
   "source": [
    "from matplotlib import dates\n",
    "import matplotlib.dates as mdates\n",
    "\n",
    "fig = plt.figure(figsize=(12, 6))\n",
    "ax = fig.add_subplot()\n",
    "ax.set_title('Maize Yield')\n",
    "ax.set_ylabel('[kg/ha]');\n",
    "ax.grid(True, which='both')\n",
    "#ax.set_xticks(predictions_denorm.index)\n",
    "#ax.set_xticklabels(predictions_denorm.index, rotation=70)\n",
    "#ax.xaxis.set_major_locator(dates.YearLocator(5))\n",
    "#ax.xaxis.set_major_formatter(mdates.DateFormatter('%Y'))\n",
    "#maize_yield = global_crop_yield_df['Maize (100g/ha)'] / 10000 \n",
    "pd_maize_yield, = plt.plot(y / 10000, label='Maize Yield')\n",
    "pd_predictions_best, = plt.plot(best_model_predictions / 10000, label='Best model', color='green')\n",
    "pd_ensemble, = plt.plot(ensemble / 10000, label='Ensemble', color='orange')\n",
    "plt.legend(handles=[pd_maize_yield, pd_predictions_best, pd_ensemble], loc='upper left')"
   ]
  },
  {
   "cell_type": "code",
   "execution_count": null,
   "id": "6d33df5d-63ab-4d5a-ba6d-b07da3448266",
   "metadata": {},
   "outputs": [],
   "source": []
  }
 ],
 "metadata": {
  "kernelspec": {
   "display_name": "Python 3 (ipykernel)",
   "language": "python",
   "name": "python3"
  },
  "language_info": {
   "codemirror_mode": {
    "name": "ipython",
    "version": 3
   },
   "file_extension": ".py",
   "mimetype": "text/x-python",
   "name": "python",
   "nbconvert_exporter": "python",
   "pygments_lexer": "ipython3",
   "version": "3.11.5"
  }
 },
 "nbformat": 4,
 "nbformat_minor": 5
}
