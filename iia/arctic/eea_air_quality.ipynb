{
 "cells": [
  {
   "cell_type": "markdown",
   "id": "3cfaeb13-2579-4d40-9c3d-a4d623b5663e",
   "metadata": {},
   "source": [
    "# EEA Air Quality Datasets\n",
    "The European Environment Agency (EEA) provides air quality data from EU countries through an [API](https://eeadmz1-downloads-api-appservice.azurewebsites.net/swagger/index.html) or through a [web page](https://eeadmz1-downloads-webapp.azurewebsites.net/) (Air Quality Download Service) where the datasets can be downloaded. The data is available in the [Apache Parquet](https://arrow.apache.org/docs/python/parquet.html) format."
   ]
  },
  {
   "cell_type": "code",
   "execution_count": 1,
   "id": "aaf2768b-00f7-4ee7-a698-e0940a343303",
   "metadata": {},
   "outputs": [],
   "source": [
    "import pyarrow.parquet as pq"
   ]
  },
  {
   "cell_type": "code",
   "execution_count": null,
   "id": "9d8b21d7-c2f7-4a41-8d37-c9e7170f4de8",
   "metadata": {},
   "outputs": [],
   "source": []
  }
 ],
 "metadata": {
  "kernelspec": {
   "display_name": "Python 3 (ipykernel)",
   "language": "python",
   "name": "python3"
  },
  "language_info": {
   "codemirror_mode": {
    "name": "ipython",
    "version": 3
   },
   "file_extension": ".py",
   "mimetype": "text/x-python",
   "name": "python",
   "nbconvert_exporter": "python",
   "pygments_lexer": "ipython3",
   "version": "3.11.5"
  }
 },
 "nbformat": 4,
 "nbformat_minor": 5
}
