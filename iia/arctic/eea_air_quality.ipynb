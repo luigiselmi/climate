{
 "cells": [
  {
   "cell_type": "markdown",
   "id": "3cfaeb13-2579-4d40-9c3d-a4d623b5663e",
   "metadata": {},
   "source": [
    "# EEA Air Quality Datasets\n",
    "The European Environment Agency (EEA) provides air quality data from EU countries through an [API](https://eeadmz1-downloads-api-appservice.azurewebsites.net/swagger/index.html) or through a [web page](https://eeadmz1-downloads-webapp.azurewebsites.net/) (Air Quality Download Service) where the datasets can be downloaded. The data is available in the [Apache Parquet](https://arrow.apache.org/docs/python/parquet.html) format."
   ]
  },
  {
   "cell_type": "code",
   "execution_count": 9,
   "id": "aaf2768b-00f7-4ee7-a698-e0940a343303",
   "metadata": {},
   "outputs": [
    {
     "name": "stdout",
     "output_type": "stream",
     "text": [
      "Python version: 3.11.5\n",
      "NumPy version: 1.25.2\n",
      "Pandas version: 2.1.1\n",
      "GDAL version: 3.7.2\n",
      "GeoPandas version: 0.14.0\n"
     ]
    }
   ],
   "source": [
    "import pyarrow.parquet as pq\n",
    "import pandas as pd\n",
    "import numpy as np\n",
    "import math\n",
    "import matplotlib.pyplot as plt\n",
    "import matplotlib.dates as mdates\n",
    "from osgeo import gdal, osr, ogr\n",
    "import geopandas as gpd\n",
    "from shapely.geometry import Point\n",
    "import contextily as cx\n",
    "import warnings\n",
    "warnings.filterwarnings('ignore')\n",
    "from platform import python_version\n",
    "print(\"Python version: %s\"%python_version())\n",
    "print(\"NumPy version: %s\"%np.__version__)\n",
    "print(\"Pandas version: %s\"%pd.__version__)\n",
    "print('GDAL version: %s'%gdal.__version__)\n",
    "print(\"GeoPandas version: %s\"%gpd.__version__)"
   ]
  },
  {
   "cell_type": "markdown",
   "id": "f3ba047f-a34a-40fb-82ea-f4700573c995",
   "metadata": {},
   "source": [
    "## PM10, Oulu (FI)\n",
    "We download a dataset about PM10 for the Oulu station, in Finland, from the EEA website using the UI. In the UI we set \"FI\" for countries, \"Oulu\" for Cities, \"PM10\" for pollutants, and \"Up to date\" for the datasets. The dataset is provided as a file in the Apache Parquet format. The filename contains the station ID (FI00301_00005_100, accordining to the FMI)    "
   ]
  },
  {
   "cell_type": "code",
   "execution_count": 17,
   "id": "9d8b21d7-c2f7-4a41-8d37-c9e7170f4de8",
   "metadata": {},
   "outputs": [
    {
     "data": {
      "text/plain": [
       "(11795, 12)"
      ]
     },
     "execution_count": 17,
     "metadata": {},
     "output_type": "execute_result"
    }
   ],
   "source": [
    "fi_oulu_pm10 = 'data/eea/SPO-FI00301_00005_100.parquet'\n",
    "fi_oulu_pm10_tmp_df = pq.read_table(fi_oulu_pm10).to_pandas()\n",
    "fi_oulu_pm10_tmp_df.shape"
   ]
  },
  {
   "cell_type": "code",
   "execution_count": 18,
   "id": "5e61b95a-a780-4247-b2a6-550edd662a1f",
   "metadata": {},
   "outputs": [
    {
     "data": {
      "text/html": [
       "<div>\n",
       "<style scoped>\n",
       "    .dataframe tbody tr th:only-of-type {\n",
       "        vertical-align: middle;\n",
       "    }\n",
       "\n",
       "    .dataframe tbody tr th {\n",
       "        vertical-align: top;\n",
       "    }\n",
       "\n",
       "    .dataframe thead th {\n",
       "        text-align: right;\n",
       "    }\n",
       "</style>\n",
       "<table border=\"1\" class=\"dataframe\">\n",
       "  <thead>\n",
       "    <tr style=\"text-align: right;\">\n",
       "      <th></th>\n",
       "      <th>Samplingpoint</th>\n",
       "      <th>Pollutant</th>\n",
       "      <th>Start</th>\n",
       "      <th>End</th>\n",
       "      <th>Value</th>\n",
       "      <th>Unit</th>\n",
       "      <th>AggType</th>\n",
       "      <th>Validity</th>\n",
       "      <th>Verification</th>\n",
       "      <th>ResultTime</th>\n",
       "      <th>DataCapture</th>\n",
       "      <th>FkObservationLog</th>\n",
       "    </tr>\n",
       "  </thead>\n",
       "  <tbody>\n",
       "    <tr>\n",
       "      <th>0</th>\n",
       "      <td>FI/SPO-FI00301_00005_100</td>\n",
       "      <td>5</td>\n",
       "      <td>2022-12-31 23:00:00</td>\n",
       "      <td>2023-01-01 00:00:00</td>\n",
       "      <td>8.494222000000000000</td>\n",
       "      <td>ug/m3</td>\n",
       "      <td>hour</td>\n",
       "      <td>1</td>\n",
       "      <td>3</td>\n",
       "      <td>2023-01-02 00:30:03</td>\n",
       "      <td>None</td>\n",
       "      <td>c7b07300-c9d3-4900-97d4-5f48cdd8e45d</td>\n",
       "    </tr>\n",
       "    <tr>\n",
       "      <th>1</th>\n",
       "      <td>FI/SPO-FI00301_00005_100</td>\n",
       "      <td>5</td>\n",
       "      <td>2023-01-01 00:00:00</td>\n",
       "      <td>2023-01-01 01:00:00</td>\n",
       "      <td>4.464811000000000000</td>\n",
       "      <td>ug/m3</td>\n",
       "      <td>hour</td>\n",
       "      <td>1</td>\n",
       "      <td>3</td>\n",
       "      <td>2023-01-02 01:30:03</td>\n",
       "      <td>None</td>\n",
       "      <td>56f3421c-a27f-4ec2-9db8-378fcda0c510</td>\n",
       "    </tr>\n",
       "    <tr>\n",
       "      <th>2</th>\n",
       "      <td>FI/SPO-FI00301_00005_100</td>\n",
       "      <td>5</td>\n",
       "      <td>2023-01-01 01:00:00</td>\n",
       "      <td>2023-01-01 02:00:00</td>\n",
       "      <td>4.544486000000000000</td>\n",
       "      <td>ug/m3</td>\n",
       "      <td>hour</td>\n",
       "      <td>1</td>\n",
       "      <td>3</td>\n",
       "      <td>2023-01-02 02:30:03</td>\n",
       "      <td>None</td>\n",
       "      <td>fdbcd04d-e7f7-4f19-98d8-634452cdc88c</td>\n",
       "    </tr>\n",
       "    <tr>\n",
       "      <th>3</th>\n",
       "      <td>FI/SPO-FI00301_00005_100</td>\n",
       "      <td>5</td>\n",
       "      <td>2023-01-01 02:00:00</td>\n",
       "      <td>2023-01-01 03:00:00</td>\n",
       "      <td>4.221636000000000000</td>\n",
       "      <td>ug/m3</td>\n",
       "      <td>hour</td>\n",
       "      <td>1</td>\n",
       "      <td>3</td>\n",
       "      <td>2023-01-02 03:30:04</td>\n",
       "      <td>None</td>\n",
       "      <td>b7766798-b7e0-4fc7-a3fa-0dcc5aa6dcdb</td>\n",
       "    </tr>\n",
       "    <tr>\n",
       "      <th>4</th>\n",
       "      <td>FI/SPO-FI00301_00005_100</td>\n",
       "      <td>5</td>\n",
       "      <td>2023-01-01 03:00:00</td>\n",
       "      <td>2023-01-01 04:00:00</td>\n",
       "      <td>3.908483000000000000</td>\n",
       "      <td>ug/m3</td>\n",
       "      <td>hour</td>\n",
       "      <td>1</td>\n",
       "      <td>3</td>\n",
       "      <td>2023-01-02 04:30:03</td>\n",
       "      <td>None</td>\n",
       "      <td>2ed8a8c8-4c6f-43f6-ab9a-b9820a22fa54</td>\n",
       "    </tr>\n",
       "  </tbody>\n",
       "</table>\n",
       "</div>"
      ],
      "text/plain": [
       "              Samplingpoint  Pollutant               Start  \\\n",
       "0  FI/SPO-FI00301_00005_100          5 2022-12-31 23:00:00   \n",
       "1  FI/SPO-FI00301_00005_100          5 2023-01-01 00:00:00   \n",
       "2  FI/SPO-FI00301_00005_100          5 2023-01-01 01:00:00   \n",
       "3  FI/SPO-FI00301_00005_100          5 2023-01-01 02:00:00   \n",
       "4  FI/SPO-FI00301_00005_100          5 2023-01-01 03:00:00   \n",
       "\n",
       "                  End                 Value   Unit AggType  Validity  \\\n",
       "0 2023-01-01 00:00:00  8.494222000000000000  ug/m3    hour         1   \n",
       "1 2023-01-01 01:00:00  4.464811000000000000  ug/m3    hour         1   \n",
       "2 2023-01-01 02:00:00  4.544486000000000000  ug/m3    hour         1   \n",
       "3 2023-01-01 03:00:00  4.221636000000000000  ug/m3    hour         1   \n",
       "4 2023-01-01 04:00:00  3.908483000000000000  ug/m3    hour         1   \n",
       "\n",
       "   Verification          ResultTime DataCapture  \\\n",
       "0             3 2023-01-02 00:30:03        None   \n",
       "1             3 2023-01-02 01:30:03        None   \n",
       "2             3 2023-01-02 02:30:03        None   \n",
       "3             3 2023-01-02 03:30:04        None   \n",
       "4             3 2023-01-02 04:30:03        None   \n",
       "\n",
       "                       FkObservationLog  \n",
       "0  c7b07300-c9d3-4900-97d4-5f48cdd8e45d  \n",
       "1  56f3421c-a27f-4ec2-9db8-378fcda0c510  \n",
       "2  fdbcd04d-e7f7-4f19-98d8-634452cdc88c  \n",
       "3  b7766798-b7e0-4fc7-a3fa-0dcc5aa6dcdb  \n",
       "4  2ed8a8c8-4c6f-43f6-ab9a-b9820a22fa54  "
      ]
     },
     "execution_count": 18,
     "metadata": {},
     "output_type": "execute_result"
    }
   ],
   "source": [
    "fi_oulu_pm10_tmp_df.head()"
   ]
  },
  {
   "cell_type": "code",
   "execution_count": 20,
   "id": "bdb465d2-ce54-4409-95a2-ca08f87aa9a3",
   "metadata": {},
   "outputs": [
    {
     "data": {
      "text/html": [
       "<div>\n",
       "<style scoped>\n",
       "    .dataframe tbody tr th:only-of-type {\n",
       "        vertical-align: middle;\n",
       "    }\n",
       "\n",
       "    .dataframe tbody tr th {\n",
       "        vertical-align: top;\n",
       "    }\n",
       "\n",
       "    .dataframe thead th {\n",
       "        text-align: right;\n",
       "    }\n",
       "</style>\n",
       "<table border=\"1\" class=\"dataframe\">\n",
       "  <thead>\n",
       "    <tr style=\"text-align: right;\">\n",
       "      <th></th>\n",
       "      <th>Samplingpoint</th>\n",
       "      <th>Pollutant</th>\n",
       "      <th>Start</th>\n",
       "      <th>End</th>\n",
       "      <th>Value</th>\n",
       "      <th>Unit</th>\n",
       "      <th>AggType</th>\n",
       "      <th>Validity</th>\n",
       "      <th>Verification</th>\n",
       "      <th>ResultTime</th>\n",
       "      <th>DataCapture</th>\n",
       "      <th>FkObservationLog</th>\n",
       "    </tr>\n",
       "  </thead>\n",
       "  <tbody>\n",
       "    <tr>\n",
       "      <th>11790</th>\n",
       "      <td>FI/SPO-FI00301_00005_100</td>\n",
       "      <td>5</td>\n",
       "      <td>2024-05-06 06:00:00</td>\n",
       "      <td>2024-05-06 07:00:00</td>\n",
       "      <td>16.023013000000000000</td>\n",
       "      <td>ug.m-3</td>\n",
       "      <td>hour</td>\n",
       "      <td>1</td>\n",
       "      <td>3</td>\n",
       "      <td>2024-05-06 11:30:03</td>\n",
       "      <td>None</td>\n",
       "      <td>a95f067b-6279-4da6-8454-5313802d2d95</td>\n",
       "    </tr>\n",
       "    <tr>\n",
       "      <th>11791</th>\n",
       "      <td>FI/SPO-FI00301_00005_100</td>\n",
       "      <td>5</td>\n",
       "      <td>2024-05-06 07:00:00</td>\n",
       "      <td>2024-05-06 08:00:00</td>\n",
       "      <td>19.072442000000000000</td>\n",
       "      <td>ug.m-3</td>\n",
       "      <td>hour</td>\n",
       "      <td>1</td>\n",
       "      <td>3</td>\n",
       "      <td>2024-05-06 08:30:04</td>\n",
       "      <td>None</td>\n",
       "      <td>cf5d9dbd-6862-4d52-8ab6-a11e9d7aa46f</td>\n",
       "    </tr>\n",
       "    <tr>\n",
       "      <th>11792</th>\n",
       "      <td>FI/SPO-FI00301_00005_100</td>\n",
       "      <td>5</td>\n",
       "      <td>2024-05-06 08:00:00</td>\n",
       "      <td>2024-05-06 09:00:00</td>\n",
       "      <td>14.245591000000000000</td>\n",
       "      <td>ug.m-3</td>\n",
       "      <td>hour</td>\n",
       "      <td>1</td>\n",
       "      <td>3</td>\n",
       "      <td>2024-05-06 11:30:03</td>\n",
       "      <td>None</td>\n",
       "      <td>a95f067b-6279-4da6-8454-5313802d2d95</td>\n",
       "    </tr>\n",
       "    <tr>\n",
       "      <th>11793</th>\n",
       "      <td>FI/SPO-FI00301_00005_100</td>\n",
       "      <td>5</td>\n",
       "      <td>2024-05-06 09:00:00</td>\n",
       "      <td>2024-05-06 10:00:00</td>\n",
       "      <td>10.120997000000000000</td>\n",
       "      <td>ug.m-3</td>\n",
       "      <td>hour</td>\n",
       "      <td>1</td>\n",
       "      <td>3</td>\n",
       "      <td>2024-05-06 11:30:03</td>\n",
       "      <td>None</td>\n",
       "      <td>a95f067b-6279-4da6-8454-5313802d2d95</td>\n",
       "    </tr>\n",
       "    <tr>\n",
       "      <th>11794</th>\n",
       "      <td>FI/SPO-FI00301_00005_100</td>\n",
       "      <td>5</td>\n",
       "      <td>2024-05-06 10:00:00</td>\n",
       "      <td>2024-05-06 11:00:00</td>\n",
       "      <td>12.066708000000000000</td>\n",
       "      <td>ug.m-3</td>\n",
       "      <td>hour</td>\n",
       "      <td>1</td>\n",
       "      <td>3</td>\n",
       "      <td>2024-05-06 11:30:03</td>\n",
       "      <td>None</td>\n",
       "      <td>a95f067b-6279-4da6-8454-5313802d2d95</td>\n",
       "    </tr>\n",
       "  </tbody>\n",
       "</table>\n",
       "</div>"
      ],
      "text/plain": [
       "                  Samplingpoint  Pollutant               Start  \\\n",
       "11790  FI/SPO-FI00301_00005_100          5 2024-05-06 06:00:00   \n",
       "11791  FI/SPO-FI00301_00005_100          5 2024-05-06 07:00:00   \n",
       "11792  FI/SPO-FI00301_00005_100          5 2024-05-06 08:00:00   \n",
       "11793  FI/SPO-FI00301_00005_100          5 2024-05-06 09:00:00   \n",
       "11794  FI/SPO-FI00301_00005_100          5 2024-05-06 10:00:00   \n",
       "\n",
       "                      End                  Value    Unit AggType  Validity  \\\n",
       "11790 2024-05-06 07:00:00  16.023013000000000000  ug.m-3    hour         1   \n",
       "11791 2024-05-06 08:00:00  19.072442000000000000  ug.m-3    hour         1   \n",
       "11792 2024-05-06 09:00:00  14.245591000000000000  ug.m-3    hour         1   \n",
       "11793 2024-05-06 10:00:00  10.120997000000000000  ug.m-3    hour         1   \n",
       "11794 2024-05-06 11:00:00  12.066708000000000000  ug.m-3    hour         1   \n",
       "\n",
       "       Verification          ResultTime DataCapture  \\\n",
       "11790             3 2024-05-06 11:30:03        None   \n",
       "11791             3 2024-05-06 08:30:04        None   \n",
       "11792             3 2024-05-06 11:30:03        None   \n",
       "11793             3 2024-05-06 11:30:03        None   \n",
       "11794             3 2024-05-06 11:30:03        None   \n",
       "\n",
       "                           FkObservationLog  \n",
       "11790  a95f067b-6279-4da6-8454-5313802d2d95  \n",
       "11791  cf5d9dbd-6862-4d52-8ab6-a11e9d7aa46f  \n",
       "11792  a95f067b-6279-4da6-8454-5313802d2d95  \n",
       "11793  a95f067b-6279-4da6-8454-5313802d2d95  \n",
       "11794  a95f067b-6279-4da6-8454-5313802d2d95  "
      ]
     },
     "execution_count": 20,
     "metadata": {},
     "output_type": "execute_result"
    }
   ],
   "source": [
    "fi_oulu_pm10_tmp_df.tail()"
   ]
  },
  {
   "cell_type": "code",
   "execution_count": 37,
   "id": "aacee765-2e57-41fb-b4a1-c99de430ee1f",
   "metadata": {},
   "outputs": [],
   "source": [
    "fi_oulu_pm10_tmp_df.drop(['Samplingpoint', \n",
    "                          'Pollutant',\n",
    "                          'Start', \n",
    "                          'Unit',\n",
    "                          'AggType', \n",
    "                          'Validity', \n",
    "                          'Verification', \n",
    "                          'ResultTime', \n",
    "                          'DataCapture', \n",
    "                          'FkObservationLog'], axis=1, inplace=True)"
   ]
  },
  {
   "cell_type": "code",
   "execution_count": 38,
   "id": "b32a47ec-844c-498b-b6f9-574698f74f90",
   "metadata": {},
   "outputs": [],
   "source": [
    "fi_oulu_pm10_tmp_df.rename(columns={'Value':'PM10 [µg/m3]', 'End':'DateTime'}, inplace=True)"
   ]
  },
  {
   "cell_type": "code",
   "execution_count": 39,
   "id": "8e83d60d-f722-467f-a31c-a1b5890755aa",
   "metadata": {},
   "outputs": [
    {
     "data": {
      "text/html": [
       "<div>\n",
       "<style scoped>\n",
       "    .dataframe tbody tr th:only-of-type {\n",
       "        vertical-align: middle;\n",
       "    }\n",
       "\n",
       "    .dataframe tbody tr th {\n",
       "        vertical-align: top;\n",
       "    }\n",
       "\n",
       "    .dataframe thead th {\n",
       "        text-align: right;\n",
       "    }\n",
       "</style>\n",
       "<table border=\"1\" class=\"dataframe\">\n",
       "  <thead>\n",
       "    <tr style=\"text-align: right;\">\n",
       "      <th></th>\n",
       "      <th>DateTime</th>\n",
       "      <th>PM10 [µg/m3]</th>\n",
       "    </tr>\n",
       "  </thead>\n",
       "  <tbody>\n",
       "    <tr>\n",
       "      <th>1079</th>\n",
       "      <td>2023-02-14 23:00:00</td>\n",
       "      <td>None</td>\n",
       "    </tr>\n",
       "    <tr>\n",
       "      <th>2018</th>\n",
       "      <td>2023-03-26 02:00:00</td>\n",
       "      <td>None</td>\n",
       "    </tr>\n",
       "    <tr>\n",
       "      <th>6008</th>\n",
       "      <td>2023-09-08 08:00:00</td>\n",
       "      <td>None</td>\n",
       "    </tr>\n",
       "    <tr>\n",
       "      <th>6009</th>\n",
       "      <td>2023-09-08 09:00:00</td>\n",
       "      <td>None</td>\n",
       "    </tr>\n",
       "    <tr>\n",
       "      <th>6010</th>\n",
       "      <td>2023-09-08 10:00:00</td>\n",
       "      <td>None</td>\n",
       "    </tr>\n",
       "  </tbody>\n",
       "</table>\n",
       "</div>"
      ],
      "text/plain": [
       "                DateTime PM10 [µg/m3]\n",
       "1079 2023-02-14 23:00:00         None\n",
       "2018 2023-03-26 02:00:00         None\n",
       "6008 2023-09-08 08:00:00         None\n",
       "6009 2023-09-08 09:00:00         None\n",
       "6010 2023-09-08 10:00:00         None"
      ]
     },
     "execution_count": 39,
     "metadata": {},
     "output_type": "execute_result"
    }
   ],
   "source": [
    "fi_oulu_pm10_tmp_df[fi_oulu_pm10_df['PM10 [µg/m3]'].isna() == True]\n",
    "#print(nan_df.any())"
   ]
  },
  {
   "cell_type": "code",
   "execution_count": 51,
   "id": "e24f402e-10df-468e-b976-281670211218",
   "metadata": {},
   "outputs": [],
   "source": [
    "fi_oulu_pm10_tmp_df.dropna(inplace=True)"
   ]
  },
  {
   "cell_type": "code",
   "execution_count": 40,
   "id": "fe49af58-c5a2-4762-91f7-cec972ba1ba6",
   "metadata": {},
   "outputs": [],
   "source": [
    "date_index = pd.to_datetime(fi_oulu_pm10_tmp_df['DateTime'])\n",
    "fi_oulu_pm10_tmp_df.drop(['DateTime'], axis=1, inplace=True)\n",
    "fi_oulu_pm10_df = fi_oulu_pm10_tmp_df.set_index(date_index)"
   ]
  },
  {
   "cell_type": "code",
   "execution_count": 49,
   "id": "ebf56e5a-c2f0-4160-a050-d407bb325735",
   "metadata": {},
   "outputs": [
    {
     "data": {
      "text/plain": [
       "Decimal('8.494222000000000000')"
      ]
     },
     "execution_count": 49,
     "metadata": {},
     "output_type": "execute_result"
    }
   ],
   "source": [
    "fi_oulu_pm10_df['PM10 [µg/m3]'][0]"
   ]
  },
  {
   "cell_type": "code",
   "execution_count": 53,
   "id": "a31455e6-dcf1-472b-9b60-7376a1b3aee1",
   "metadata": {},
   "outputs": [],
   "source": [
    "fi_oulu_pm10_df.dropna(inplace=True) #we have to remove the NaN values before resampling"
   ]
  },
  {
   "cell_type": "code",
   "execution_count": 55,
   "id": "1d0b9c17-0949-4bce-ab51-cf2cb3e6f196",
   "metadata": {},
   "outputs": [
    {
     "data": {
      "text/html": [
       "<div>\n",
       "<style scoped>\n",
       "    .dataframe tbody tr th:only-of-type {\n",
       "        vertical-align: middle;\n",
       "    }\n",
       "\n",
       "    .dataframe tbody tr th {\n",
       "        vertical-align: top;\n",
       "    }\n",
       "\n",
       "    .dataframe thead th {\n",
       "        text-align: right;\n",
       "    }\n",
       "</style>\n",
       "<table border=\"1\" class=\"dataframe\">\n",
       "  <thead>\n",
       "    <tr style=\"text-align: right;\">\n",
       "      <th></th>\n",
       "      <th>PM10 [µg/m3]</th>\n",
       "    </tr>\n",
       "    <tr>\n",
       "      <th>DateTime</th>\n",
       "      <th></th>\n",
       "    </tr>\n",
       "  </thead>\n",
       "  <tbody>\n",
       "    <tr>\n",
       "      <th>2023-01-01</th>\n",
       "      <td>5.286964</td>\n",
       "    </tr>\n",
       "    <tr>\n",
       "      <th>2023-01-02</th>\n",
       "      <td>9.760145</td>\n",
       "    </tr>\n",
       "    <tr>\n",
       "      <th>2023-01-03</th>\n",
       "      <td>6.341196</td>\n",
       "    </tr>\n",
       "    <tr>\n",
       "      <th>2023-01-04</th>\n",
       "      <td>5.903058</td>\n",
       "    </tr>\n",
       "    <tr>\n",
       "      <th>2023-01-05</th>\n",
       "      <td>5.847499</td>\n",
       "    </tr>\n",
       "    <tr>\n",
       "      <th>...</th>\n",
       "      <td>...</td>\n",
       "    </tr>\n",
       "    <tr>\n",
       "      <th>2024-05-02</th>\n",
       "      <td>26.584463</td>\n",
       "    </tr>\n",
       "    <tr>\n",
       "      <th>2024-05-03</th>\n",
       "      <td>21.740682</td>\n",
       "    </tr>\n",
       "    <tr>\n",
       "      <th>2024-05-04</th>\n",
       "      <td>13.028461</td>\n",
       "    </tr>\n",
       "    <tr>\n",
       "      <th>2024-05-05</th>\n",
       "      <td>6.134574</td>\n",
       "    </tr>\n",
       "    <tr>\n",
       "      <th>2024-05-06</th>\n",
       "      <td>15.782037</td>\n",
       "    </tr>\n",
       "  </tbody>\n",
       "</table>\n",
       "<p>492 rows × 1 columns</p>\n",
       "</div>"
      ],
      "text/plain": [
       "           PM10 [µg/m3]\n",
       "DateTime               \n",
       "2023-01-01     5.286964\n",
       "2023-01-02     9.760145\n",
       "2023-01-03     6.341196\n",
       "2023-01-04     5.903058\n",
       "2023-01-05     5.847499\n",
       "...                 ...\n",
       "2024-05-02    26.584463\n",
       "2024-05-03    21.740682\n",
       "2024-05-04    13.028461\n",
       "2024-05-05     6.134574\n",
       "2024-05-06    15.782037\n",
       "\n",
       "[492 rows x 1 columns]"
      ]
     },
     "execution_count": 55,
     "metadata": {},
     "output_type": "execute_result"
    }
   ],
   "source": [
    "fi_oulu_pm10_days_df = round(fi_oulu_pm10_df.resample('D').mean(), 1)\n",
    "fi_oulu_pm10_days_df"
   ]
  },
  {
   "cell_type": "code",
   "execution_count": 58,
   "id": "8006efca-f48e-406f-a562-84e85ffb258c",
   "metadata": {},
   "outputs": [],
   "source": [
    "month_index = pd.date_range('2023-01-01', '2024-05-06', freq='M')"
   ]
  },
  {
   "cell_type": "code",
   "execution_count": 64,
   "id": "bbe7f08b-3ace-4831-bcc5-7d619bc17992",
   "metadata": {},
   "outputs": [
    {
     "data": {
      "text/plain": [
       "<matplotlib.legend.Legend at 0x159a710ca90>"
      ]
     },
     "execution_count": 64,
     "metadata": {},
     "output_type": "execute_result"
    },
    {
     "data": {
      "image/png": "[encoded data removed]",
      "text/plain": [
       "<Figure size 1000x500 with 1 Axes>"
      ]
     },
     "metadata": {},
     "output_type": "display_data"
    }
   ],
   "source": [
    "fig, ax = plt.subplots(figsize=(10,5))\n",
    "ax.grid(True)\n",
    "ax.set_title('Oulu PM10')\n",
    "ax.set_ylabel('[microg/m^3]')\n",
    "ax.set_xticks(month_index)\n",
    "ax.set_xticklabels(month_index, rotation=70)\n",
    "ax.xaxis.set_major_formatter(mdates.DateFormatter('%Y-%m'))\n",
    "plt_days = ax.plot(fi_oulu_pm10_days_df, linewidth=0.5, label='daily')\n",
    "#plt_months = ax.plot(fi_oulu_pm10_days_df['PM10'], label='monthly')\n",
    "plt.legend(loc='upper left')"
   ]
  },
  {
   "cell_type": "markdown",
   "id": "b6bd6631-c574-4541-91f8-3cf812fd37b9",
   "metadata": {},
   "source": [
    "We remove the negative values"
   ]
  },
  {
   "cell_type": "code",
   "execution_count": 62,
   "id": "04f8c24c-77b1-4f61-9685-d751ceb1123f",
   "metadata": {},
   "outputs": [],
   "source": [
    "fi_oulu_pm10_days_df[fi_oulu_pm10_days_df['PM10 [µg/m3]'] < 0.0] = 0.0"
   ]
  },
  {
   "cell_type": "code",
   "execution_count": 63,
   "id": "42639a1f-1b24-482c-bbae-8d8f2ee67d36",
   "metadata": {},
   "outputs": [
    {
     "data": {
      "text/html": [
       "<div>\n",
       "<style scoped>\n",
       "    .dataframe tbody tr th:only-of-type {\n",
       "        vertical-align: middle;\n",
       "    }\n",
       "\n",
       "    .dataframe tbody tr th {\n",
       "        vertical-align: top;\n",
       "    }\n",
       "\n",
       "    .dataframe thead th {\n",
       "        text-align: right;\n",
       "    }\n",
       "</style>\n",
       "<table border=\"1\" class=\"dataframe\">\n",
       "  <thead>\n",
       "    <tr style=\"text-align: right;\">\n",
       "      <th></th>\n",
       "      <th>PM10 [µg/m3]</th>\n",
       "    </tr>\n",
       "    <tr>\n",
       "      <th>DateTime</th>\n",
       "      <th></th>\n",
       "    </tr>\n",
       "  </thead>\n",
       "  <tbody>\n",
       "  </tbody>\n",
       "</table>\n",
       "</div>"
      ],
      "text/plain": [
       "Empty DataFrame\n",
       "Columns: [PM10 [µg/m3]]\n",
       "Index: []"
      ]
     },
     "execution_count": 63,
     "metadata": {},
     "output_type": "execute_result"
    }
   ],
   "source": [
    "fi_oulu_pm10_days_df[fi_oulu_pm10_days_df['PM10 [µg/m3]'] < 0.0]"
   ]
  },
  {
   "cell_type": "code",
   "execution_count": null,
   "id": "01740c24-4c7c-46c3-8ecb-bb55edf6634e",
   "metadata": {},
   "outputs": [],
   "source": []
  }
 ],
 "metadata": {
  "kernelspec": {
   "display_name": "Python 3 (ipykernel)",
   "language": "python",
   "name": "python3"
  },
  "language_info": {
   "codemirror_mode": {
    "name": "ipython",
    "version": 3
   },
   "file_extension": ".py",
   "mimetype": "text/x-python",
   "name": "python",
   "nbconvert_exporter": "python",
   "pygments_lexer": "ipython3",
   "version": "3.11.5"
  }
 },
 "nbformat": 4,
 "nbformat_minor": 5
}
