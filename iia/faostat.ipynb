{
 "cells": [
  {
   "cell_type": "markdown",
   "id": "cf6464df",
   "metadata": {},
   "source": [
    "# Faostat\n",
    "The Food and Agriculture Organization of the United Nation ([FAO](https://www.fao.org/faostat/en/#data/RL)) collects data about the production of food worldwide. The data is published and made available through the [Faostat](https://www.fao.org/faostat/en/#home) webservice. Among the different datasets available, there are the Crops and livestock products dataset and the Land Use and Land Cover datasets. The monitoring of food production and of the area dedicated or available worldwide is one of the main task of the FAO. The future food availability can be forecast from this statistical data and additional data of weather forecast and climate. The data is provided by country or by region. The data about land use and production is collected annualy through questionnaire. The data about land cover is derived from remote sensing products from NASA (MODIS) and ESA (Copernicus Climate Change Service) and the maps are available from the Climate Change Initiative - Land Cover ([CCI-LC](https://maps.elie.ucl.ac.be/CCI/viewer/)) website, an outcome of the [ESA Land Cover project](https://climate.esa.int/en/projects/land-cover/). "
   ]
  },
  {
   "cell_type": "code",
   "execution_count": 86,
   "id": "969ac04b-d11e-4203-9c6f-34545d8dc033",
   "metadata": {},
   "outputs": [
    {
     "name": "stdout",
     "output_type": "stream",
     "text": [
      "Python version: 3.11.5\n",
      "NumPy version: 1.25.2\n",
      "Pandas version: 2.1.1\n",
      "GDAL version: 3.7.2\n",
      "GeoPandas version: 0.14.0\n"
     ]
    }
   ],
   "source": [
    "import pandas as pd\n",
    "import numpy as np\n",
    "import math\n",
    "import matplotlib.pyplot as plt\n",
    "from matplotlib import dates\n",
    "import matplotlib.dates as mdates\n",
    "from osgeo import gdal, osr, ogr\n",
    "import geopandas as gpd\n",
    "from shapely.geometry import Point\n",
    "import warnings\n",
    "warnings.filterwarnings('ignore')\n",
    "from platform import python_version\n",
    "print(\"Python version: %s\"%python_version())\n",
    "print(\"NumPy version: %s\"%np.__version__)\n",
    "print(\"Pandas version: %s\"%pd.__version__)\n",
    "print('GDAL version: %s'%gdal.__version__)\n",
    "print(\"GeoPandas version: %s\"%gpd.__version__)"
   ]
  },
  {
   "cell_type": "markdown",
   "id": "674fbc17-4fc2-412b-8e83-b154f6bec3f4",
   "metadata": {},
   "source": [
    "## World maize and millet yield\n",
    "We download the data about the yield of maize and millet produced in the world from 1961 up to 2022. The dataset represents a time series. A visualization of the time series will allows us to see from a qualitative point of view whether there is a trend in the yield of these two important crops. From the Faostat website we select the [Crops and livestock products](https://www.fao.org/faostat/en/#data/QCL) dataset, and in particular the World region, the yield variable, the items maize (corn) and millet, and all the years. We download and store the CSV file.  "
   ]
  },
  {
   "cell_type": "code",
   "execution_count": 14,
   "id": "62093913-48b0-4b7b-a1fc-2eea61995cf9",
   "metadata": {},
   "outputs": [
    {
     "data": {
      "text/html": [
       "<div>\n",
       "<style scoped>\n",
       "    .dataframe tbody tr th:only-of-type {\n",
       "        vertical-align: middle;\n",
       "    }\n",
       "\n",
       "    .dataframe tbody tr th {\n",
       "        vertical-align: top;\n",
       "    }\n",
       "\n",
       "    .dataframe thead th {\n",
       "        text-align: right;\n",
       "    }\n",
       "</style>\n",
       "<table border=\"1\" class=\"dataframe\">\n",
       "  <thead>\n",
       "    <tr style=\"text-align: right;\">\n",
       "      <th></th>\n",
       "      <th>Domain Code</th>\n",
       "      <th>Domain</th>\n",
       "      <th>Area Code (M49)</th>\n",
       "      <th>Area</th>\n",
       "      <th>Element Code</th>\n",
       "      <th>Element</th>\n",
       "      <th>Item Code (CPC)</th>\n",
       "      <th>Item</th>\n",
       "      <th>Year Code</th>\n",
       "      <th>Year</th>\n",
       "      <th>Unit</th>\n",
       "      <th>Value</th>\n",
       "      <th>Flag</th>\n",
       "      <th>Flag Description</th>\n",
       "      <th>Note</th>\n",
       "    </tr>\n",
       "  </thead>\n",
       "  <tbody>\n",
       "    <tr>\n",
       "      <th>0</th>\n",
       "      <td>QCL</td>\n",
       "      <td>Crops and livestock products</td>\n",
       "      <td>1</td>\n",
       "      <td>World</td>\n",
       "      <td>5419</td>\n",
       "      <td>Yield</td>\n",
       "      <td>112</td>\n",
       "      <td>Maize (corn)</td>\n",
       "      <td>1961</td>\n",
       "      <td>1961</td>\n",
       "      <td>100 g/ha</td>\n",
       "      <td>19423</td>\n",
       "      <td>E</td>\n",
       "      <td>Estimated value</td>\n",
       "      <td>NaN</td>\n",
       "    </tr>\n",
       "    <tr>\n",
       "      <th>1</th>\n",
       "      <td>QCL</td>\n",
       "      <td>Crops and livestock products</td>\n",
       "      <td>1</td>\n",
       "      <td>World</td>\n",
       "      <td>5419</td>\n",
       "      <td>Yield</td>\n",
       "      <td>112</td>\n",
       "      <td>Maize (corn)</td>\n",
       "      <td>1962</td>\n",
       "      <td>1962</td>\n",
       "      <td>100 g/ha</td>\n",
       "      <td>19796</td>\n",
       "      <td>E</td>\n",
       "      <td>Estimated value</td>\n",
       "      <td>NaN</td>\n",
       "    </tr>\n",
       "    <tr>\n",
       "      <th>2</th>\n",
       "      <td>QCL</td>\n",
       "      <td>Crops and livestock products</td>\n",
       "      <td>1</td>\n",
       "      <td>World</td>\n",
       "      <td>5419</td>\n",
       "      <td>Yield</td>\n",
       "      <td>112</td>\n",
       "      <td>Maize (corn)</td>\n",
       "      <td>1963</td>\n",
       "      <td>1963</td>\n",
       "      <td>100 g/ha</td>\n",
       "      <td>20311</td>\n",
       "      <td>A</td>\n",
       "      <td>Official figure</td>\n",
       "      <td>NaN</td>\n",
       "    </tr>\n",
       "  </tbody>\n",
       "</table>\n",
       "</div>"
      ],
      "text/plain": [
       "  Domain Code                        Domain  Area Code (M49)   Area  \\\n",
       "0         QCL  Crops and livestock products                1  World   \n",
       "1         QCL  Crops and livestock products                1  World   \n",
       "2         QCL  Crops and livestock products                1  World   \n",
       "\n",
       "   Element Code Element  Item Code (CPC)          Item  Year Code  Year  \\\n",
       "0          5419   Yield              112  Maize (corn)       1961  1961   \n",
       "1          5419   Yield              112  Maize (corn)       1962  1962   \n",
       "2          5419   Yield              112  Maize (corn)       1963  1963   \n",
       "\n",
       "       Unit  Value Flag Flag Description  Note  \n",
       "0  100 g/ha  19423    E  Estimated value   NaN  \n",
       "1  100 g/ha  19796    E  Estimated value   NaN  \n",
       "2  100 g/ha  20311    A  Official figure   NaN  "
      ]
     },
     "execution_count": 14,
     "metadata": {},
     "output_type": "execute_result"
    }
   ],
   "source": [
    "path_fao_dataset = 'data/fao/FAOSTAT_maize_millet_world_yeld.csv'\n",
    "maize_millet_yeld_tmp_df = pd.read_csv(path_fao_dataset)\n",
    "maize_millet_yeld_tmp_df.head(3)"
   ]
  },
  {
   "cell_type": "markdown",
   "id": "f99b318b-a9c6-440f-8742-d38f70669b42",
   "metadata": {},
   "source": [
    "We select the data for the maize yeld"
   ]
  },
  {
   "cell_type": "code",
   "execution_count": 79,
   "id": "b3757ac5-c044-4802-aa35-c9736b3586b9",
   "metadata": {},
   "outputs": [
    {
     "data": {
      "text/html": [
       "<div>\n",
       "<style scoped>\n",
       "    .dataframe tbody tr th:only-of-type {\n",
       "        vertical-align: middle;\n",
       "    }\n",
       "\n",
       "    .dataframe tbody tr th {\n",
       "        vertical-align: top;\n",
       "    }\n",
       "\n",
       "    .dataframe thead th {\n",
       "        text-align: right;\n",
       "    }\n",
       "</style>\n",
       "<table border=\"1\" class=\"dataframe\">\n",
       "  <thead>\n",
       "    <tr style=\"text-align: right;\">\n",
       "      <th></th>\n",
       "      <th>Year</th>\n",
       "      <th>Yield (g/ha)</th>\n",
       "    </tr>\n",
       "  </thead>\n",
       "  <tbody>\n",
       "    <tr>\n",
       "      <th>0</th>\n",
       "      <td>1961</td>\n",
       "      <td>19423</td>\n",
       "    </tr>\n",
       "    <tr>\n",
       "      <th>1</th>\n",
       "      <td>1962</td>\n",
       "      <td>19796</td>\n",
       "    </tr>\n",
       "    <tr>\n",
       "      <th>2</th>\n",
       "      <td>1963</td>\n",
       "      <td>20311</td>\n",
       "    </tr>\n",
       "  </tbody>\n",
       "</table>\n",
       "</div>"
      ],
      "text/plain": [
       "   Year  Yield (g/ha)\n",
       "0  1961         19423\n",
       "1  1962         19796\n",
       "2  1963         20311"
      ]
     },
     "execution_count": 79,
     "metadata": {},
     "output_type": "execute_result"
    }
   ],
   "source": [
    "maize_yeld_df = maize_millet_yeld_tmp_df[maize_millet_yeld_tmp_df['Item']=='Maize (corn)'][['Year', 'Value']]\n",
    "maize_yeld_df.rename(columns={'Value':'Yield (g/ha)'}, inplace=True)\n",
    "maize_yeld_df.head(3)"
   ]
  },
  {
   "cell_type": "markdown",
   "id": "dc2d7094-7f71-48a4-bae5-aad513d68478",
   "metadata": {},
   "source": [
    "We set the year as index"
   ]
  },
  {
   "cell_type": "code",
   "execution_count": 80,
   "id": "4c7e204f-c9f5-46d4-9bd2-8c72287dd571",
   "metadata": {},
   "outputs": [
    {
     "data": {
      "text/html": [
       "<div>\n",
       "<style scoped>\n",
       "    .dataframe tbody tr th:only-of-type {\n",
       "        vertical-align: middle;\n",
       "    }\n",
       "\n",
       "    .dataframe tbody tr th {\n",
       "        vertical-align: top;\n",
       "    }\n",
       "\n",
       "    .dataframe thead th {\n",
       "        text-align: right;\n",
       "    }\n",
       "</style>\n",
       "<table border=\"1\" class=\"dataframe\">\n",
       "  <thead>\n",
       "    <tr style=\"text-align: right;\">\n",
       "      <th></th>\n",
       "      <th>Yield (g/ha)</th>\n",
       "    </tr>\n",
       "  </thead>\n",
       "  <tbody>\n",
       "    <tr>\n",
       "      <th>1961-12-31</th>\n",
       "      <td>19423</td>\n",
       "    </tr>\n",
       "    <tr>\n",
       "      <th>1962-12-31</th>\n",
       "      <td>19796</td>\n",
       "    </tr>\n",
       "    <tr>\n",
       "      <th>1963-12-31</th>\n",
       "      <td>20311</td>\n",
       "    </tr>\n",
       "  </tbody>\n",
       "</table>\n",
       "</div>"
      ],
      "text/plain": [
       "            Yield (g/ha)\n",
       "1961-12-31         19423\n",
       "1962-12-31         19796\n",
       "1963-12-31         20311"
      ]
     },
     "execution_count": 80,
     "metadata": {},
     "output_type": "execute_result"
    }
   ],
   "source": [
    "year_index = pd.date_range('1961', '2023', freq='Y')\n",
    "maize_yeld_df.set_index(year_index, inplace=True)\n",
    "maize_yeld_df.drop('Year', axis=1, inplace=True)\n",
    "maize_yeld_df.head(3)"
   ]
  },
  {
   "cell_type": "markdown",
   "id": "a6584daf-5218-4b87-881a-c8063ef2f837",
   "metadata": {},
   "source": [
    "Now we can plot the time series for the maize yield"
   ]
  },
  {
   "cell_type": "code",
   "execution_count": 90,
   "id": "6902c184-a107-4135-834b-7180684f1a49",
   "metadata": {},
   "outputs": [
    {
     "data": {
      "image/png": "[encoded data removed]",
      "text/plain": [
       "<Figure size 1000x500 with 1 Axes>"
      ]
     },
     "metadata": {},
     "output_type": "display_data"
    }
   ],
   "source": [
    "fig, ax = plt.subplots(figsize=(10,5))\n",
    "ax.grid(True)\n",
    "ax.set_title('World maize yield')\n",
    "ax.set_ylabel('Yield (g/ha)')\n",
    "ax.set_xticks(maize_yeld_df.index)\n",
    "ax.set_xticklabels(maize_yeld_df.index, rotation=70)\n",
    "ax.xaxis.set_major_locator(dates.YearLocator(3))\n",
    "ax.xaxis.set_major_formatter(mdates.DateFormatter('%Y'))\n",
    "plt_maize = ax.plot(maize_yeld_df, linewidth=0.5)\n",
    "#plt.legend(loc='upper left')"
   ]
  },
  {
   "cell_type": "markdown",
   "id": "bf23c515",
   "metadata": {},
   "source": [
    "## References\n",
    "* [FAO Land Statistics](https://www.fao.org/3/cb2860en/cb2860en.pdf)"
   ]
  },
  {
   "cell_type": "code",
   "execution_count": null,
   "id": "1a6dae94",
   "metadata": {},
   "outputs": [],
   "source": []
  }
 ],
 "metadata": {
  "kernelspec": {
   "display_name": "Python 3 (ipykernel)",
   "language": "python",
   "name": "python3"
  },
  "language_info": {
   "codemirror_mode": {
    "name": "ipython",
    "version": 3
   },
   "file_extension": ".py",
   "mimetype": "text/x-python",
   "name": "python",
   "nbconvert_exporter": "python",
   "pygments_lexer": "ipython3",
   "version": "3.11.5"
  }
 },
 "nbformat": 4,
 "nbformat_minor": 5
}
