{
 "cells": [
  {
   "cell_type": "markdown",
   "id": "cf6464df",
   "metadata": {},
   "source": [
    "# Faostat\n",
    "The Food and Agriculture Organization of the United Nation ([FAO](https://www.fao.org/faostat/en/#data/RL)) collects data about the production of food worldwide. The data is published and made available through the [Faostat](https://www.fao.org/faostat/en/#home) webservice. Among the different datasets available, there are the Crops and livestock products dataset and the Land Use and Land Cover datasets. The monitoring of food production and of the area dedicated or available worldwide is one of the main task of the FAO. The future food availability can be forecast from this statistical data and additional data of weather forecast and climate. The data is provided by country or by region. The data about land use and production is collected annualy through questionnaire. The data about land cover is derived from remote sensing products from NASA (MODIS) and ESA (Copernicus Climate Change Service) and the maps are available from the Climate Change Initiative - Land Cover ([CCI-LC](https://maps.elie.ucl.ac.be/CCI/viewer/)) website, an outcome of the [ESA Land Cover project](https://climate.esa.int/en/projects/land-cover/). "
   ]
  },
  {
   "cell_type": "markdown",
   "id": "bf23c515",
   "metadata": {},
   "source": [
    "## References\n",
    "* [FAO Land Statistics](https://www.fao.org/3/cb2860en/cb2860en.pdf)"
   ]
  },
  {
   "cell_type": "code",
   "execution_count": null,
   "id": "1a6dae94",
   "metadata": {},
   "outputs": [],
   "source": []
  }
 ],
 "metadata": {
  "kernelspec": {
   "display_name": "Python 3 (ipykernel)",
   "language": "python",
   "name": "python3"
  },
  "language_info": {
   "codemirror_mode": {
    "name": "ipython",
    "version": 3
   },
   "file_extension": ".py",
   "mimetype": "text/x-python",
   "name": "python",
   "nbconvert_exporter": "python",
   "pygments_lexer": "ipython3",
   "version": "3.11.5"
  }
 },
 "nbformat": 4,
 "nbformat_minor": 5
}
